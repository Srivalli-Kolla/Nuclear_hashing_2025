{
 "cells": [
  {
   "cell_type": "markdown",
   "metadata": {},
   "source": [
    "# Notebook for Annotation of clusters after `HTODemux`\n",
    "\n",
    "**Created by :** Srivalli Kolla\n",
    "\n",
    "**Created on :** 03 April, 2025\n",
    "\n",
    "**Modified on :** 03 April, 2025\n",
    "\n",
    "**University of Würzburg**"
   ]
  },
  {
   "cell_type": "markdown",
   "metadata": {},
   "source": [
    "Env : scanpy (Python 3.12.2)"
   ]
  },
  {
   "cell_type": "markdown",
   "metadata": {},
   "source": [
    "# Importing Packages"
   ]
  },
  {
   "cell_type": "code",
   "execution_count": 61,
   "metadata": {},
   "outputs": [],
   "source": [
    "import numpy as np\n",
    "import pandas as pd\n",
    "import scanpy as sc\n",
    "import seaborn as sb\n",
    "import datetime\n",
    "import matplotlib.pyplot as plt\n",
    "from matplotlib import colors\n",
    "from matplotlib import rcParams"
   ]
  },
  {
   "cell_type": "code",
   "execution_count": 62,
   "metadata": {},
   "outputs": [
    {
     "name": "stdout",
     "output_type": "stream",
     "text": [
      "-----\n",
      "anndata     0.11.3\n",
      "scanpy      1.10.4\n",
      "-----\n",
      "Cython                      3.0.12\n",
      "PIL                         11.1.0\n",
      "anyio                       NA\n",
      "arrow                       1.3.0\n",
      "asttokens                   NA\n",
      "attr                        25.1.0\n",
      "attrs                       25.1.0\n",
      "babel                       2.17.0\n",
      "certifi                     2025.01.31\n",
      "cffi                        1.17.1\n",
      "charset_normalizer          3.4.1\n",
      "colorama                    0.4.6\n",
      "comm                        0.2.2\n",
      "cycler                      0.12.1\n",
      "cython                      3.0.12\n",
      "cython_runtime              NA\n",
      "dateutil                    2.9.0.post0\n",
      "debugpy                     1.8.12\n",
      "decorator                   5.2.1\n",
      "defusedxml                  0.7.1\n",
      "executing                   2.1.0\n",
      "fastjsonschema              NA\n",
      "fqdn                        NA\n",
      "h5py                        3.13.0\n",
      "idna                        3.10\n",
      "igraph                      0.11.8\n",
      "ipykernel                   6.29.5\n",
      "ipywidgets                  8.1.5\n",
      "isoduration                 NA\n",
      "jedi                        0.19.2\n",
      "jinja2                      3.1.6\n",
      "joblib                      1.4.2\n",
      "json5                       0.10.0\n",
      "jsonpointer                 3.0.0\n",
      "jsonschema                  4.23.0\n",
      "jsonschema_specifications   NA\n",
      "jupyter_events              0.12.0\n",
      "jupyter_server              2.15.0\n",
      "jupyterlab_server           2.27.3\n",
      "kiwisolver                  1.4.7\n",
      "legacy_api_wrap             NA\n",
      "leidenalg                   0.10.2\n",
      "llvmlite                    0.44.0\n",
      "markupsafe                  3.0.2\n",
      "matplotlib                  3.10.1\n",
      "matplotlib_inline           0.1.7\n",
      "mpl_toolkits                NA\n",
      "natsort                     8.4.0\n",
      "nbformat                    5.10.4\n",
      "numba                       0.61.0\n",
      "numpy                       2.1.3\n",
      "overrides                   NA\n",
      "packaging                   24.2\n",
      "pandas                      2.2.3\n",
      "parso                       0.8.4\n",
      "patsy                       1.0.1\n",
      "platformdirs                4.3.6\n",
      "prometheus_client           NA\n",
      "prompt_toolkit              3.0.50\n",
      "psutil                      7.0.0\n",
      "pure_eval                   0.2.3\n",
      "pycparser                   2.22\n",
      "pydev_ipython               NA\n",
      "pydevconsole                NA\n",
      "pydevd                      3.2.3\n",
      "pydevd_file_utils           NA\n",
      "pydevd_plugins              NA\n",
      "pydevd_tracing              NA\n",
      "pygments                    2.19.1\n",
      "pynndescent                 0.5.13\n",
      "pyparsing                   3.2.1\n",
      "pythonjsonlogger            NA\n",
      "pytz                        2024.1\n",
      "referencing                 NA\n",
      "requests                    2.32.3\n",
      "rfc3339_validator           0.1.4\n",
      "rfc3986_validator           0.1.1\n",
      "rpds                        NA\n",
      "scipy                       1.15.2\n",
      "seaborn                     0.13.2\n",
      "send2trash                  NA\n",
      "session_info                1.0.0\n",
      "six                         1.17.0\n",
      "sklearn                     1.6.1\n",
      "sniffio                     1.3.1\n",
      "stack_data                  0.6.3\n",
      "statsmodels                 0.14.4\n",
      "texttable                   1.7.0\n",
      "threadpoolctl               3.5.0\n",
      "tornado                     6.4.2\n",
      "tqdm                        4.67.1\n",
      "traitlets                   5.14.3\n",
      "typing_extensions           NA\n",
      "umap                        0.5.7\n",
      "uri_template                NA\n",
      "urllib3                     2.3.0\n",
      "vscode                      NA\n",
      "wcwidth                     0.2.13\n",
      "webcolors                   NA\n",
      "websocket                   1.8.0\n",
      "yaml                        6.0.2\n",
      "zmq                         26.2.1\n",
      "-----\n",
      "IPython             9.0.1\n",
      "jupyter_client      8.6.3\n",
      "jupyter_core        5.7.2\n",
      "jupyterlab          4.3.6\n",
      "notebook            7.3.3\n",
      "-----\n",
      "Python 3.13.2 | packaged by conda-forge | (main, Feb 17 2025, 14:10:22) [GCC 13.3.0]\n",
      "Linux-6.13.5-200.fc41.x86_64-x86_64-with-glibc2.37\n",
      "-----\n",
      "Session information updated at 2025-04-03 11:28\n"
     ]
    },
    {
     "name": "stderr",
     "output_type": "stream",
     "text": [
      "/home/gruengroup/srivalli/miniconda3/envs/scanpy/lib/python3.13/site-packages/session_info/main.py:213: UserWarning: The '__version__' attribute is deprecated and will be removed in MarkupSafe 3.1. Use feature detection, or `importlib.metadata.version(\"markupsafe\")`, instead.\n",
      "  mod_version = _find_version(mod.__version__)\n"
     ]
    }
   ],
   "source": [
    "sc.settings.verbosity = 3\n",
    "sc.logging.print_versions()\n",
    "\n",
    "plt.rcParams['figure.dpi'] = 300  \n",
    "plt.rcParams['savefig.dpi'] = 300\n",
    "\n",
    "timestamp = datetime.datetime.now().strftime(\"%d_%m_%y\")"
   ]
  },
  {
   "cell_type": "markdown",
   "metadata": {},
   "source": [
    "# Data import"
   ]
  },
  {
   "cell_type": "code",
   "execution_count": 63,
   "metadata": {},
   "outputs": [
    {
     "data": {
      "text/plain": [
       "AnnData object with n_obs × n_vars = 13066 × 32285\n",
       "    obs: 'orig.ident', 'nCount_RNA', 'nFeature_RNA', 'nCount_HTO', 'nFeature_HTO', 'HTO_maxID', 'HTO_secondID', 'HTO_margin', 'HTO_classification', 'HTO_classification.global', 'hash.ID', 'ident', 'Sample', 'Sample-ID', 'Mouse-ID', 'Sex', 'Group', 'Ref hashtag', 'Nuclei Purification Method after Hashing', 'n_genes_by_counts', 'total_counts', 'total_counts_mt', 'pct_counts_mt', 'total_counts_ribo', 'pct_counts_ribo', 'leiden', 'percent_chrY', 'XIST-counts', 'XIST-percentage', 'gender_check_cov', 'S_score', 'G2M_score', 'phase'\n",
       "    var: 'mt', 'ribo', 'n_cells_by_counts', 'mean_counts', 'pct_dropout_by_counts', 'total_counts'\n",
       "    uns: 'Group_colors', 'Sample_colors', 'X_name', 'leiden', 'neighbors', 'pca'\n",
       "    obsm: 'X_pca'\n",
       "    varm: 'PCs'\n",
       "    layers: 'logcounts', 'raw_counts', 'sqrt_norm'\n",
       "    obsp: 'connectivities', 'distances'"
      ]
     },
     "execution_count": 63,
     "metadata": {},
     "output_type": "execute_result"
    }
   ],
   "source": [
    "adata = sc.read_h5ad('./Github/Nuclear_hashing_2025/data/demultiplexed_HTOdemux_raw_qc_checked_01_04_25.h5ad')\n",
    "adata"
   ]
  },
  {
   "cell_type": "code",
   "execution_count": 64,
   "metadata": {},
   "outputs": [
    {
     "data": {
      "text/html": [
       "<div>\n",
       "<style scoped>\n",
       "    .dataframe tbody tr th:only-of-type {\n",
       "        vertical-align: middle;\n",
       "    }\n",
       "\n",
       "    .dataframe tbody tr th {\n",
       "        vertical-align: top;\n",
       "    }\n",
       "\n",
       "    .dataframe thead th {\n",
       "        text-align: right;\n",
       "    }\n",
       "</style>\n",
       "<table border=\"1\" class=\"dataframe\">\n",
       "  <thead>\n",
       "    <tr style=\"text-align: right;\">\n",
       "      <th></th>\n",
       "      <th>orig.ident</th>\n",
       "      <th>nCount_RNA</th>\n",
       "      <th>nFeature_RNA</th>\n",
       "      <th>nCount_HTO</th>\n",
       "      <th>nFeature_HTO</th>\n",
       "      <th>HTO_maxID</th>\n",
       "      <th>HTO_secondID</th>\n",
       "      <th>HTO_margin</th>\n",
       "      <th>HTO_classification</th>\n",
       "      <th>HTO_classification.global</th>\n",
       "      <th>...</th>\n",
       "      <th>total_counts_ribo</th>\n",
       "      <th>pct_counts_ribo</th>\n",
       "      <th>leiden</th>\n",
       "      <th>percent_chrY</th>\n",
       "      <th>XIST-counts</th>\n",
       "      <th>XIST-percentage</th>\n",
       "      <th>gender_check_cov</th>\n",
       "      <th>S_score</th>\n",
       "      <th>G2M_score</th>\n",
       "      <th>phase</th>\n",
       "    </tr>\n",
       "  </thead>\n",
       "  <tbody>\n",
       "    <tr>\n",
       "      <th>AAACCAAAGGCGTCCA-1</th>\n",
       "      <td>SeuratProject</td>\n",
       "      <td>7966.0</td>\n",
       "      <td>2771</td>\n",
       "      <td>1928.0</td>\n",
       "      <td>8</td>\n",
       "      <td>TotalSeqB4</td>\n",
       "      <td>TotalSeqB9</td>\n",
       "      <td>0.377318</td>\n",
       "      <td>Hash4</td>\n",
       "      <td>Singlet</td>\n",
       "      <td>...</td>\n",
       "      <td>77.0</td>\n",
       "      <td>0.966608</td>\n",
       "      <td>15</td>\n",
       "      <td>0.037660</td>\n",
       "      <td>0.0</td>\n",
       "      <td>0.000000</td>\n",
       "      <td>Male</td>\n",
       "      <td>-0.221978</td>\n",
       "      <td>-0.146749</td>\n",
       "      <td>G1</td>\n",
       "    </tr>\n",
       "    <tr>\n",
       "      <th>AAACCAAAGTCATGGC-1</th>\n",
       "      <td>SeuratProject</td>\n",
       "      <td>6880.0</td>\n",
       "      <td>2845</td>\n",
       "      <td>2044.0</td>\n",
       "      <td>8</td>\n",
       "      <td>TotalSeqB6</td>\n",
       "      <td>TotalSeqB3</td>\n",
       "      <td>0.485888</td>\n",
       "      <td>Hash6</td>\n",
       "      <td>Singlet</td>\n",
       "      <td>...</td>\n",
       "      <td>73.0</td>\n",
       "      <td>1.061047</td>\n",
       "      <td>1</td>\n",
       "      <td>0.029070</td>\n",
       "      <td>1.0</td>\n",
       "      <td>0.014535</td>\n",
       "      <td>Male</td>\n",
       "      <td>-0.035825</td>\n",
       "      <td>-0.400962</td>\n",
       "      <td>G1</td>\n",
       "    </tr>\n",
       "    <tr>\n",
       "      <th>AAACCAAAGTTAGGCC-1</th>\n",
       "      <td>SeuratProject</td>\n",
       "      <td>16912.0</td>\n",
       "      <td>4274</td>\n",
       "      <td>2176.0</td>\n",
       "      <td>8</td>\n",
       "      <td>TotalSeqB4</td>\n",
       "      <td>TotalSeqB9</td>\n",
       "      <td>0.664448</td>\n",
       "      <td>Hash4</td>\n",
       "      <td>Singlet</td>\n",
       "      <td>...</td>\n",
       "      <td>86.0</td>\n",
       "      <td>0.508515</td>\n",
       "      <td>2</td>\n",
       "      <td>0.059130</td>\n",
       "      <td>0.0</td>\n",
       "      <td>0.000000</td>\n",
       "      <td>Male</td>\n",
       "      <td>0.026665</td>\n",
       "      <td>-0.620487</td>\n",
       "      <td>S</td>\n",
       "    </tr>\n",
       "    <tr>\n",
       "      <th>AAACCATTCCATCGAA-1</th>\n",
       "      <td>SeuratProject</td>\n",
       "      <td>5731.0</td>\n",
       "      <td>1707</td>\n",
       "      <td>2045.0</td>\n",
       "      <td>8</td>\n",
       "      <td>TotalSeqB8</td>\n",
       "      <td>TotalSeqB6</td>\n",
       "      <td>0.597086</td>\n",
       "      <td>Hash8</td>\n",
       "      <td>Singlet</td>\n",
       "      <td>...</td>\n",
       "      <td>51.0</td>\n",
       "      <td>0.889897</td>\n",
       "      <td>15</td>\n",
       "      <td>0.000000</td>\n",
       "      <td>7.0</td>\n",
       "      <td>0.122143</td>\n",
       "      <td>Female</td>\n",
       "      <td>0.081662</td>\n",
       "      <td>-0.006953</td>\n",
       "      <td>S</td>\n",
       "    </tr>\n",
       "    <tr>\n",
       "      <th>AAACCATTCCCATGAA-1</th>\n",
       "      <td>SeuratProject</td>\n",
       "      <td>12396.0</td>\n",
       "      <td>3906</td>\n",
       "      <td>1374.0</td>\n",
       "      <td>8</td>\n",
       "      <td>TotalSeqB4</td>\n",
       "      <td>TotalSeqB6</td>\n",
       "      <td>0.658417</td>\n",
       "      <td>Hash4</td>\n",
       "      <td>Singlet</td>\n",
       "      <td>...</td>\n",
       "      <td>81.0</td>\n",
       "      <td>0.653437</td>\n",
       "      <td>0</td>\n",
       "      <td>0.048403</td>\n",
       "      <td>0.0</td>\n",
       "      <td>0.000000</td>\n",
       "      <td>Male</td>\n",
       "      <td>0.211747</td>\n",
       "      <td>-0.344022</td>\n",
       "      <td>S</td>\n",
       "    </tr>\n",
       "    <tr>\n",
       "      <th>...</th>\n",
       "      <td>...</td>\n",
       "      <td>...</td>\n",
       "      <td>...</td>\n",
       "      <td>...</td>\n",
       "      <td>...</td>\n",
       "      <td>...</td>\n",
       "      <td>...</td>\n",
       "      <td>...</td>\n",
       "      <td>...</td>\n",
       "      <td>...</td>\n",
       "      <td>...</td>\n",
       "      <td>...</td>\n",
       "      <td>...</td>\n",
       "      <td>...</td>\n",
       "      <td>...</td>\n",
       "      <td>...</td>\n",
       "      <td>...</td>\n",
       "      <td>...</td>\n",
       "      <td>...</td>\n",
       "      <td>...</td>\n",
       "      <td>...</td>\n",
       "    </tr>\n",
       "    <tr>\n",
       "      <th>TGTGTTAGTTACACCG-1</th>\n",
       "      <td>SeuratProject</td>\n",
       "      <td>11820.0</td>\n",
       "      <td>3483</td>\n",
       "      <td>2200.0</td>\n",
       "      <td>8</td>\n",
       "      <td>TotalSeqB3</td>\n",
       "      <td>TotalSeqB8</td>\n",
       "      <td>0.147143</td>\n",
       "      <td>Hash3</td>\n",
       "      <td>Singlet</td>\n",
       "      <td>...</td>\n",
       "      <td>63.0</td>\n",
       "      <td>0.532995</td>\n",
       "      <td>2</td>\n",
       "      <td>0.093063</td>\n",
       "      <td>0.0</td>\n",
       "      <td>0.000000</td>\n",
       "      <td>Male</td>\n",
       "      <td>0.076678</td>\n",
       "      <td>-0.160174</td>\n",
       "      <td>S</td>\n",
       "    </tr>\n",
       "    <tr>\n",
       "      <th>TGTGTTGAGCAAGGCA-1</th>\n",
       "      <td>SeuratProject</td>\n",
       "      <td>15725.0</td>\n",
       "      <td>4708</td>\n",
       "      <td>1760.0</td>\n",
       "      <td>8</td>\n",
       "      <td>TotalSeqB7</td>\n",
       "      <td>TotalSeqB6</td>\n",
       "      <td>0.533907</td>\n",
       "      <td>Hash7</td>\n",
       "      <td>Singlet</td>\n",
       "      <td>...</td>\n",
       "      <td>174.0</td>\n",
       "      <td>1.106518</td>\n",
       "      <td>0</td>\n",
       "      <td>0.006359</td>\n",
       "      <td>36.0</td>\n",
       "      <td>0.228935</td>\n",
       "      <td>Female</td>\n",
       "      <td>-0.367005</td>\n",
       "      <td>-0.438076</td>\n",
       "      <td>G1</td>\n",
       "    </tr>\n",
       "    <tr>\n",
       "      <th>TGTGTTGAGCTAACCA-1</th>\n",
       "      <td>SeuratProject</td>\n",
       "      <td>16178.0</td>\n",
       "      <td>4236</td>\n",
       "      <td>1872.0</td>\n",
       "      <td>8</td>\n",
       "      <td>TotalSeqB4</td>\n",
       "      <td>TotalSeqB8</td>\n",
       "      <td>0.949875</td>\n",
       "      <td>Hash4</td>\n",
       "      <td>Singlet</td>\n",
       "      <td>...</td>\n",
       "      <td>75.0</td>\n",
       "      <td>0.463593</td>\n",
       "      <td>11</td>\n",
       "      <td>0.117443</td>\n",
       "      <td>0.0</td>\n",
       "      <td>0.000000</td>\n",
       "      <td>Male</td>\n",
       "      <td>-0.303990</td>\n",
       "      <td>-0.380195</td>\n",
       "      <td>G1</td>\n",
       "    </tr>\n",
       "    <tr>\n",
       "      <th>TGTGTTGAGTACGCAC-1</th>\n",
       "      <td>SeuratProject</td>\n",
       "      <td>5921.0</td>\n",
       "      <td>2736</td>\n",
       "      <td>2001.0</td>\n",
       "      <td>8</td>\n",
       "      <td>TotalSeqB4</td>\n",
       "      <td>TotalSeqB8</td>\n",
       "      <td>0.096781</td>\n",
       "      <td>Hash4</td>\n",
       "      <td>Singlet</td>\n",
       "      <td>...</td>\n",
       "      <td>58.0</td>\n",
       "      <td>0.979564</td>\n",
       "      <td>1</td>\n",
       "      <td>0.050667</td>\n",
       "      <td>0.0</td>\n",
       "      <td>0.000000</td>\n",
       "      <td>Male</td>\n",
       "      <td>-0.388401</td>\n",
       "      <td>-0.571419</td>\n",
       "      <td>G1</td>\n",
       "    </tr>\n",
       "    <tr>\n",
       "      <th>TGTGTTGAGTCGCTCC-1</th>\n",
       "      <td>SeuratProject</td>\n",
       "      <td>17433.0</td>\n",
       "      <td>5058</td>\n",
       "      <td>1814.0</td>\n",
       "      <td>8</td>\n",
       "      <td>TotalSeqB4</td>\n",
       "      <td>TotalSeqB7</td>\n",
       "      <td>0.370650</td>\n",
       "      <td>Hash4</td>\n",
       "      <td>Singlet</td>\n",
       "      <td>...</td>\n",
       "      <td>72.0</td>\n",
       "      <td>0.413010</td>\n",
       "      <td>0</td>\n",
       "      <td>0.040154</td>\n",
       "      <td>17.0</td>\n",
       "      <td>0.097516</td>\n",
       "      <td>Female</td>\n",
       "      <td>-0.573753</td>\n",
       "      <td>-0.427283</td>\n",
       "      <td>G1</td>\n",
       "    </tr>\n",
       "  </tbody>\n",
       "</table>\n",
       "<p>13066 rows × 33 columns</p>\n",
       "</div>"
      ],
      "text/plain": [
       "                       orig.ident  nCount_RNA  nFeature_RNA  nCount_HTO  \\\n",
       "AAACCAAAGGCGTCCA-1  SeuratProject      7966.0          2771      1928.0   \n",
       "AAACCAAAGTCATGGC-1  SeuratProject      6880.0          2845      2044.0   \n",
       "AAACCAAAGTTAGGCC-1  SeuratProject     16912.0          4274      2176.0   \n",
       "AAACCATTCCATCGAA-1  SeuratProject      5731.0          1707      2045.0   \n",
       "AAACCATTCCCATGAA-1  SeuratProject     12396.0          3906      1374.0   \n",
       "...                           ...         ...           ...         ...   \n",
       "TGTGTTAGTTACACCG-1  SeuratProject     11820.0          3483      2200.0   \n",
       "TGTGTTGAGCAAGGCA-1  SeuratProject     15725.0          4708      1760.0   \n",
       "TGTGTTGAGCTAACCA-1  SeuratProject     16178.0          4236      1872.0   \n",
       "TGTGTTGAGTACGCAC-1  SeuratProject      5921.0          2736      2001.0   \n",
       "TGTGTTGAGTCGCTCC-1  SeuratProject     17433.0          5058      1814.0   \n",
       "\n",
       "                    nFeature_HTO   HTO_maxID HTO_secondID  HTO_margin  \\\n",
       "AAACCAAAGGCGTCCA-1             8  TotalSeqB4   TotalSeqB9    0.377318   \n",
       "AAACCAAAGTCATGGC-1             8  TotalSeqB6   TotalSeqB3    0.485888   \n",
       "AAACCAAAGTTAGGCC-1             8  TotalSeqB4   TotalSeqB9    0.664448   \n",
       "AAACCATTCCATCGAA-1             8  TotalSeqB8   TotalSeqB6    0.597086   \n",
       "AAACCATTCCCATGAA-1             8  TotalSeqB4   TotalSeqB6    0.658417   \n",
       "...                          ...         ...          ...         ...   \n",
       "TGTGTTAGTTACACCG-1             8  TotalSeqB3   TotalSeqB8    0.147143   \n",
       "TGTGTTGAGCAAGGCA-1             8  TotalSeqB7   TotalSeqB6    0.533907   \n",
       "TGTGTTGAGCTAACCA-1             8  TotalSeqB4   TotalSeqB8    0.949875   \n",
       "TGTGTTGAGTACGCAC-1             8  TotalSeqB4   TotalSeqB8    0.096781   \n",
       "TGTGTTGAGTCGCTCC-1             8  TotalSeqB4   TotalSeqB7    0.370650   \n",
       "\n",
       "                   HTO_classification HTO_classification.global  ...  \\\n",
       "AAACCAAAGGCGTCCA-1              Hash4                   Singlet  ...   \n",
       "AAACCAAAGTCATGGC-1              Hash6                   Singlet  ...   \n",
       "AAACCAAAGTTAGGCC-1              Hash4                   Singlet  ...   \n",
       "AAACCATTCCATCGAA-1              Hash8                   Singlet  ...   \n",
       "AAACCATTCCCATGAA-1              Hash4                   Singlet  ...   \n",
       "...                               ...                       ...  ...   \n",
       "TGTGTTAGTTACACCG-1              Hash3                   Singlet  ...   \n",
       "TGTGTTGAGCAAGGCA-1              Hash7                   Singlet  ...   \n",
       "TGTGTTGAGCTAACCA-1              Hash4                   Singlet  ...   \n",
       "TGTGTTGAGTACGCAC-1              Hash4                   Singlet  ...   \n",
       "TGTGTTGAGTCGCTCC-1              Hash4                   Singlet  ...   \n",
       "\n",
       "                   total_counts_ribo pct_counts_ribo leiden  percent_chrY  \\\n",
       "AAACCAAAGGCGTCCA-1              77.0        0.966608     15      0.037660   \n",
       "AAACCAAAGTCATGGC-1              73.0        1.061047      1      0.029070   \n",
       "AAACCAAAGTTAGGCC-1              86.0        0.508515      2      0.059130   \n",
       "AAACCATTCCATCGAA-1              51.0        0.889897     15      0.000000   \n",
       "AAACCATTCCCATGAA-1              81.0        0.653437      0      0.048403   \n",
       "...                              ...             ...    ...           ...   \n",
       "TGTGTTAGTTACACCG-1              63.0        0.532995      2      0.093063   \n",
       "TGTGTTGAGCAAGGCA-1             174.0        1.106518      0      0.006359   \n",
       "TGTGTTGAGCTAACCA-1              75.0        0.463593     11      0.117443   \n",
       "TGTGTTGAGTACGCAC-1              58.0        0.979564      1      0.050667   \n",
       "TGTGTTGAGTCGCTCC-1              72.0        0.413010      0      0.040154   \n",
       "\n",
       "                   XIST-counts XIST-percentage gender_check_cov   S_score  \\\n",
       "AAACCAAAGGCGTCCA-1         0.0        0.000000             Male -0.221978   \n",
       "AAACCAAAGTCATGGC-1         1.0        0.014535             Male -0.035825   \n",
       "AAACCAAAGTTAGGCC-1         0.0        0.000000             Male  0.026665   \n",
       "AAACCATTCCATCGAA-1         7.0        0.122143           Female  0.081662   \n",
       "AAACCATTCCCATGAA-1         0.0        0.000000             Male  0.211747   \n",
       "...                        ...             ...              ...       ...   \n",
       "TGTGTTAGTTACACCG-1         0.0        0.000000             Male  0.076678   \n",
       "TGTGTTGAGCAAGGCA-1        36.0        0.228935           Female -0.367005   \n",
       "TGTGTTGAGCTAACCA-1         0.0        0.000000             Male -0.303990   \n",
       "TGTGTTGAGTACGCAC-1         0.0        0.000000             Male -0.388401   \n",
       "TGTGTTGAGTCGCTCC-1        17.0        0.097516           Female -0.573753   \n",
       "\n",
       "                   G2M_score  phase  \n",
       "AAACCAAAGGCGTCCA-1 -0.146749     G1  \n",
       "AAACCAAAGTCATGGC-1 -0.400962     G1  \n",
       "AAACCAAAGTTAGGCC-1 -0.620487      S  \n",
       "AAACCATTCCATCGAA-1 -0.006953      S  \n",
       "AAACCATTCCCATGAA-1 -0.344022      S  \n",
       "...                      ...    ...  \n",
       "TGTGTTAGTTACACCG-1 -0.160174      S  \n",
       "TGTGTTGAGCAAGGCA-1 -0.438076     G1  \n",
       "TGTGTTGAGCTAACCA-1 -0.380195     G1  \n",
       "TGTGTTGAGTACGCAC-1 -0.571419     G1  \n",
       "TGTGTTGAGTCGCTCC-1 -0.427283     G1  \n",
       "\n",
       "[13066 rows x 33 columns]"
      ]
     },
     "execution_count": 64,
     "metadata": {},
     "output_type": "execute_result"
    }
   ],
   "source": [
    "adata.obs"
   ]
  },
  {
   "cell_type": "markdown",
   "metadata": {},
   "source": [
    "#### Check if data is raw or Normalized"
   ]
  },
  {
   "cell_type": "code",
   "execution_count": 65,
   "metadata": {},
   "outputs": [],
   "source": [
    "def X_is_raw(adata):\n",
    "    return np.array_equal(adata.X.sum(axis=0).astype(int), adata.X.sum(axis=0))"
   ]
  },
  {
   "cell_type": "code",
   "execution_count": 66,
   "metadata": {},
   "outputs": [
    {
     "name": "stdout",
     "output_type": "stream",
     "text": [
      "True\n"
     ]
    }
   ],
   "source": [
    "print(X_is_raw(adata))"
   ]
  },
  {
   "cell_type": "markdown",
   "metadata": {},
   "source": [
    "# Annotation - Overall"
   ]
  },
  {
   "cell_type": "markdown",
   "metadata": {},
   "source": [
    "## Normalization"
   ]
  },
  {
   "cell_type": "code",
   "execution_count": 67,
   "metadata": {},
   "outputs": [
    {
     "name": "stdout",
     "output_type": "stream",
     "text": [
      "normalizing counts per cell\n",
      "    finished (0:00:00)\n"
     ]
    }
   ],
   "source": [
    "sc.pp.normalize_total(adata, target_sum=1e6)\n",
    "sc.pp.log1p(adata)"
   ]
  },
  {
   "cell_type": "code",
   "execution_count": 68,
   "metadata": {},
   "outputs": [
    {
     "name": "stdout",
     "output_type": "stream",
     "text": [
      "False\n"
     ]
    }
   ],
   "source": [
    "print(X_is_raw(adata))"
   ]
  },
  {
   "cell_type": "code",
   "execution_count": 69,
   "metadata": {},
   "outputs": [],
   "source": [
    "adata.layers['cpm_normalization'] = adata.X.copy()"
   ]
  },
  {
   "cell_type": "markdown",
   "metadata": {},
   "source": [
    "## Clustering"
   ]
  },
  {
   "cell_type": "code",
   "execution_count": 10,
   "metadata": {},
   "outputs": [
    {
     "name": "stdout",
     "output_type": "stream",
     "text": [
      "computing neighbors\n",
      "    using 'X_pca' with n_pcs = 50\n",
      "    finished: added to `.uns['neighbors']`\n",
      "    `.obsp['distances']`, distances for each pair of neighbors\n",
      "    `.obsp['connectivities']`, weighted adjacency matrix (0:00:01)\n",
      "computing UMAP\n"
     ]
    }
   ],
   "source": [
    "sc.pp.neighbors(adata,n_pcs=50)\n",
    "sc.tl.umap(adata)  "
   ]
  },
  {
   "cell_type": "code",
   "execution_count": null,
   "metadata": {},
   "outputs": [],
   "source": [
    "sc.pl.umap(adata, color='HTO_classification', frameon = False,layer = 'cpm_normalization' )"
   ]
  },
  {
   "cell_type": "code",
   "execution_count": null,
   "metadata": {},
   "outputs": [],
   "source": [
    "sc.pl.umap(adata,color= ['Sex', 'Group', 'HTO_classification', 'Sample'], frameon = False,layer = 'cpm_normalization' )"
   ]
  },
  {
   "cell_type": "code",
   "execution_count": null,
   "metadata": {},
   "outputs": [],
   "source": [
    "sc.pl.umap(adata,color= ['Ttn','Myh6','Dcn','Col1a1','Pecam1','Cdh5','Myh11','Acta2', 'Spta1','Stat1'],frameon = False, layer = 'cpm_normalization' , cmap= 'RdYlBu')"
   ]
  },
  {
   "cell_type": "markdown",
   "metadata": {},
   "source": [
    "## Differentially expressed genes"
   ]
  },
  {
   "cell_type": "code",
   "execution_count": null,
   "metadata": {},
   "outputs": [],
   "source": [
    "sc.tl.rank_genes_groups(adata, groupby=\"leiden\", method=\"wilcoxon\",use_raw= False)\n",
    "sc.pl.rank_genes_groups(adata, n_genes=10, sharey=False,layer = 'cpm_normalization',groupby=\"leiden\" )  "
   ]
  },
  {
   "cell_type": "code",
   "execution_count": null,
   "metadata": {},
   "outputs": [],
   "source": [
    "deg_df = pd.DataFrame(adata.uns[\"rank_genes_groups\"][\"names\"]).head(10)  \n",
    "print(deg_df)"
   ]
  },
  {
   "cell_type": "code",
   "execution_count": 19,
   "metadata": {},
   "outputs": [],
   "source": [
    "deg_df.to_csv(f'./Github/Nuclear_hashing_2025/Demultiplexing_R/DE_genes_HTODemux_raw_all_{timestamp}.csv',sep=',')"
   ]
  },
  {
   "cell_type": "markdown",
   "metadata": {},
   "source": [
    "# Annotation - MCMV"
   ]
  },
  {
   "cell_type": "code",
   "execution_count": null,
   "metadata": {},
   "outputs": [],
   "source": [
    "mcmv  = adata[adata.obs['Group'] == 'MCMV'].copy()\n",
    "mcmv"
   ]
  },
  {
   "cell_type": "markdown",
   "metadata": {},
   "source": [
    "## Clustering"
   ]
  },
  {
   "cell_type": "code",
   "execution_count": null,
   "metadata": {},
   "outputs": [],
   "source": [
    "sc.pp.neighbors(mcmv)\n",
    "sc.tl.leiden(mcmv, resolution=0.5)\n",
    "sc.tl.umap(mcmv)  \n",
    "sc.pl.umap(mcmv, color=\"leiden\", frameon = False,layer = 'cpm_normalization' )"
   ]
  },
  {
   "cell_type": "code",
   "execution_count": null,
   "metadata": {},
   "outputs": [],
   "source": [
    "sc.pl.umap(mcmv, color='HTO_classification', frameon = False,layer = 'cpm_normalization' )"
   ]
  },
  {
   "cell_type": "code",
   "execution_count": null,
   "metadata": {},
   "outputs": [],
   "source": [
    "sc.pl.umap(mcmv,color= ['Sex', 'Group', 'HTO_classification', 'Sample'], frameon = False,layer = 'cpm_normalization' )"
   ]
  },
  {
   "cell_type": "code",
   "execution_count": null,
   "metadata": {},
   "outputs": [],
   "source": [
    "sc.pl.umap(mcmv,color= ['Ttn','Myh6','Dcn','Col1a1','Pecam1','Cdh5','Myh11','Acta2', 'Spta1','Stat1'],frameon = False, layer = 'cpm_normalization' , cmap= 'RdYlBu')"
   ]
  },
  {
   "cell_type": "markdown",
   "metadata": {},
   "source": [
    "## Differentially expressed genes"
   ]
  },
  {
   "cell_type": "code",
   "execution_count": null,
   "metadata": {},
   "outputs": [],
   "source": [
    "sc.tl.rank_genes_groups(mcmv, groupby=\"leiden\", method=\"wilcoxon\",use_raw= False)\n",
    "sc.pl.rank_genes_groups(mcmv, n_genes=10, sharey=False,layer = 'cpm_normalization',groupby=\"leiden\" ) "
   ]
  },
  {
   "cell_type": "code",
   "execution_count": null,
   "metadata": {},
   "outputs": [],
   "source": [
    "deg_df = pd.DataFrame(mcmv.uns[\"rank_genes_groups\"][\"names\"]).head(10)  \n",
    "print(deg_df)"
   ]
  },
  {
   "cell_type": "code",
   "execution_count": 57,
   "metadata": {},
   "outputs": [],
   "source": [
    "deg_df.to_csv(f'./Github/Nuclear_hashing_2025/Demultiplexing_R/DE_genes_HTODemux_raw_mcmv_{timestamp}.csv',sep=',')"
   ]
  },
  {
   "cell_type": "markdown",
   "metadata": {},
   "source": [
    "# Annotation - Non Infectious"
   ]
  },
  {
   "cell_type": "code",
   "execution_count": null,
   "metadata": {},
   "outputs": [],
   "source": [
    "noninf  = adata[adata.obs['Group'] == 'noninf'].copy()\n",
    "noninf"
   ]
  },
  {
   "cell_type": "markdown",
   "metadata": {},
   "source": [
    "## Clustering"
   ]
  },
  {
   "cell_type": "code",
   "execution_count": null,
   "metadata": {},
   "outputs": [],
   "source": [
    "sc.pp.neighbors(noninf)\n",
    "sc.tl.leiden(noninf, resolution=0.5)\n",
    "sc.tl.umap(noninf)  \n",
    "sc.pl.umap(noninf, color=\"leiden\", frameon = False,layer = 'cpm_normalization' )"
   ]
  },
  {
   "cell_type": "code",
   "execution_count": null,
   "metadata": {},
   "outputs": [],
   "source": [
    "sc.pl.umap(noninf, color='HTO_classification', frameon = False,layer = 'cpm_normalization' )"
   ]
  },
  {
   "cell_type": "code",
   "execution_count": null,
   "metadata": {},
   "outputs": [],
   "source": [
    "sc.pl.umap(noninf,color= ['Sex', 'Group', 'HTO_classification', 'Sample'], frameon = False,layer = 'cpm_normalization' )"
   ]
  },
  {
   "cell_type": "code",
   "execution_count": null,
   "metadata": {},
   "outputs": [],
   "source": [
    "sc.pl.umap(noninf,color= ['Ttn','Myh6','Dcn','Col1a1','Pecam1','Cdh5','Myh11','Acta2', 'Spta1','Stat1'],frameon = False, layer = 'cpm_normalization' , cmap= 'RdYlBu')"
   ]
  },
  {
   "cell_type": "markdown",
   "metadata": {},
   "source": [
    "## Differentially expressed genes"
   ]
  },
  {
   "cell_type": "code",
   "execution_count": null,
   "metadata": {},
   "outputs": [],
   "source": [
    "sc.tl.rank_genes_groups(noninf, groupby=\"leiden\", method=\"wilcoxon\",use_raw= False)\n",
    "sc.pl.rank_genes_groups(noninf, n_genes=10, sharey=False,layer = 'cpm_normalization',groupby=\"leiden\" ) "
   ]
  },
  {
   "cell_type": "code",
   "execution_count": null,
   "metadata": {},
   "outputs": [],
   "source": [
    "deg_df = pd.DataFrame(noninf.uns[\"rank_genes_groups\"][\"names\"]).head(10)  \n",
    "print(deg_df)"
   ]
  },
  {
   "cell_type": "code",
   "execution_count": 65,
   "metadata": {},
   "outputs": [],
   "source": [
    "deg_df.to_csv(f'./Github/Nuclear_hashing_2025/Demultiplexing_R/DE_genes_HTODemux_raw_noninf_{timestamp}.csv',sep=',')"
   ]
  }
 ],
 "metadata": {
  "kernelspec": {
   "display_name": "scanpy",
   "language": "python",
   "name": "pyscenic"
  },
  "language_info": {
   "codemirror_mode": {
    "name": "ipython",
    "version": 3
   },
   "file_extension": ".py",
   "mimetype": "text/x-python",
   "name": "python",
   "nbconvert_exporter": "python",
   "pygments_lexer": "ipython3",
   "version": "3.13.2"
  }
 },
 "nbformat": 4,
 "nbformat_minor": 2
}
