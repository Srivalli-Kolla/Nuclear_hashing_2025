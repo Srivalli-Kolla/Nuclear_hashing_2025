{
 "cells": [
  {
   "cell_type": "markdown",
   "metadata": {},
   "source": [
    "# Notebook for Annotation of clusters after `HTODemux` - from markers to clusters after removal batch effects using `BBKNNN`\n",
    "\n",
    "**Created by :** Srivalli Kolla\n",
    "\n",
    "**Created on :** 22 April, 2025\n",
    "\n",
    "**Modified on :** 10 May, 2025\n",
    "\n",
    "**University of Würzburg**"
   ]
  },
  {
   "cell_type": "markdown",
   "metadata": {},
   "source": [
    "Env : scanpy (Python 3.12.2)"
   ]
  },
  {
   "cell_type": "markdown",
   "metadata": {},
   "source": [
    "# Importing Packages"
   ]
  },
  {
   "cell_type": "code",
   "execution_count": 93,
   "metadata": {},
   "outputs": [],
   "source": [
    "import numpy as np\n",
    "import pandas as pd\n",
    "import scanpy as sc\n",
    "import seaborn as sb\n",
    "import bbknn\n",
    "import datetime\n",
    "import matplotlib.pyplot as plt\n",
    "from matplotlib import colors\n",
    "from matplotlib import rcParams"
   ]
  },
  {
   "cell_type": "code",
   "execution_count": 94,
   "metadata": {},
   "outputs": [
    {
     "name": "stdout",
     "output_type": "stream",
     "text": [
      "-----\n",
      "anndata     0.11.3\n",
      "scanpy      1.10.4\n",
      "-----\n",
      "Cython                      3.0.12\n",
      "PIL                         11.1.0\n",
      "annoy                       NA\n",
      "anyio                       NA\n",
      "arrow                       1.3.0\n",
      "asttokens                   NA\n",
      "attr                        25.1.0\n",
      "attrs                       25.1.0\n",
      "babel                       2.17.0\n",
      "bbknn                       1.6.0\n",
      "certifi                     2025.01.31\n",
      "cffi                        1.17.1\n",
      "charset_normalizer          3.4.1\n",
      "colorama                    0.4.6\n",
      "comm                        0.2.2\n",
      "cycler                      0.12.1\n",
      "cython                      3.0.12\n",
      "cython_runtime              NA\n",
      "dateutil                    2.9.0.post0\n",
      "debugpy                     1.8.12\n",
      "decorator                   5.2.1\n",
      "defusedxml                  0.7.1\n",
      "executing                   2.1.0\n",
      "fastjsonschema              NA\n",
      "fqdn                        NA\n",
      "h5py                        3.13.0\n",
      "idna                        3.10\n",
      "igraph                      0.11.8\n",
      "ipykernel                   6.29.5\n",
      "ipywidgets                  8.1.5\n",
      "isoduration                 NA\n",
      "jedi                        0.19.2\n",
      "jinja2                      3.1.6\n",
      "joblib                      1.4.2\n",
      "json5                       0.10.0\n",
      "jsonpointer                 3.0.0\n",
      "jsonschema                  4.23.0\n",
      "jsonschema_specifications   NA\n",
      "jupyter_events              0.12.0\n",
      "jupyter_server              2.15.0\n",
      "jupyterlab_server           2.27.3\n",
      "kiwisolver                  1.4.7\n",
      "legacy_api_wrap             NA\n",
      "leidenalg                   0.10.2\n",
      "llvmlite                    0.44.0\n",
      "markupsafe                  3.0.2\n",
      "matplotlib                  3.10.1\n",
      "matplotlib_inline           0.1.7\n",
      "mpl_toolkits                NA\n",
      "natsort                     8.4.0\n",
      "nbformat                    5.10.4\n",
      "numba                       0.61.0\n",
      "numpy                       2.1.3\n",
      "overrides                   NA\n",
      "packaging                   24.2\n",
      "pandas                      2.2.3\n",
      "parso                       0.8.4\n",
      "patsy                       1.0.1\n",
      "platformdirs                4.3.6\n",
      "prometheus_client           NA\n",
      "prompt_toolkit              3.0.50\n",
      "psutil                      7.0.0\n",
      "pure_eval                   0.2.3\n",
      "pycparser                   2.22\n",
      "pydev_ipython               NA\n",
      "pydevconsole                NA\n",
      "pydevd                      3.2.3\n",
      "pydevd_file_utils           NA\n",
      "pydevd_plugins              NA\n",
      "pydevd_tracing              NA\n",
      "pygments                    2.19.1\n",
      "pynndescent                 0.5.13\n",
      "pyparsing                   3.2.1\n",
      "pythonjsonlogger            NA\n",
      "pytz                        2024.1\n",
      "referencing                 NA\n",
      "requests                    2.32.3\n",
      "rfc3339_validator           0.1.4\n",
      "rfc3986_validator           0.1.1\n",
      "rpds                        NA\n",
      "scipy                       1.15.2\n",
      "seaborn                     0.13.2\n",
      "send2trash                  NA\n",
      "session_info                1.0.0\n",
      "six                         1.17.0\n",
      "sklearn                     1.6.1\n",
      "skmisc                      0.5.1\n",
      "sniffio                     1.3.1\n",
      "stack_data                  0.6.3\n",
      "statsmodels                 0.14.4\n",
      "texttable                   1.7.0\n",
      "threadpoolctl               3.5.0\n",
      "tornado                     6.4.2\n",
      "tqdm                        4.67.1\n",
      "traitlets                   5.14.3\n",
      "typing_extensions           NA\n",
      "umap                        0.5.7\n",
      "uri_template                NA\n",
      "urllib3                     2.3.0\n",
      "vscode                      NA\n",
      "wcwidth                     0.2.13\n",
      "webcolors                   NA\n",
      "websocket                   1.8.0\n",
      "yaml                        6.0.2\n",
      "zmq                         26.2.1\n",
      "-----\n",
      "IPython             9.0.1\n",
      "jupyter_client      8.6.3\n",
      "jupyter_core        5.7.2\n",
      "jupyterlab          4.3.6\n",
      "notebook            7.3.3\n",
      "-----\n",
      "Python 3.13.2 | packaged by conda-forge | (main, Feb 17 2025, 14:10:22) [GCC 13.3.0]\n",
      "Linux-6.13.12-200.fc41.x86_64-x86_64-with-glibc2.37\n",
      "-----\n",
      "Session information updated at 2025-05-10 22:52\n"
     ]
    },
    {
     "name": "stderr",
     "output_type": "stream",
     "text": [
      "/home/gruengroup/srivalli/miniconda3/envs/scanpy/lib/python3.13/site-packages/session_info/main.py:213: UserWarning: The '__version__' attribute is deprecated and will be removed in MarkupSafe 3.1. Use feature detection, or `importlib.metadata.version(\"markupsafe\")`, instead.\n",
      "  mod_version = _find_version(mod.__version__)\n"
     ]
    }
   ],
   "source": [
    "sc.settings.verbosity = 3\n",
    "sc.logging.print_versions()\n",
    "\n",
    "plt.rcParams['figure.dpi'] = 300  \n",
    "plt.rcParams['savefig.dpi'] = 300\n",
    "\n",
    "timestamp = datetime.datetime.now().strftime(\"%d_%m_%y\")"
   ]
  },
  {
   "cell_type": "markdown",
   "metadata": {},
   "source": [
    "# Data import"
   ]
  },
  {
   "cell_type": "code",
   "execution_count": 95,
   "metadata": {},
   "outputs": [
    {
     "data": {
      "text/plain": [
       "AnnData object with n_obs × n_vars = 11900 × 32285\n",
       "    obs: 'orig.ident', 'nCount_RNA', 'nFeature_RNA', 'nCount_HTO', 'nFeature_HTO', 'HTO_maxID', 'HTO_secondID', 'HTO_margin', 'HTO_classification', 'HTO_classification.global', 'hash.ID', 'ident', 'Sample_given', 'Sample-ID', 'Mouse-ID', 'Sex', 'Group', 'Nuclei Purification Method after Hashing', 'assigned_hashtag', 'n_genes_by_counts', 'total_counts', 'total_counts_mt', 'pct_counts_mt', 'total_counts_ribo', 'pct_counts_ribo', 'leiden_0.2', 'leiden_0.5', 'cell_type', 'doublet_scores', 'predicted_doublets'\n",
       "    var: 'mt', 'ribo', 'n_cells_by_counts', 'mean_counts', 'pct_dropout_by_counts', 'total_counts'\n",
       "    uns: 'Group_colors', 'HTO_classification_colors', 'Nuclei Purification Method after Hashing_colors', 'Sex_colors', 'X_name', 'assigned_hashtag_colors', 'cell_type_colors', 'dea_ranking', 'dendrogram_leiden_0.2', 'leiden_0.2', 'leiden_0.2_colors', 'leiden_0.5', 'leiden_0.5_colors', 'log1p', 'neighbors', 'pca', 'umap'\n",
       "    obsm: 'X_pca', 'X_umap'\n",
       "    varm: 'PCs'\n",
       "    layers: 'cpm_normalization', 'logcounts', 'raw_counts'\n",
       "    obsp: 'connectivities', 'distances'"
      ]
     },
     "execution_count": 95,
     "metadata": {},
     "output_type": "execute_result"
    }
   ],
   "source": [
    "adata = sc.read_h5ad('./Github/Nuclear_hashing_2025/data/filtered_scrublet_doublets_after_annotation_HTODemux_11_04_25.h5ad')\n",
    "adata"
   ]
  },
  {
   "cell_type": "code",
   "execution_count": 96,
   "metadata": {},
   "outputs": [
    {
     "data": {
      "text/html": [
       "<div>\n",
       "<style scoped>\n",
       "    .dataframe tbody tr th:only-of-type {\n",
       "        vertical-align: middle;\n",
       "    }\n",
       "\n",
       "    .dataframe tbody tr th {\n",
       "        vertical-align: top;\n",
       "    }\n",
       "\n",
       "    .dataframe thead th {\n",
       "        text-align: right;\n",
       "    }\n",
       "</style>\n",
       "<table border=\"1\" class=\"dataframe\">\n",
       "  <thead>\n",
       "    <tr style=\"text-align: right;\">\n",
       "      <th></th>\n",
       "      <th>orig.ident</th>\n",
       "      <th>nCount_RNA</th>\n",
       "      <th>nFeature_RNA</th>\n",
       "      <th>nCount_HTO</th>\n",
       "      <th>nFeature_HTO</th>\n",
       "      <th>HTO_maxID</th>\n",
       "      <th>HTO_secondID</th>\n",
       "      <th>HTO_margin</th>\n",
       "      <th>HTO_classification</th>\n",
       "      <th>HTO_classification.global</th>\n",
       "      <th>...</th>\n",
       "      <th>total_counts</th>\n",
       "      <th>total_counts_mt</th>\n",
       "      <th>pct_counts_mt</th>\n",
       "      <th>total_counts_ribo</th>\n",
       "      <th>pct_counts_ribo</th>\n",
       "      <th>leiden_0.2</th>\n",
       "      <th>leiden_0.5</th>\n",
       "      <th>cell_type</th>\n",
       "      <th>doublet_scores</th>\n",
       "      <th>predicted_doublets</th>\n",
       "    </tr>\n",
       "  </thead>\n",
       "  <tbody>\n",
       "    <tr>\n",
       "      <th>AAACCAAAGGCGTCCA-1</th>\n",
       "      <td>SeuratProject</td>\n",
       "      <td>7966.0</td>\n",
       "      <td>2771</td>\n",
       "      <td>1928.0</td>\n",
       "      <td>8</td>\n",
       "      <td>TotalSeqB4</td>\n",
       "      <td>TotalSeqB9</td>\n",
       "      <td>0.377318</td>\n",
       "      <td>TotalSeqB4</td>\n",
       "      <td>Singlet</td>\n",
       "      <td>...</td>\n",
       "      <td>7966.0</td>\n",
       "      <td>418.0</td>\n",
       "      <td>5.247301</td>\n",
       "      <td>77.0</td>\n",
       "      <td>0.966608</td>\n",
       "      <td>0</td>\n",
       "      <td>5</td>\n",
       "      <td>Cardiomyocytes</td>\n",
       "      <td>0.098497</td>\n",
       "      <td>0</td>\n",
       "    </tr>\n",
       "    <tr>\n",
       "      <th>AAACCAAAGTTAGGCC-1</th>\n",
       "      <td>SeuratProject</td>\n",
       "      <td>16912.0</td>\n",
       "      <td>4274</td>\n",
       "      <td>2176.0</td>\n",
       "      <td>8</td>\n",
       "      <td>TotalSeqB4</td>\n",
       "      <td>TotalSeqB9</td>\n",
       "      <td>0.664448</td>\n",
       "      <td>TotalSeqB4</td>\n",
       "      <td>Singlet</td>\n",
       "      <td>...</td>\n",
       "      <td>16912.0</td>\n",
       "      <td>380.0</td>\n",
       "      <td>2.246925</td>\n",
       "      <td>86.0</td>\n",
       "      <td>0.508515</td>\n",
       "      <td>0</td>\n",
       "      <td>0</td>\n",
       "      <td>Cardiomyocytes</td>\n",
       "      <td>0.169903</td>\n",
       "      <td>0</td>\n",
       "    </tr>\n",
       "    <tr>\n",
       "      <th>AAACCATTCCATCGAA-1</th>\n",
       "      <td>SeuratProject</td>\n",
       "      <td>5731.0</td>\n",
       "      <td>1707</td>\n",
       "      <td>2045.0</td>\n",
       "      <td>8</td>\n",
       "      <td>TotalSeqB8</td>\n",
       "      <td>TotalSeqB6</td>\n",
       "      <td>0.597086</td>\n",
       "      <td>TotalSeqB8</td>\n",
       "      <td>Singlet</td>\n",
       "      <td>...</td>\n",
       "      <td>5731.0</td>\n",
       "      <td>608.0</td>\n",
       "      <td>10.608969</td>\n",
       "      <td>51.0</td>\n",
       "      <td>0.889897</td>\n",
       "      <td>3</td>\n",
       "      <td>5</td>\n",
       "      <td>Ventricular Cardiomyocytes</td>\n",
       "      <td>0.131833</td>\n",
       "      <td>0</td>\n",
       "    </tr>\n",
       "    <tr>\n",
       "      <th>AAACCATTCCCATGAA-1</th>\n",
       "      <td>SeuratProject</td>\n",
       "      <td>12396.0</td>\n",
       "      <td>3906</td>\n",
       "      <td>1374.0</td>\n",
       "      <td>8</td>\n",
       "      <td>TotalSeqB4</td>\n",
       "      <td>TotalSeqB6</td>\n",
       "      <td>0.658417</td>\n",
       "      <td>TotalSeqB4</td>\n",
       "      <td>Singlet</td>\n",
       "      <td>...</td>\n",
       "      <td>12396.0</td>\n",
       "      <td>315.0</td>\n",
       "      <td>2.541142</td>\n",
       "      <td>81.0</td>\n",
       "      <td>0.653437</td>\n",
       "      <td>2</td>\n",
       "      <td>2</td>\n",
       "      <td>Pacemaker Cells</td>\n",
       "      <td>0.061069</td>\n",
       "      <td>0</td>\n",
       "    </tr>\n",
       "    <tr>\n",
       "      <th>AAACCATTCGAATTAC-1</th>\n",
       "      <td>SeuratProject</td>\n",
       "      <td>19392.0</td>\n",
       "      <td>4854</td>\n",
       "      <td>1785.0</td>\n",
       "      <td>8</td>\n",
       "      <td>TotalSeqB4</td>\n",
       "      <td>TotalSeqB5</td>\n",
       "      <td>0.605797</td>\n",
       "      <td>TotalSeqB4</td>\n",
       "      <td>Singlet</td>\n",
       "      <td>...</td>\n",
       "      <td>19392.0</td>\n",
       "      <td>357.0</td>\n",
       "      <td>1.840965</td>\n",
       "      <td>81.0</td>\n",
       "      <td>0.417698</td>\n",
       "      <td>2</td>\n",
       "      <td>2</td>\n",
       "      <td>Pacemaker Cells</td>\n",
       "      <td>0.061069</td>\n",
       "      <td>0</td>\n",
       "    </tr>\n",
       "    <tr>\n",
       "      <th>...</th>\n",
       "      <td>...</td>\n",
       "      <td>...</td>\n",
       "      <td>...</td>\n",
       "      <td>...</td>\n",
       "      <td>...</td>\n",
       "      <td>...</td>\n",
       "      <td>...</td>\n",
       "      <td>...</td>\n",
       "      <td>...</td>\n",
       "      <td>...</td>\n",
       "      <td>...</td>\n",
       "      <td>...</td>\n",
       "      <td>...</td>\n",
       "      <td>...</td>\n",
       "      <td>...</td>\n",
       "      <td>...</td>\n",
       "      <td>...</td>\n",
       "      <td>...</td>\n",
       "      <td>...</td>\n",
       "      <td>...</td>\n",
       "      <td>...</td>\n",
       "    </tr>\n",
       "    <tr>\n",
       "      <th>TGTGTTAGTCATCCTC-1</th>\n",
       "      <td>SeuratProject</td>\n",
       "      <td>5462.0</td>\n",
       "      <td>2470</td>\n",
       "      <td>2059.0</td>\n",
       "      <td>8</td>\n",
       "      <td>TotalSeqB5</td>\n",
       "      <td>TotalSeqB8</td>\n",
       "      <td>0.069448</td>\n",
       "      <td>TotalSeqB5</td>\n",
       "      <td>Singlet</td>\n",
       "      <td>...</td>\n",
       "      <td>5462.0</td>\n",
       "      <td>300.0</td>\n",
       "      <td>5.492494</td>\n",
       "      <td>59.0</td>\n",
       "      <td>1.080190</td>\n",
       "      <td>6</td>\n",
       "      <td>8</td>\n",
       "      <td>Immune Cells</td>\n",
       "      <td>0.029412</td>\n",
       "      <td>0</td>\n",
       "    </tr>\n",
       "    <tr>\n",
       "      <th>TGTGTTAGTTACACCG-1</th>\n",
       "      <td>SeuratProject</td>\n",
       "      <td>11820.0</td>\n",
       "      <td>3483</td>\n",
       "      <td>2200.0</td>\n",
       "      <td>8</td>\n",
       "      <td>TotalSeqB3</td>\n",
       "      <td>TotalSeqB8</td>\n",
       "      <td>0.147143</td>\n",
       "      <td>TotalSeqB3</td>\n",
       "      <td>Singlet</td>\n",
       "      <td>...</td>\n",
       "      <td>11820.0</td>\n",
       "      <td>181.0</td>\n",
       "      <td>1.531303</td>\n",
       "      <td>63.0</td>\n",
       "      <td>0.532995</td>\n",
       "      <td>0</td>\n",
       "      <td>0</td>\n",
       "      <td>Cardiomyocytes</td>\n",
       "      <td>0.159533</td>\n",
       "      <td>0</td>\n",
       "    </tr>\n",
       "    <tr>\n",
       "      <th>TGTGTTGAGCAAGGCA-1</th>\n",
       "      <td>SeuratProject</td>\n",
       "      <td>15725.0</td>\n",
       "      <td>4708</td>\n",
       "      <td>1760.0</td>\n",
       "      <td>8</td>\n",
       "      <td>TotalSeqB7</td>\n",
       "      <td>TotalSeqB6</td>\n",
       "      <td>0.533907</td>\n",
       "      <td>TotalSeqB7</td>\n",
       "      <td>Singlet</td>\n",
       "      <td>...</td>\n",
       "      <td>15725.0</td>\n",
       "      <td>366.0</td>\n",
       "      <td>2.327504</td>\n",
       "      <td>174.0</td>\n",
       "      <td>1.106518</td>\n",
       "      <td>2</td>\n",
       "      <td>2</td>\n",
       "      <td>Pacemaker Cells</td>\n",
       "      <td>0.164286</td>\n",
       "      <td>0</td>\n",
       "    </tr>\n",
       "    <tr>\n",
       "      <th>TGTGTTGAGTACGCAC-1</th>\n",
       "      <td>SeuratProject</td>\n",
       "      <td>5921.0</td>\n",
       "      <td>2736</td>\n",
       "      <td>2001.0</td>\n",
       "      <td>8</td>\n",
       "      <td>TotalSeqB4</td>\n",
       "      <td>TotalSeqB8</td>\n",
       "      <td>0.096781</td>\n",
       "      <td>TotalSeqB4</td>\n",
       "      <td>Singlet</td>\n",
       "      <td>...</td>\n",
       "      <td>5921.0</td>\n",
       "      <td>213.0</td>\n",
       "      <td>3.597365</td>\n",
       "      <td>58.0</td>\n",
       "      <td>0.979564</td>\n",
       "      <td>1</td>\n",
       "      <td>1</td>\n",
       "      <td>Fibroblasts</td>\n",
       "      <td>0.030246</td>\n",
       "      <td>0</td>\n",
       "    </tr>\n",
       "    <tr>\n",
       "      <th>TGTGTTGAGTCGCTCC-1</th>\n",
       "      <td>SeuratProject</td>\n",
       "      <td>17433.0</td>\n",
       "      <td>5058</td>\n",
       "      <td>1814.0</td>\n",
       "      <td>8</td>\n",
       "      <td>TotalSeqB4</td>\n",
       "      <td>TotalSeqB7</td>\n",
       "      <td>0.370650</td>\n",
       "      <td>TotalSeqB4</td>\n",
       "      <td>Singlet</td>\n",
       "      <td>...</td>\n",
       "      <td>17433.0</td>\n",
       "      <td>356.0</td>\n",
       "      <td>2.042104</td>\n",
       "      <td>72.0</td>\n",
       "      <td>0.413010</td>\n",
       "      <td>2</td>\n",
       "      <td>2</td>\n",
       "      <td>Pacemaker Cells</td>\n",
       "      <td>0.152466</td>\n",
       "      <td>0</td>\n",
       "    </tr>\n",
       "  </tbody>\n",
       "</table>\n",
       "<p>11900 rows × 30 columns</p>\n",
       "</div>"
      ],
      "text/plain": [
       "                       orig.ident  nCount_RNA  nFeature_RNA  nCount_HTO  \\\n",
       "AAACCAAAGGCGTCCA-1  SeuratProject      7966.0          2771      1928.0   \n",
       "AAACCAAAGTTAGGCC-1  SeuratProject     16912.0          4274      2176.0   \n",
       "AAACCATTCCATCGAA-1  SeuratProject      5731.0          1707      2045.0   \n",
       "AAACCATTCCCATGAA-1  SeuratProject     12396.0          3906      1374.0   \n",
       "AAACCATTCGAATTAC-1  SeuratProject     19392.0          4854      1785.0   \n",
       "...                           ...         ...           ...         ...   \n",
       "TGTGTTAGTCATCCTC-1  SeuratProject      5462.0          2470      2059.0   \n",
       "TGTGTTAGTTACACCG-1  SeuratProject     11820.0          3483      2200.0   \n",
       "TGTGTTGAGCAAGGCA-1  SeuratProject     15725.0          4708      1760.0   \n",
       "TGTGTTGAGTACGCAC-1  SeuratProject      5921.0          2736      2001.0   \n",
       "TGTGTTGAGTCGCTCC-1  SeuratProject     17433.0          5058      1814.0   \n",
       "\n",
       "                    nFeature_HTO   HTO_maxID HTO_secondID  HTO_margin  \\\n",
       "AAACCAAAGGCGTCCA-1             8  TotalSeqB4   TotalSeqB9    0.377318   \n",
       "AAACCAAAGTTAGGCC-1             8  TotalSeqB4   TotalSeqB9    0.664448   \n",
       "AAACCATTCCATCGAA-1             8  TotalSeqB8   TotalSeqB6    0.597086   \n",
       "AAACCATTCCCATGAA-1             8  TotalSeqB4   TotalSeqB6    0.658417   \n",
       "AAACCATTCGAATTAC-1             8  TotalSeqB4   TotalSeqB5    0.605797   \n",
       "...                          ...         ...          ...         ...   \n",
       "TGTGTTAGTCATCCTC-1             8  TotalSeqB5   TotalSeqB8    0.069448   \n",
       "TGTGTTAGTTACACCG-1             8  TotalSeqB3   TotalSeqB8    0.147143   \n",
       "TGTGTTGAGCAAGGCA-1             8  TotalSeqB7   TotalSeqB6    0.533907   \n",
       "TGTGTTGAGTACGCAC-1             8  TotalSeqB4   TotalSeqB8    0.096781   \n",
       "TGTGTTGAGTCGCTCC-1             8  TotalSeqB4   TotalSeqB7    0.370650   \n",
       "\n",
       "                   HTO_classification HTO_classification.global  ...  \\\n",
       "AAACCAAAGGCGTCCA-1         TotalSeqB4                   Singlet  ...   \n",
       "AAACCAAAGTTAGGCC-1         TotalSeqB4                   Singlet  ...   \n",
       "AAACCATTCCATCGAA-1         TotalSeqB8                   Singlet  ...   \n",
       "AAACCATTCCCATGAA-1         TotalSeqB4                   Singlet  ...   \n",
       "AAACCATTCGAATTAC-1         TotalSeqB4                   Singlet  ...   \n",
       "...                               ...                       ...  ...   \n",
       "TGTGTTAGTCATCCTC-1         TotalSeqB5                   Singlet  ...   \n",
       "TGTGTTAGTTACACCG-1         TotalSeqB3                   Singlet  ...   \n",
       "TGTGTTGAGCAAGGCA-1         TotalSeqB7                   Singlet  ...   \n",
       "TGTGTTGAGTACGCAC-1         TotalSeqB4                   Singlet  ...   \n",
       "TGTGTTGAGTCGCTCC-1         TotalSeqB4                   Singlet  ...   \n",
       "\n",
       "                   total_counts total_counts_mt pct_counts_mt  \\\n",
       "AAACCAAAGGCGTCCA-1       7966.0           418.0      5.247301   \n",
       "AAACCAAAGTTAGGCC-1      16912.0           380.0      2.246925   \n",
       "AAACCATTCCATCGAA-1       5731.0           608.0     10.608969   \n",
       "AAACCATTCCCATGAA-1      12396.0           315.0      2.541142   \n",
       "AAACCATTCGAATTAC-1      19392.0           357.0      1.840965   \n",
       "...                         ...             ...           ...   \n",
       "TGTGTTAGTCATCCTC-1       5462.0           300.0      5.492494   \n",
       "TGTGTTAGTTACACCG-1      11820.0           181.0      1.531303   \n",
       "TGTGTTGAGCAAGGCA-1      15725.0           366.0      2.327504   \n",
       "TGTGTTGAGTACGCAC-1       5921.0           213.0      3.597365   \n",
       "TGTGTTGAGTCGCTCC-1      17433.0           356.0      2.042104   \n",
       "\n",
       "                    total_counts_ribo pct_counts_ribo leiden_0.2 leiden_0.5  \\\n",
       "AAACCAAAGGCGTCCA-1               77.0        0.966608          0          5   \n",
       "AAACCAAAGTTAGGCC-1               86.0        0.508515          0          0   \n",
       "AAACCATTCCATCGAA-1               51.0        0.889897          3          5   \n",
       "AAACCATTCCCATGAA-1               81.0        0.653437          2          2   \n",
       "AAACCATTCGAATTAC-1               81.0        0.417698          2          2   \n",
       "...                               ...             ...        ...        ...   \n",
       "TGTGTTAGTCATCCTC-1               59.0        1.080190          6          8   \n",
       "TGTGTTAGTTACACCG-1               63.0        0.532995          0          0   \n",
       "TGTGTTGAGCAAGGCA-1              174.0        1.106518          2          2   \n",
       "TGTGTTGAGTACGCAC-1               58.0        0.979564          1          1   \n",
       "TGTGTTGAGTCGCTCC-1               72.0        0.413010          2          2   \n",
       "\n",
       "                                     cell_type doublet_scores  \\\n",
       "AAACCAAAGGCGTCCA-1              Cardiomyocytes       0.098497   \n",
       "AAACCAAAGTTAGGCC-1              Cardiomyocytes       0.169903   \n",
       "AAACCATTCCATCGAA-1  Ventricular Cardiomyocytes       0.131833   \n",
       "AAACCATTCCCATGAA-1             Pacemaker Cells       0.061069   \n",
       "AAACCATTCGAATTAC-1             Pacemaker Cells       0.061069   \n",
       "...                                        ...            ...   \n",
       "TGTGTTAGTCATCCTC-1                Immune Cells       0.029412   \n",
       "TGTGTTAGTTACACCG-1              Cardiomyocytes       0.159533   \n",
       "TGTGTTGAGCAAGGCA-1             Pacemaker Cells       0.164286   \n",
       "TGTGTTGAGTACGCAC-1                 Fibroblasts       0.030246   \n",
       "TGTGTTGAGTCGCTCC-1             Pacemaker Cells       0.152466   \n",
       "\n",
       "                    predicted_doublets  \n",
       "AAACCAAAGGCGTCCA-1                   0  \n",
       "AAACCAAAGTTAGGCC-1                   0  \n",
       "AAACCATTCCATCGAA-1                   0  \n",
       "AAACCATTCCCATGAA-1                   0  \n",
       "AAACCATTCGAATTAC-1                   0  \n",
       "...                                ...  \n",
       "TGTGTTAGTCATCCTC-1                   0  \n",
       "TGTGTTAGTTACACCG-1                   0  \n",
       "TGTGTTGAGCAAGGCA-1                   0  \n",
       "TGTGTTGAGTACGCAC-1                   0  \n",
       "TGTGTTGAGTCGCTCC-1                   0  \n",
       "\n",
       "[11900 rows x 30 columns]"
      ]
     },
     "execution_count": 96,
     "metadata": {},
     "output_type": "execute_result"
    }
   ],
   "source": [
    "adata.obs"
   ]
  },
  {
   "cell_type": "markdown",
   "metadata": {},
   "source": [
    "#### Check if data is raw or Normalized"
   ]
  },
  {
   "cell_type": "code",
   "execution_count": 97,
   "metadata": {},
   "outputs": [],
   "source": [
    "def X_is_raw(adata):\n",
    "    return np.array_equal(adata.X.sum(axis=0).astype(int), adata.X.sum(axis=0))"
   ]
  },
  {
   "cell_type": "code",
   "execution_count": 98,
   "metadata": {},
   "outputs": [
    {
     "name": "stdout",
     "output_type": "stream",
     "text": [
      "False\n"
     ]
    }
   ],
   "source": [
    "print(X_is_raw(adata))"
   ]
  },
  {
   "cell_type": "code",
   "execution_count": 99,
   "metadata": {},
   "outputs": [
    {
     "name": "stdout",
     "output_type": "stream",
     "text": [
      "True\n"
     ]
    }
   ],
   "source": [
    "adata.X= adata.layers['raw_counts']\n",
    "print(X_is_raw(adata))"
   ]
  },
  {
   "cell_type": "code",
   "execution_count": 100,
   "metadata": {},
   "outputs": [
    {
     "name": "stdout",
     "output_type": "stream",
     "text": [
      "extracting highly variable genes\n",
      "--> added\n",
      "    'highly_variable', boolean vector (adata.var)\n",
      "    'highly_variable_rank', float vector (adata.var)\n",
      "    'means', float vector (adata.var)\n",
      "    'variances', float vector (adata.var)\n",
      "    'variances_norm', float vector (adata.var)\n"
     ]
    },
    {
     "data": {
      "text/plain": [
       "AnnData object with n_obs × n_vars = 11900 × 32285\n",
       "    obs: 'orig.ident', 'nCount_RNA', 'nFeature_RNA', 'nCount_HTO', 'nFeature_HTO', 'HTO_maxID', 'HTO_secondID', 'HTO_margin', 'HTO_classification', 'HTO_classification.global', 'hash.ID', 'ident', 'Sample_given', 'Sample-ID', 'Mouse-ID', 'Sex', 'Group', 'Nuclei Purification Method after Hashing', 'assigned_hashtag', 'n_genes_by_counts', 'total_counts', 'total_counts_mt', 'pct_counts_mt', 'total_counts_ribo', 'pct_counts_ribo', 'leiden_0.2', 'leiden_0.5', 'cell_type', 'doublet_scores', 'predicted_doublets'\n",
       "    var: 'mt', 'ribo', 'n_cells_by_counts', 'mean_counts', 'pct_dropout_by_counts', 'total_counts', 'highly_variable', 'highly_variable_rank', 'means', 'variances', 'variances_norm', 'highly_variable_nbatches'\n",
       "    uns: 'Group_colors', 'HTO_classification_colors', 'Nuclei Purification Method after Hashing_colors', 'Sex_colors', 'X_name', 'assigned_hashtag_colors', 'cell_type_colors', 'dea_ranking', 'dendrogram_leiden_0.2', 'leiden_0.2', 'leiden_0.2_colors', 'leiden_0.5', 'leiden_0.5_colors', 'log1p', 'neighbors', 'pca', 'umap', 'hvg'\n",
       "    obsm: 'X_pca', 'X_umap'\n",
       "    varm: 'PCs'\n",
       "    layers: 'cpm_normalization', 'logcounts', 'raw_counts'\n",
       "    obsp: 'connectivities', 'distances'"
      ]
     },
     "execution_count": 100,
     "metadata": {},
     "output_type": "execute_result"
    }
   ],
   "source": [
    "sc.pp.highly_variable_genes(\n",
    "    adata,\n",
    "    flavor = \"seurat_v3\",\n",
    "    n_top_genes = 8000,\n",
    "    layer = \"raw_counts\",\n",
    "    batch_key = 'assigned_hashtag',\n",
    "    subset = False\n",
    ")\n",
    "adata"
   ]
  },
  {
   "cell_type": "code",
   "execution_count": 101,
   "metadata": {},
   "outputs": [
    {
     "name": "stdout",
     "output_type": "stream",
     "text": [
      "False\n"
     ]
    }
   ],
   "source": [
    "adata.X= adata.layers['cpm_normalization']\n",
    "print(X_is_raw(adata))"
   ]
  },
  {
   "cell_type": "markdown",
   "metadata": {},
   "source": [
    "# Data Overview "
   ]
  },
  {
   "cell_type": "markdown",
   "metadata": {},
   "source": [
    "## Batch effects removal"
   ]
  },
  {
   "cell_type": "code",
   "execution_count": 102,
   "metadata": {},
   "outputs": [
    {
     "name": "stdout",
     "output_type": "stream",
     "text": [
      "computing batch balanced neighbors\n"
     ]
    },
    {
     "name": "stdout",
     "output_type": "stream",
     "text": [
      "WARNING: consider updating your call to make use of `computation`\n",
      "\tfinished: added to `.uns['neighbors']`\n",
      "    `.obsp['distances']`, distances for each pair of neighbors\n",
      "    `.obsp['connectivities']`, weighted adjacency matrix (0:00:01)\n"
     ]
    },
    {
     "data": {
      "text/plain": [
       "AnnData object with n_obs × n_vars = 11900 × 32285\n",
       "    obs: 'orig.ident', 'nCount_RNA', 'nFeature_RNA', 'nCount_HTO', 'nFeature_HTO', 'HTO_maxID', 'HTO_secondID', 'HTO_margin', 'HTO_classification', 'HTO_classification.global', 'hash.ID', 'ident', 'Sample_given', 'Sample-ID', 'Mouse-ID', 'Sex', 'Group', 'Nuclei Purification Method after Hashing', 'assigned_hashtag', 'n_genes_by_counts', 'total_counts', 'total_counts_mt', 'pct_counts_mt', 'total_counts_ribo', 'pct_counts_ribo', 'leiden_0.2', 'leiden_0.5', 'cell_type', 'doublet_scores', 'predicted_doublets'\n",
       "    var: 'mt', 'ribo', 'n_cells_by_counts', 'mean_counts', 'pct_dropout_by_counts', 'total_counts', 'highly_variable', 'highly_variable_rank', 'means', 'variances', 'variances_norm', 'highly_variable_nbatches'\n",
       "    uns: 'Group_colors', 'HTO_classification_colors', 'Nuclei Purification Method after Hashing_colors', 'Sex_colors', 'X_name', 'assigned_hashtag_colors', 'cell_type_colors', 'dea_ranking', 'dendrogram_leiden_0.2', 'leiden_0.2', 'leiden_0.2_colors', 'leiden_0.5', 'leiden_0.5_colors', 'log1p', 'neighbors', 'pca', 'umap', 'hvg'\n",
       "    obsm: 'X_pca', 'X_umap'\n",
       "    varm: 'PCs'\n",
       "    layers: 'cpm_normalization', 'logcounts', 'raw_counts'\n",
       "    obsp: 'connectivities', 'distances'"
      ]
     },
     "execution_count": 102,
     "metadata": {},
     "output_type": "execute_result"
    }
   ],
   "source": [
    "bbknn = bbknn.bbknn(adata, batch_key='assigned_hashtag', neighbors_within_batch = 4, approx = True, copy = True)\n",
    "bbknn"
   ]
  },
  {
   "cell_type": "markdown",
   "metadata": {},
   "source": [
    "## Clustering"
   ]
  },
  {
   "cell_type": "code",
   "execution_count": 103,
   "metadata": {},
   "outputs": [
    {
     "name": "stdout",
     "output_type": "stream",
     "text": [
      "computing PCA\n",
      "    with n_comps=50\n"
     ]
    },
    {
     "name": "stderr",
     "output_type": "stream",
     "text": [
      "/home/gruengroup/srivalli/miniconda3/envs/scanpy/lib/python3.13/site-packages/scanpy/preprocessing/_pca.py:374: FutureWarning: Argument `use_highly_variable` is deprecated, consider using the mask argument. Use_highly_variable=True can be called through mask_var=\"highly_variable\". Use_highly_variable=False can be called through mask_var=None\n",
      "  warn(msg, FutureWarning)\n"
     ]
    },
    {
     "name": "stdout",
     "output_type": "stream",
     "text": [
      "    finished (0:00:06)\n",
      "computing neighbors\n",
      "    using 'X_pca' with n_pcs = 50\n",
      "    finished: added to `.uns['neighbors']`\n",
      "    `.obsp['distances']`, distances for each pair of neighbors\n",
      "    `.obsp['connectivities']`, weighted adjacency matrix (0:00:01)\n"
     ]
    }
   ],
   "source": [
    "sc.tl.pca(bbknn, n_comps=50, use_highly_variable=True)\n",
    "sc.pp.neighbors(bbknn)"
   ]
  },
  {
   "cell_type": "code",
   "execution_count": 104,
   "metadata": {},
   "outputs": [
    {
     "name": "stdout",
     "output_type": "stream",
     "text": [
      "computing UMAP\n"
     ]
    },
    {
     "name": "stdout",
     "output_type": "stream",
     "text": [
      "    finished: added\n",
      "    'X_umap', UMAP coordinates (adata.obsm)\n",
      "    'umap', UMAP parameters (adata.uns) (0:00:04)\n"
     ]
    }
   ],
   "source": [
    "sc.tl.umap(bbknn)"
   ]
  },
  {
   "cell_type": "markdown",
   "metadata": {},
   "source": [
    "## Data Visualization"
   ]
  },
  {
   "cell_type": "code",
   "execution_count": 16,
   "metadata": {},
   "outputs": [],
   "source": [
    "features = [\n",
    "    'Sex', 'Group', 'HTO_classification', 'assigned_hashtag',\n",
    "    'Nuclei Purification Method after Hashing', 'total_counts',\n",
    "    'n_genes_by_counts', 'pct_counts_mt', 'pct_counts_ribo', 'doublet_scores'\n",
    "]\n",
    "\n",
    "for feature in features:\n",
    "    ax = sc.pl.umap(\n",
    "        bbknn,\n",
    "        color=feature,\n",
    "        frameon=False,\n",
    "        layer='cpm_normalization',\n",
    "        cmap='RdYlBu_r',\n",
    "        show=False, legend_loc='right margin' \n",
    "    )\n",
    "    \n",
    "    fig = plt.gcf()\n",
    "\n",
    "    plt.tight_layout(rect=[0, 0, 0.85, 1])  \n",
    "    \n",
    "    safe_name = feature.replace(\" \", \"_\").replace(\"/\", \"_\")\n",
    "    plt.savefig(\n",
    "        f\"./Github/Nuclear_hashing_2025/figs_bbknn_batch_effect_removed/umap_{safe_name}.png\",\n",
    "        dpi=300,\n",
    "        transparent=True,\n",
    "        facecolor='none',\n",
    "        edgecolor='none'\n",
    "    )\n",
    "    plt.close()"
   ]
  },
  {
   "cell_type": "markdown",
   "metadata": {},
   "source": [
    "# Annotation - Overall"
   ]
  },
  {
   "cell_type": "markdown",
   "metadata": {},
   "source": [
    "## Marker Genes"
   ]
  },
  {
   "cell_type": "code",
   "execution_count": 106,
   "metadata": {},
   "outputs": [],
   "source": [
    "marker_genes = {'Ventricular Cardiomyocytes' : ['Myh7',' Myl2',' Fhl2'],\n",
    " 'Atrial Cardiomyocytes' :['Nppa',' Myl7',' Myl4'],\n",
    " 'Fibroblasts': ['Dcn',' Gsn',' Pdgfra'],\n",
    " 'Endothelial Cells' :['Vwf',' Pecam1',' Cdh5'],\n",
    " 'Pericytes' :['Rgs5',' Abcc9',' Kcnj8'],\n",
    " 'Smooth Muscle Cells' :['Myh11',' Tagln',' Acta2'],\n",
    " 'Myeloid Immune Cells' : ['Cd14',' C1qa',' Cd68'],\n",
    " 'Lymphoid Immune Cells' :['Cd8a',' Il7r',' Cd40lg'],\n",
    " 'Adipocytes' : ['Gpam',' Fasn',' Lep'],\n",
    " 'Neuronal Cells' :['Plp1',' Nrxn1',' Nrxn3'],\n",
    " 'Mesothelial Cells' :['Msln',' Wt1',' Bnc1']\n",
    "}"
   ]
  },
  {
   "cell_type": "code",
   "execution_count": 107,
   "metadata": {},
   "outputs": [],
   "source": [
    "marker_genes_in_data = {}\n",
    "for ct, markers in marker_genes.items():\n",
    "    markers_found = []\n",
    "    for marker in markers:\n",
    "        if marker in bbknn.var.index:\n",
    "            markers_found.append(marker)\n",
    "    marker_genes_in_data[ct] = markers_found"
   ]
  },
  {
   "cell_type": "markdown",
   "metadata": {},
   "source": [
    "## Plotting"
   ]
  },
  {
   "cell_type": "code",
   "execution_count": 108,
   "metadata": {},
   "outputs": [
    {
     "name": "stdout",
     "output_type": "stream",
     "text": [
      "VENTRICULAR CARDIOMYOCYTES:\n",
      "  → Plotting: Myh7, Myl2, Fhl2\n",
      "\n"
     ]
    },
    {
     "name": "stdout",
     "output_type": "stream",
     "text": [
      "\n",
      "------------------------------------------------------------\n",
      "\n",
      "ATRIAL CARDIOMYOCYTES:\n",
      "  → Plotting: Nppa, Myl7, Myl4\n",
      "\n",
      "\n",
      "------------------------------------------------------------\n",
      "\n",
      "FIBROBLASTS:\n",
      "  → Plotting: Dcn, Gsn, Pdgfra\n",
      "\n",
      "\n",
      "------------------------------------------------------------\n",
      "\n",
      "ENDOTHELIAL CELLS:\n",
      "  → Plotting: Vwf, Pecam1, Cdh5\n",
      "\n",
      "\n",
      "------------------------------------------------------------\n",
      "\n",
      "PERICYTES:\n",
      "  → Plotting: Rgs5, Abcc9, Kcnj8\n",
      "\n",
      "\n",
      "------------------------------------------------------------\n",
      "\n",
      "SMOOTH MUSCLE CELLS:\n",
      "  → Plotting: Myh11, Tagln, Acta2\n",
      "\n",
      "\n",
      "------------------------------------------------------------\n",
      "\n",
      "MYELOID IMMUNE CELLS:\n",
      "  → Plotting: Cd14, C1qa, Cd68\n",
      "\n",
      "\n",
      "------------------------------------------------------------\n",
      "\n",
      "LYMPHOID IMMUNE CELLS:\n",
      "  → Plotting: Cd8a, Il7r, Cd40lg\n",
      "\n",
      "\n",
      "------------------------------------------------------------\n",
      "\n",
      "ADIPOCYTES:\n",
      "  → Plotting: Gpam, Fasn, Lep\n",
      "\n",
      "\n",
      "------------------------------------------------------------\n",
      "\n",
      "NEURONAL CELLS:\n",
      "  → Plotting: Plp1, Nrxn1, Nrxn3\n",
      "\n",
      "\n",
      "------------------------------------------------------------\n",
      "\n",
      "MESOTHELIAL CELLS:\n",
      "  → Plotting: Msln, Wt1, Bnc1\n",
      "\n",
      "\n",
      "------------------------------------------------------------\n",
      "\n"
     ]
    }
   ],
   "source": [
    "for cell_type, genes in marker_genes.items():\n",
    "    \n",
    "    cleaned_genes = [g.strip() for g in genes if g.strip() in bbknn.var_names]\n",
    "\n",
    "    if cleaned_genes:\n",
    "        print(f\"{cell_type.upper()}:\\n  → Plotting: {', '.join(cleaned_genes)}\\n\")\n",
    "\n",
    "        for gene in cleaned_genes:\n",
    "            sc.pl.umap(\n",
    "                bbknn,\n",
    "                color=gene,\n",
    "                vmin=0,\n",
    "                vmax=\"p99\",\n",
    "                sort_order=False,\n",
    "                frameon=False,\n",
    "                cmap=\"RdYlBu_r\",\n",
    "                layer='cpm_normalization',\n",
    "                show=False\n",
    "            )\n",
    "            safe_gene = gene.replace(\" \", \"_\").replace(\"/\", \"_\")\n",
    "            plt.savefig(\n",
    "                f\"./Github/Nuclear_hashing_2025/figs_bbknn_batch_effect_removed/{cell_type}_{safe_gene}.png\",\n",
    "                dpi=300,\n",
    "                transparent=True,\n",
    "                facecolor='none',\n",
    "                edgecolor='none'\n",
    "            )\n",
    "            plt.close()\n",
    "\n",
    "    else:\n",
    "        print(f\"{cell_type.upper()}:\\n  ✗ No valid marker genes found in bbknn.var_names.\\n\")\n",
    "\n",
    "    print(\"\\n\" + \"-\"*60 + \"\\n\")"
   ]
  },
  {
   "cell_type": "markdown",
   "metadata": {},
   "source": [
    "## Leiden Clustering"
   ]
  },
  {
   "cell_type": "code",
   "execution_count": 109,
   "metadata": {},
   "outputs": [
    {
     "name": "stdout",
     "output_type": "stream",
     "text": [
      "running Leiden clustering\n"
     ]
    },
    {
     "name": "stdout",
     "output_type": "stream",
     "text": [
      "    finished: found 26 clusters and added\n",
      "    'leiden_1', the cluster labels (adata.obs, categorical) (0:00:03)\n"
     ]
    }
   ],
   "source": [
    "sc.tl.leiden(bbknn, resolution=1, key_added=\"leiden_1\")"
   ]
  },
  {
   "cell_type": "code",
   "execution_count": 110,
   "metadata": {},
   "outputs": [
    {
     "name": "stdout",
     "output_type": "stream",
     "text": [
      "running Leiden clustering\n",
      "    finished: found 7 clusters and added\n",
      "    'leiden_0.1', the cluster labels (adata.obs, categorical) (0:00:01)\n"
     ]
    }
   ],
   "source": [
    "sc.tl.leiden(bbknn, resolution=0.1, key_added=\"leiden_0.1\")"
   ]
  },
  {
   "cell_type": "code",
   "execution_count": 111,
   "metadata": {},
   "outputs": [
    {
     "name": "stdout",
     "output_type": "stream",
     "text": [
      "running Leiden clustering\n"
     ]
    },
    {
     "name": "stdout",
     "output_type": "stream",
     "text": [
      "    finished: found 13 clusters and added\n",
      "    'leiden_0.2', the cluster labels (adata.obs, categorical) (0:00:01)\n"
     ]
    }
   ],
   "source": [
    "sc.tl.leiden(bbknn, resolution=0.2, key_added=\"leiden_0.2\")"
   ]
  },
  {
   "cell_type": "code",
   "execution_count": 112,
   "metadata": {},
   "outputs": [
    {
     "name": "stdout",
     "output_type": "stream",
     "text": [
      "running Leiden clustering\n"
     ]
    },
    {
     "name": "stdout",
     "output_type": "stream",
     "text": [
      "    finished: found 15 clusters and added\n",
      "    'leiden_0.3', the cluster labels (adata.obs, categorical) (0:00:02)\n"
     ]
    }
   ],
   "source": [
    "sc.tl.leiden(bbknn, resolution=0.3, key_added=\"leiden_0.3\")"
   ]
  },
  {
   "cell_type": "code",
   "execution_count": 113,
   "metadata": {},
   "outputs": [
    {
     "name": "stdout",
     "output_type": "stream",
     "text": [
      "running Leiden clustering\n"
     ]
    },
    {
     "name": "stdout",
     "output_type": "stream",
     "text": [
      "    finished: found 17 clusters and added\n",
      "    'leiden_0.5', the cluster labels (adata.obs, categorical) (0:00:02)\n"
     ]
    }
   ],
   "source": [
    "sc.tl.leiden(bbknn, resolution=0.5, key_added=\"leiden_0.5\")"
   ]
  },
  {
   "cell_type": "code",
   "execution_count": 114,
   "metadata": {},
   "outputs": [],
   "source": [
    "for leiden in [\"leiden_0.1\", \"leiden_0.2\", \"leiden_0.3\", \"leiden_0.5\", \"leiden_1\"]:\n",
    "    sc.pl.umap(\n",
    "        bbknn,\n",
    "        color=leiden,\n",
    "        frameon=False,\n",
    "        legend_loc=\"on data\",\n",
    "        show=False\n",
    "    )\n",
    "    plt.savefig(\n",
    "        f\"./Github/Nuclear_hashing_2025/figs_bbknn_batch_effect_removed/umap_{leiden}.png\",\n",
    "        dpi=300,\n",
    "        transparent=True,\n",
    "        facecolor='none',\n",
    "        edgecolor='none'\n",
    "    )\n",
    "    plt.close()"
   ]
  },
  {
   "cell_type": "markdown",
   "metadata": {},
   "source": [
    "# Cluster Annotation"
   ]
  },
  {
   "cell_type": "code",
   "execution_count": 115,
   "metadata": {},
   "outputs": [],
   "source": [
    "sc.pl.umap(\n",
    "    bbknn,\n",
    "    color='leiden_0.3',\n",
    "    frameon=False,\n",
    "    legend_loc='on data',\n",
    "    show=False  \n",
    ")\n",
    "plt.savefig(\n",
    "    \"./Github/Nuclear_hashing_2025/figs_bbknn_batch_effect_removed/umap_leiden_0.3.png\",\n",
    "    dpi=300,\n",
    "    transparent=True,\n",
    "    facecolor='none',\n",
    "    edgecolor='none'\n",
    ")\n",
    "plt.close()"
   ]
  },
  {
   "cell_type": "code",
   "execution_count": 116,
   "metadata": {},
   "outputs": [],
   "source": [
    "cl_annotation = {\n",
    "\"0\" : \"Venticular Cardiomyocytes\",\n",
    "\"1\" : \"Venticular Cardiomyocytes\",\n",
    "\"3\" : \"Atrial Cardiomyocytes\",\n",
    "\"2\" : \"Fibroblasts\",\n",
    "\"8\" : \"Fibroblasts + Adipocytes\",\n",
    "\"12\" : \"Endothelial Cells\",\n",
    "\"5\" : \"Endothelial Cells\",\n",
    "\"4\" : \"Endothelial Cells + Pericytes + Neuronal Cells\",\n",
    "\"10\" : \"Endothelial Cells + Lymphoid Immune Cells\",\n",
    "\"6\" : \"Endothelial Cells + Pericytes + Adipocytes + Neuronal Cells\",\n",
    "\"9\" : \"Endothelial Cells + Pericytes + Adipocytes\",\n",
    "\"11\" : \"Pericytes + Neuronal Cells\",\n",
    "\"13\" : \"Pericytes + Adipocytes\",\n",
    "\"14\" : \"Smooth Muscle Cells\",\n",
    "\"7\" : \"Atrial Cardiomyocytes + Myeloid Immune Cells + Fibroblasts\"\n",
    "}"
   ]
  },
  {
   "cell_type": "code",
   "execution_count": 117,
   "metadata": {},
   "outputs": [],
   "source": [
    "bbknn.obs[\"manual_celltype_annotation_specific\"] = bbknn.obs['leiden_0.3'].map(cl_annotation)"
   ]
  },
  {
   "cell_type": "code",
   "execution_count": 118,
   "metadata": {},
   "outputs": [],
   "source": [
    "sc.pl.umap(\n",
    "    bbknn,\n",
    "    color=[\"manual_celltype_annotation_specific\"],\n",
    "    frameon=False,\n",
    "    show=False, legend_loc='on data'\n",
    ")\n",
    "plt.savefig(\n",
    "    \"./Github/Nuclear_hashing_2025/figs_bbknn_batch_effect_removed/umap_manual_specific_anno.png\",\n",
    "    dpi=300,\n",
    "    transparent=True,\n",
    "    facecolor='none',\n",
    "    edgecolor='none'\n",
    ")\n",
    "plt.close()"
   ]
  },
  {
   "cell_type": "code",
   "execution_count": 119,
   "metadata": {},
   "outputs": [],
   "source": [
    "cl_annotation2 = {\n",
    "\"0\" : \"Venticular Cardiomyocytes\",\n",
    "\"1\" : \"Venticular Cardiomyocytes\",\n",
    "\"3\" : \"Atrial Cardiomyocytes\",\n",
    "\"2\" : \"Fibroblasts\",\n",
    "\"8\" : \"Mixed Cell Types\",\n",
    "\"12\" : \"Endothelial Cells\",\n",
    "\"5\" : \"Endothelial Cells\",\n",
    "\"4\" : \"Mixed Cell Types\",\n",
    "\"10\" : \"Mixed Cell Types\",\n",
    "\"6\" : \"Mixed Cell Types\",\n",
    "\"9\" : \"Mixed Cell Types\",\n",
    "\"11\" : \"Mixed Cell Types\",\n",
    "\"13\" : \"Mixed Cell Types\",\n",
    "\"14\" : \"Smooth Muscle Cells\",\n",
    "\"7\" : \"Mixed Cell Types\"\n",
    "}"
   ]
  },
  {
   "cell_type": "code",
   "execution_count": 120,
   "metadata": {},
   "outputs": [],
   "source": [
    "bbknn.obs[\"manual_celltype_annotation_broad\"] = bbknn.obs['leiden_0.3'].map(cl_annotation2)"
   ]
  },
  {
   "cell_type": "code",
   "execution_count": 121,
   "metadata": {},
   "outputs": [],
   "source": [
    "sc.pl.umap(\n",
    "    bbknn,\n",
    "    color=[\"manual_celltype_annotation_broad\"],\n",
    "    frameon=False,\n",
    "    show=False, legend_loc = 'on data'\n",
    ")\n",
    "plt.savefig(\n",
    "    \"./Github/Nuclear_hashing_2025/figs_bbknn_batch_effect_removed/umap_manual_broad_anno.png\",\n",
    "    dpi=300,\n",
    "    transparent=True,\n",
    "    facecolor='none',\n",
    "    edgecolor='none'\n",
    ")\n",
    "plt.close()"
   ]
  },
  {
   "cell_type": "code",
   "execution_count": 122,
   "metadata": {},
   "outputs": [],
   "source": [
    "ax = sc.pl.umap(\n",
    "    bbknn,\n",
    "    color=[\"manual_celltype_annotation_broad\"],\n",
    "    frameon=False,\n",
    "    show=False,\n",
    "    legend_loc='right margin' \n",
    ")\n",
    "\n",
    "fig = plt.gcf()\n",
    "\n",
    "plt.tight_layout(rect=[0, 0, 0.85, 1])  \n",
    "plt.savefig(\n",
    "    \"./Github/Nuclear_hashing_2025/figs_bbknn_batch_effect_removed/umap_manual_broad_anno_legend_outside.png\",\n",
    "    dpi=300,\n",
    "    bbox_inches='tight',\n",
    "    transparent=True,\n",
    "    facecolor='none'\n",
    ")\n",
    "plt.close()"
   ]
  },
  {
   "cell_type": "markdown",
   "metadata": {},
   "source": [
    "# Differentially Expressed Genes (DEGs)"
   ]
  },
  {
   "cell_type": "code",
   "execution_count": 123,
   "metadata": {},
   "outputs": [
    {
     "name": "stdout",
     "output_type": "stream",
     "text": [
      "ranking genes\n"
     ]
    },
    {
     "name": "stdout",
     "output_type": "stream",
     "text": [
      "    finished: added to `.uns['dea_leiden']`\n",
      "    'names', sorted np.recarray to be indexed by group ids\n",
      "    'scores', sorted np.recarray to be indexed by group ids\n",
      "    'logfoldchanges', sorted np.recarray to be indexed by group ids\n",
      "    'pvals', sorted np.recarray to be indexed by group ids\n",
      "    'pvals_adj', sorted np.recarray to be indexed by group ids (0:00:19)\n"
     ]
    }
   ],
   "source": [
    "sc.tl.rank_genes_groups(bbknn, groupby=\"leiden_0.3\", method=\"wilcoxon\",use_raw= False, key_added = 'dea_leiden')"
   ]
  },
  {
   "cell_type": "code",
   "execution_count": 124,
   "metadata": {},
   "outputs": [
    {
     "name": "stdout",
     "output_type": "stream",
     "text": [
      "WARNING: dendrogram data not found (using key=dendrogram_leiden_0.3). Running `sc.tl.dendrogram` with default parameters. For fine tuning it is recommended to run `sc.tl.dendrogram` independently.\n",
      "    using 'X_pca' with n_pcs = 50\n",
      "Storing dendrogram info using `.uns['dendrogram_leiden_0.3']`\n"
     ]
    }
   ],
   "source": [
    "sc.pl.rank_genes_groups_dotplot(\n",
    "    bbknn,\n",
    "    groupby='leiden_0.3',\n",
    "    standard_scale='var',\n",
    "    n_genes=5,\n",
    "    key='dea_leiden',\n",
    "    show=False  \n",
    ")\n",
    "plt.savefig(\n",
    "    \"./Github/Nuclear_hashing_2025/figs_bbknn_batch_effect_removed/DEG.png\",\n",
    "    dpi=300,\n",
    "    transparent=True,\n",
    "    facecolor='none',\n",
    "    edgecolor='none'\n",
    ")\n",
    "plt.close()"
   ]
  },
  {
   "cell_type": "code",
   "execution_count": 125,
   "metadata": {},
   "outputs": [
    {
     "name": "stdout",
     "output_type": "stream",
     "text": [
      "                0              1         2       3      4        5         6  \\\n",
      "0           Pcdh7       Ivns1abp    Abca8a    Myl2   Gpc6    Cyyr1  Arhgap15   \n",
      "1          Tnni3k  D830005E20Rik     Bicc1    Tpm1   Ebf1     Flt1    Slc9a9   \n",
      "2            Mlip       Ppargc1a     Pcdh9      Mb  Mast4   Adgrl4      Pid1   \n",
      "3           Pde4b          Esrrg     Rbms3   Actc1  Maml2    Ptprb    Inpp5d   \n",
      "4         Filip1l          Rbm20     Tenm3   Tnni3  Rbms3   Adgrf5     Ptprc   \n",
      "..            ...            ...       ...     ...    ...      ...       ...   \n",
      "95       Cacna2d1         Chchd3  Serping1    Etfb  Prkch     Nrp2    Tm6sf1   \n",
      "96           Ano4          Rmdn1      Mid1     B2m   Lhfp     Nav3     Acer3   \n",
      "97          Ptpn4          Casz1  Crispld2  Ndufb8  Lamc1   mt-Co2  Rap1gds1   \n",
      "98  D830024N08Rik           Nav2     Bmper    Ldhb  Scn7a  mt-Atp6    Srgap2   \n",
      "99       Ppargc1b           Asb2   Gucy1a2    Mdh2  Lsamp   Zfp366   Rasgrp3   \n",
      "\n",
      "           7        8        9        10      11      12        13        14  \n",
      "0     Slc9a9    Pcdh9    Cyyr1  Arhgap15    Dlc1   Cgnl1    Notch3     Myh11  \n",
      "1   Arhgap15    Tenm3   Adgrl4     Dock2   Abcc9   Chrm3     Trpc3      Dgkb  \n",
      "2      Dock2    Bicc1     Flt1     Ptprc   Trpc3  Unc13b      Ano1  Ppp1r12a  \n",
      "3     Frmd4b     Egfr   Adgrf5     Ikzf1  Pdgfrb  Sncaip     Abcc9      Flna  \n",
      "4       Rbpj  C1qtnf7     Etl4   Ankrd44   Pde8b   Foxp1      Dlc1    Kcnab1  \n",
      "..       ...      ...      ...       ...     ...     ...       ...       ...  \n",
      "95     Wdfy3  Tmem117     Tjp1   Slc28a2   Pakap   Tmtc1  Ppargc1b      Pls3  \n",
      "96   Apbb1ip     Clmp    Chrm2     Maml2  Plxdc1     Rdx   Filip1l      Dlc1  \n",
      "97       Syk    Fgf13     Afdn     Peli1   Vstm4    Gnaq  Prickle2    Tbc1d1  \n",
      "98     Wdfy4  Plekhh2     Dpf3    Ifi203  Rasal2     Cpe     Farp1     Mprip  \n",
      "99    Rnf180   Lrrtm3  Adamts9     Bank1    Rora   Syne2     Mark1    Errfi1  \n",
      "\n",
      "[100 rows x 15 columns]\n"
     ]
    }
   ],
   "source": [
    "deg_df = pd.DataFrame(bbknn.uns[\"dea_leiden\"][\"names\"]).head(100)  \n",
    "print(deg_df)"
   ]
  },
  {
   "cell_type": "code",
   "execution_count": 126,
   "metadata": {},
   "outputs": [],
   "source": [
    "deg_df.to_csv(f'./Github/Nuclear_hashing_2025/data/DE_genes_HTODemux_raw_manual_annotation_batch_correction_{timestamp}.csv',sep=',')"
   ]
  },
  {
   "cell_type": "markdown",
   "metadata": {},
   "source": [
    "# Cluster Annotation - based on DEGs"
   ]
  },
  {
   "cell_type": "code",
   "execution_count": 127,
   "metadata": {},
   "outputs": [],
   "source": [
    "toppfun_annotation = {\n",
    "\"0\":\"Ventricular Cardiomyocytes\",\n",
    "\"1\":\"Ventricular Cardiomyocytes\",\n",
    "\"2\":\"Fibroblasts\",\n",
    "\"3\":\"Cytoplasmic Cardiomyocytes\",\n",
    "\"4\":\"Mesenchymal\",\n",
    "\"5\":\"Endothelial\",\n",
    "\"6\":\"Immune cells\",\n",
    "\"7\":\"Immune cells\",\n",
    "\"8\":\"Mesenchymal\",\n",
    "\"9\":\"Endothelial\",\n",
    "\"10\":\"Unclear\",\n",
    "\"11\":\"Mesenchymal\",\n",
    "\"12\":\"Endothelial\",\n",
    "\"13\":\"Mesenchymal\",\n",
    "\"14\":\"Smooth muscle cell\",\n",
    "}"
   ]
  },
  {
   "cell_type": "code",
   "execution_count": 128,
   "metadata": {},
   "outputs": [],
   "source": [
    "bbknn.obs[\"toppfun_annotation\"] = bbknn.obs['leiden_0.3'].map(toppfun_annotation)"
   ]
  },
  {
   "cell_type": "code",
   "execution_count": 129,
   "metadata": {},
   "outputs": [],
   "source": [
    "sc.pl.umap(\n",
    "    bbknn,\n",
    "    color=[\"toppfun_annotation\"],\n",
    "    frameon=False,\n",
    "    show=False\n",
    ")\n",
    "plt.savefig(\n",
    "    \"./Github/Nuclear_hashing_2025/figs_bbknn_batch_effect_removed/umap_toppfun_anno.png\",\n",
    "    transparent=True,\n",
    "    dpi=300,\n",
    "    facecolor='none',\n",
    "    edgecolor='none'\n",
    ")\n",
    "plt.close() "
   ]
  },
  {
   "cell_type": "code",
   "execution_count": 130,
   "metadata": {},
   "outputs": [],
   "source": [
    "ax = sc.pl.umap(\n",
    "    bbknn,\n",
    "    color=[\"toppfun_annotation\"],\n",
    "    frameon=False,\n",
    "    show=False,\n",
    "    legend_loc='right margin' \n",
    ")\n",
    "\n",
    "fig = plt.gcf()\n",
    "\n",
    "plt.tight_layout(rect=[0, 0, 0.85, 1])  \n",
    "plt.savefig(\n",
    "    \"./Github/Nuclear_hashing_2025/figs_bbknn_batch_effect_removed/umap_toppfun_anno_legend_outside.png\",\n",
    "    dpi=300,\n",
    "    bbox_inches='tight',\n",
    "    transparent=True,\n",
    "    facecolor='none'\n",
    ")\n",
    "plt.close()"
   ]
  },
  {
   "cell_type": "code",
   "execution_count": 131,
   "metadata": {},
   "outputs": [],
   "source": [
    "bbknn.write_h5ad(f'./Github/Nuclear_hashing_2025/data/reannotated_manual_toppfun_batch_corrected_HTODemux_raw_{timestamp}.h5ad')"
   ]
  }
 ],
 "metadata": {
  "kernelspec": {
   "display_name": "scanpy",
   "language": "python",
   "name": "pyscenic"
  },
  "language_info": {
   "codemirror_mode": {
    "name": "ipython",
    "version": 3
   },
   "file_extension": ".py",
   "mimetype": "text/x-python",
   "name": "python",
   "nbconvert_exporter": "python",
   "pygments_lexer": "ipython3",
   "version": "3.13.2"
  }
 },
 "nbformat": 4,
 "nbformat_minor": 2
}
