{
 "cells": [
  {
   "cell_type": "markdown",
   "metadata": {},
   "source": [
    "# Notebook to seperate multinucleated data based on hashtags\n",
    "\n",
    "**Created by :** Srivalli Kolla\n",
    "\n",
    "**Created on :** 06 March, 2025\n",
    "\n",
    "**Modified on :** 06 March, 2025\n",
    "\n",
    "**University of Würzburg**"
   ]
  },
  {
   "cell_type": "markdown",
   "metadata": {},
   "source": [
    "Env : scanpy (Python 3.12.2)"
   ]
  },
  {
   "cell_type": "markdown",
   "metadata": {},
   "source": [
    "# Importing Packages"
   ]
  },
  {
   "cell_type": "code",
   "execution_count": 8,
   "metadata": {},
   "outputs": [],
   "source": [
    "import scanpy as sc\n",
    "import pandas as pd\n",
    "import datetime\n",
    "import os"
   ]
  },
  {
   "cell_type": "code",
   "execution_count": 9,
   "metadata": {},
   "outputs": [
    {
     "name": "stdout",
     "output_type": "stream",
     "text": [
      "-----\n",
      "anndata     0.11.3\n",
      "scanpy      1.10.4\n",
      "-----\n",
      "Cython              3.0.12\n",
      "PIL                 11.1.0\n",
      "asttokens           NA\n",
      "colorama            0.4.6\n",
      "comm                0.2.2\n",
      "cycler              0.12.1\n",
      "cython              3.0.12\n",
      "cython_runtime      NA\n",
      "dateutil            2.9.0.post0\n",
      "debugpy             1.8.12\n",
      "decorator           5.2.1\n",
      "executing           2.1.0\n",
      "h5py                3.13.0\n",
      "ipykernel           6.29.5\n",
      "jedi                0.19.2\n",
      "joblib              1.4.2\n",
      "kiwisolver          1.4.7\n",
      "legacy_api_wrap     NA\n",
      "llvmlite            0.44.0\n",
      "matplotlib          3.10.1\n",
      "mpl_toolkits        NA\n",
      "natsort             8.4.0\n",
      "numba               0.61.0\n",
      "numpy               2.1.3\n",
      "packaging           24.2\n",
      "pandas              2.2.3\n",
      "parso               0.8.4\n",
      "platformdirs        4.3.6\n",
      "prompt_toolkit      3.0.50\n",
      "psutil              7.0.0\n",
      "pure_eval           0.2.3\n",
      "pydev_ipython       NA\n",
      "pydevconsole        NA\n",
      "pydevd              3.2.3\n",
      "pydevd_file_utils   NA\n",
      "pydevd_plugins      NA\n",
      "pydevd_tracing      NA\n",
      "pygments            2.19.1\n",
      "pyparsing           3.2.1\n",
      "pytz                2024.1\n",
      "scipy               1.15.2\n",
      "session_info        1.0.0\n",
      "six                 1.17.0\n",
      "sklearn             1.6.1\n",
      "stack_data          0.6.3\n",
      "threadpoolctl       3.5.0\n",
      "tornado             6.4.2\n",
      "traitlets           5.14.3\n",
      "vscode              NA\n",
      "wcwidth             0.2.13\n",
      "zmq                 26.2.1\n",
      "-----\n",
      "IPython             9.0.1\n",
      "jupyter_client      8.6.3\n",
      "jupyter_core        5.7.2\n",
      "-----\n",
      "Python 3.13.2 | packaged by conda-forge | (main, Feb 17 2025, 14:10:22) [GCC 13.3.0]\n",
      "Linux-6.12.15-200.fc41.x86_64-x86_64-with-glibc2.40\n",
      "-----\n",
      "Session information updated at 2025-03-06 16:26\n"
     ]
    }
   ],
   "source": [
    "sc.settings.verbosity = 3\n",
    "sc.logging.print_versions()\n",
    "\n",
    "timestamp = datetime.datetime.now().strftime(\"%d_%m_%y\")"
   ]
  },
  {
   "cell_type": "markdown",
   "metadata": {},
   "source": [
    "# Importing files"
   ]
  },
  {
   "cell_type": "code",
   "execution_count": 10,
   "metadata": {},
   "outputs": [],
   "source": [
    "file_path = '../data/cellbender_processed_data/0.01_full/cb_0.01_full_with_hashtags_05_03_25.h5ad'\n",
    "raw_adata = sc.read_h5ad(file_path)"
   ]
  },
  {
   "cell_type": "code",
   "execution_count": 11,
   "metadata": {},
   "outputs": [
    {
     "data": {
      "text/html": [
       "<div>\n",
       "<style scoped>\n",
       "    .dataframe tbody tr th:only-of-type {\n",
       "        vertical-align: middle;\n",
       "    }\n",
       "\n",
       "    .dataframe tbody tr th {\n",
       "        vertical-align: top;\n",
       "    }\n",
       "\n",
       "    .dataframe thead th {\n",
       "        text-align: right;\n",
       "    }\n",
       "</style>\n",
       "<table border=\"1\" class=\"dataframe\">\n",
       "  <thead>\n",
       "    <tr style=\"text-align: right;\">\n",
       "      <th></th>\n",
       "      <th>assigned_hashtag</th>\n",
       "    </tr>\n",
       "  </thead>\n",
       "  <tbody>\n",
       "    <tr>\n",
       "      <th>TACCCATTCGAACGCT-1</th>\n",
       "      <td>TotalSeqB7</td>\n",
       "    </tr>\n",
       "    <tr>\n",
       "      <th>TACTCATCACCAGGAC-1</th>\n",
       "      <td>TotalSeqB7</td>\n",
       "    </tr>\n",
       "    <tr>\n",
       "      <th>GCTGCGATCCGCCAGA-1</th>\n",
       "      <td>TotalSeqB3</td>\n",
       "    </tr>\n",
       "    <tr>\n",
       "      <th>TGCCGTTCATGAATGC-1</th>\n",
       "      <td>TotalSeqB7</td>\n",
       "    </tr>\n",
       "    <tr>\n",
       "      <th>ATCGTTGAGGATCTAT-1</th>\n",
       "      <td>TotalSeqB4</td>\n",
       "    </tr>\n",
       "    <tr>\n",
       "      <th>...</th>\n",
       "      <td>...</td>\n",
       "    </tr>\n",
       "    <tr>\n",
       "      <th>GTGCGGTCAATCCGTC-1</th>\n",
       "      <td>TotalSeqB3</td>\n",
       "    </tr>\n",
       "    <tr>\n",
       "      <th>GCCAATATCCCCTGAC-1</th>\n",
       "      <td>TotalSeqB4</td>\n",
       "    </tr>\n",
       "    <tr>\n",
       "      <th>GTCCTATTCGCGAATC-1</th>\n",
       "      <td>TotalSeqB1</td>\n",
       "    </tr>\n",
       "    <tr>\n",
       "      <th>AGTGATCCAAAGGTTC-1</th>\n",
       "      <td>TotalSeqB6</td>\n",
       "    </tr>\n",
       "    <tr>\n",
       "      <th>CCACTATTCGCTCTCA-1</th>\n",
       "      <td>TotalSeqB1</td>\n",
       "    </tr>\n",
       "  </tbody>\n",
       "</table>\n",
       "<p>11525 rows × 1 columns</p>\n",
       "</div>"
      ],
      "text/plain": [
       "                   assigned_hashtag\n",
       "TACCCATTCGAACGCT-1       TotalSeqB7\n",
       "TACTCATCACCAGGAC-1       TotalSeqB7\n",
       "GCTGCGATCCGCCAGA-1       TotalSeqB3\n",
       "TGCCGTTCATGAATGC-1       TotalSeqB7\n",
       "ATCGTTGAGGATCTAT-1       TotalSeqB4\n",
       "...                             ...\n",
       "GTGCGGTCAATCCGTC-1       TotalSeqB3\n",
       "GCCAATATCCCCTGAC-1       TotalSeqB4\n",
       "GTCCTATTCGCGAATC-1       TotalSeqB1\n",
       "AGTGATCCAAAGGTTC-1       TotalSeqB6\n",
       "CCACTATTCGCTCTCA-1       TotalSeqB1\n",
       "\n",
       "[11525 rows x 1 columns]"
      ]
     },
     "execution_count": 11,
     "metadata": {},
     "output_type": "execute_result"
    }
   ],
   "source": [
    "raw_adata.obs"
   ]
  },
  {
   "cell_type": "code",
   "execution_count": 12,
   "metadata": {},
   "outputs": [
    {
     "data": {
      "text/plain": [
       "['TotalSeqB7', 'TotalSeqB3', 'TotalSeqB4', 'TotalSeqB5', 'TotalSeqB8', 'TotalSeqB1', 'TotalSeqB9', 'TotalSeqB6']\n",
       "Categories (8, object): ['TotalSeqB1', 'TotalSeqB3', 'TotalSeqB4', 'TotalSeqB5', 'TotalSeqB6', 'TotalSeqB7', 'TotalSeqB8', 'TotalSeqB9']"
      ]
     },
     "execution_count": 12,
     "metadata": {},
     "output_type": "execute_result"
    }
   ],
   "source": [
    "raw_adata.obs['assigned_hashtag'].unique()"
   ]
  },
  {
   "cell_type": "code",
   "execution_count": 13,
   "metadata": {},
   "outputs": [
    {
     "data": {
      "text/html": [
       "<div>\n",
       "<style scoped>\n",
       "    .dataframe tbody tr th:only-of-type {\n",
       "        vertical-align: middle;\n",
       "    }\n",
       "\n",
       "    .dataframe tbody tr th {\n",
       "        vertical-align: top;\n",
       "    }\n",
       "\n",
       "    .dataframe thead th {\n",
       "        text-align: right;\n",
       "    }\n",
       "</style>\n",
       "<table border=\"1\" class=\"dataframe\">\n",
       "  <thead>\n",
       "    <tr style=\"text-align: right;\">\n",
       "      <th></th>\n",
       "      <th>gene_ids</th>\n",
       "      <th>feature_types</th>\n",
       "      <th>genome</th>\n",
       "    </tr>\n",
       "  </thead>\n",
       "  <tbody>\n",
       "    <tr>\n",
       "      <th>Xkr4</th>\n",
       "      <td>ENSMUSG00000051951</td>\n",
       "      <td>Gene Expression</td>\n",
       "      <td>NA</td>\n",
       "    </tr>\n",
       "    <tr>\n",
       "      <th>Gm1992</th>\n",
       "      <td>ENSMUSG00000089699</td>\n",
       "      <td>Gene Expression</td>\n",
       "      <td>NA</td>\n",
       "    </tr>\n",
       "    <tr>\n",
       "      <th>Gm19938</th>\n",
       "      <td>ENSMUSG00000102331</td>\n",
       "      <td>Gene Expression</td>\n",
       "      <td>NA</td>\n",
       "    </tr>\n",
       "    <tr>\n",
       "      <th>Gm37381</th>\n",
       "      <td>ENSMUSG00000102343</td>\n",
       "      <td>Gene Expression</td>\n",
       "      <td>NA</td>\n",
       "    </tr>\n",
       "    <tr>\n",
       "      <th>Rp1</th>\n",
       "      <td>ENSMUSG00000025900</td>\n",
       "      <td>Gene Expression</td>\n",
       "      <td>NA</td>\n",
       "    </tr>\n",
       "    <tr>\n",
       "      <th>...</th>\n",
       "      <td>...</td>\n",
       "      <td>...</td>\n",
       "      <td>...</td>\n",
       "    </tr>\n",
       "    <tr>\n",
       "      <th>TotalSeqB5</th>\n",
       "      <td>Hash5</td>\n",
       "      <td>Antibody Capture</td>\n",
       "      <td>NA</td>\n",
       "    </tr>\n",
       "    <tr>\n",
       "      <th>TotalSeqB6</th>\n",
       "      <td>Hash6</td>\n",
       "      <td>Antibody Capture</td>\n",
       "      <td>NA</td>\n",
       "    </tr>\n",
       "    <tr>\n",
       "      <th>TotalSeqB7</th>\n",
       "      <td>Hash7</td>\n",
       "      <td>Antibody Capture</td>\n",
       "      <td>NA</td>\n",
       "    </tr>\n",
       "    <tr>\n",
       "      <th>TotalSeqB8</th>\n",
       "      <td>Hash8</td>\n",
       "      <td>Antibody Capture</td>\n",
       "      <td>NA</td>\n",
       "    </tr>\n",
       "    <tr>\n",
       "      <th>TotalSeqB9</th>\n",
       "      <td>Hash9</td>\n",
       "      <td>Antibody Capture</td>\n",
       "      <td>NA</td>\n",
       "    </tr>\n",
       "  </tbody>\n",
       "</table>\n",
       "<p>32293 rows × 3 columns</p>\n",
       "</div>"
      ],
      "text/plain": [
       "                      gene_ids     feature_types genome\n",
       "Xkr4        ENSMUSG00000051951   Gene Expression     NA\n",
       "Gm1992      ENSMUSG00000089699   Gene Expression     NA\n",
       "Gm19938     ENSMUSG00000102331   Gene Expression     NA\n",
       "Gm37381     ENSMUSG00000102343   Gene Expression     NA\n",
       "Rp1         ENSMUSG00000025900   Gene Expression     NA\n",
       "...                        ...               ...    ...\n",
       "TotalSeqB5               Hash5  Antibody Capture     NA\n",
       "TotalSeqB6               Hash6  Antibody Capture     NA\n",
       "TotalSeqB7               Hash7  Antibody Capture     NA\n",
       "TotalSeqB8               Hash8  Antibody Capture     NA\n",
       "TotalSeqB9               Hash9  Antibody Capture     NA\n",
       "\n",
       "[32293 rows x 3 columns]"
      ]
     },
     "execution_count": 13,
     "metadata": {},
     "output_type": "execute_result"
    }
   ],
   "source": [
    "raw_adata.var"
   ]
  },
  {
   "cell_type": "markdown",
   "metadata": {},
   "source": [
    "# Features check"
   ]
  },
  {
   "cell_type": "markdown",
   "metadata": {},
   "source": [
    "1. Get the raw data as a DataFrame\n",
    "2. Keep only HTO features"
   ]
  },
  {
   "cell_type": "code",
   "execution_count": 14,
   "metadata": {},
   "outputs": [
    {
     "name": "stdout",
     "output_type": "stream",
     "text": [
      "Raw Data Head:\n",
      "                    TotalSeqB1  TotalSeqB3  TotalSeqB4  TotalSeqB5  \\\n",
      "TACCCATTCGAACGCT-1           0           0         375           1   \n",
      "TACTCATCACCAGGAC-1           0           0           0           0   \n",
      "GCTGCGATCCGCCAGA-1           1        2366           0           0   \n",
      "TGCCGTTCATGAATGC-1           1           1           0         215   \n",
      "ATCGTTGAGGATCTAT-1           0           0        2628           0   \n",
      "\n",
      "                    TotalSeqB6  TotalSeqB7  TotalSeqB8  TotalSeqB9  \n",
      "TACCCATTCGAACGCT-1           0        1546           0           0  \n",
      "TACTCATCACCAGGAC-1           2        1333           0           0  \n",
      "GCTGCGATCCGCCAGA-1           1           1           0           0  \n",
      "TGCCGTTCATGAATGC-1           1         915           0           0  \n",
      "ATCGTTGAGGATCTAT-1           0           0           0           0  \n"
     ]
    }
   ],
   "source": [
    "hto_features = [f for f in raw_adata.var_names if \"Totalseq\" in f or raw_adata.var.loc[f, \"feature_types\"] == \"Antibody Capture\"]\n",
    "\n",
    "\n",
    "raw_df = pd.DataFrame(raw_adata.X.toarray(), index=raw_adata.obs.index, columns=raw_adata.var_names)\n",
    "raw_df = raw_df[hto_features]\n",
    "\n",
    "print(\"Raw Data Head:\")\n",
    "print(raw_df.head())\n",
    "\n",
    "hto_counts_list = []"
   ]
  },
  {
   "cell_type": "markdown",
   "metadata": {},
   "source": [
    "# Hashtag Assignment"
   ]
  },
  {
   "cell_type": "markdown",
   "metadata": {},
   "source": [
    "1. Initialize a list to store the assigned hashtag for each cell\n",
    "2. Set a threshold for HTO detection\n",
    "3. Classify cells based on their highest HTO expression\n",
    "4. Check if the row has any non-zero values before applying idxmax\n",
    "5. Find the hashtag with the highest count\n",
    "6. If the max count is above the threshold, classify this cell to that hashtag\n",
    "7. Add the classification results to `raw_adata.obs`"
   ]
  },
  {
   "cell_type": "code",
   "execution_count": 15,
   "metadata": {},
   "outputs": [
    {
     "data": {
      "text/plain": [
       "array(['TotalSeqB7', 'TotalSeqB3', 'TotalSeqB4', 'TotalSeqB5',\n",
       "       'TotalSeqB8', 'TotalSeqB1', 'TotalSeqB9', 'TotalSeqB6',\n",
       "       'No Hashtag Detected'], dtype=object)"
      ]
     },
     "execution_count": 15,
     "metadata": {},
     "output_type": "execute_result"
    }
   ],
   "source": [
    "nuclei_groups = []\n",
    "threshold = 10  \n",
    " \n",
    "for cell in raw_df.index:\n",
    "    counts = raw_df.loc[cell]\n",
    "    \n",
    "    if counts.max() == 0:\n",
    "        nuclei_groups.append('No Hashtag Detected')  \n",
    "    else:\n",
    "        max_hto = counts.idxmax()\n",
    "\n",
    "        if counts[max_hto] > threshold:\n",
    "            nuclei_groups.append(max_hto)\n",
    "        else:\n",
    "            nuclei_groups.append('No Hashtag Detected')  \n",
    "\n",
    "raw_adata.obs['assigned_hashtag'] = nuclei_groups\n",
    "assigned_hashtags = raw_adata.obs['assigned_hashtag'].unique()\n",
    "assigned_hashtags"
   ]
  },
  {
   "cell_type": "markdown",
   "metadata": {},
   "source": [
    "# Writing files"
   ]
  },
  {
   "cell_type": "markdown",
   "metadata": {},
   "source": [
    "1. Loop through each assigned hashtag and inspect the data\n",
    "2. Subset the data for the current hashtag group\n",
    "3. Print contents\n",
    "4. Sanitize the hashtag to make it a valid file name\n",
    "5. Create output folder and file"
   ]
  },
  {
   "cell_type": "code",
   "execution_count": 16,
   "metadata": {},
   "outputs": [
    {
     "name": "stdout",
     "output_type": "stream",
     "text": [
      "Number of cells in TotalSeqB7: 1257\n"
     ]
    },
    {
     "name": "stderr",
     "output_type": "stream",
     "text": [
      "/home/gruengroup/srivalli/miniconda3/envs/scanpy/lib/python3.13/site-packages/anndata/_core/anndata.py:1146: ImplicitModificationWarning: Trying to modify attribute `.obs` of view, initializing view as actual.\n",
      "  df[key] = c\n"
     ]
    },
    {
     "name": "stdout",
     "output_type": "stream",
     "text": [
      "Saved TotalSeqB7 subset to ../data/processed_by_hashtag/TotalSeqB7_subset_06_03_25.h5ad\n",
      "Number of cells in TotalSeqB3: 1590\n"
     ]
    },
    {
     "name": "stderr",
     "output_type": "stream",
     "text": [
      "/home/gruengroup/srivalli/miniconda3/envs/scanpy/lib/python3.13/site-packages/anndata/_core/anndata.py:1146: ImplicitModificationWarning: Trying to modify attribute `.obs` of view, initializing view as actual.\n",
      "  df[key] = c\n"
     ]
    },
    {
     "name": "stdout",
     "output_type": "stream",
     "text": [
      "Saved TotalSeqB3 subset to ../data/processed_by_hashtag/TotalSeqB3_subset_06_03_25.h5ad\n",
      "Number of cells in TotalSeqB4: 3151\n"
     ]
    },
    {
     "name": "stderr",
     "output_type": "stream",
     "text": [
      "/home/gruengroup/srivalli/miniconda3/envs/scanpy/lib/python3.13/site-packages/anndata/_core/anndata.py:1146: ImplicitModificationWarning: Trying to modify attribute `.obs` of view, initializing view as actual.\n",
      "  df[key] = c\n"
     ]
    },
    {
     "name": "stdout",
     "output_type": "stream",
     "text": [
      "Saved TotalSeqB4 subset to ../data/processed_by_hashtag/TotalSeqB4_subset_06_03_25.h5ad\n",
      "Number of cells in TotalSeqB5: 1950\n"
     ]
    },
    {
     "name": "stderr",
     "output_type": "stream",
     "text": [
      "/home/gruengroup/srivalli/miniconda3/envs/scanpy/lib/python3.13/site-packages/anndata/_core/anndata.py:1146: ImplicitModificationWarning: Trying to modify attribute `.obs` of view, initializing view as actual.\n",
      "  df[key] = c\n"
     ]
    },
    {
     "name": "stdout",
     "output_type": "stream",
     "text": [
      "Saved TotalSeqB5 subset to ../data/processed_by_hashtag/TotalSeqB5_subset_06_03_25.h5ad\n",
      "Number of cells in TotalSeqB8: 409\n"
     ]
    },
    {
     "name": "stderr",
     "output_type": "stream",
     "text": [
      "/home/gruengroup/srivalli/miniconda3/envs/scanpy/lib/python3.13/site-packages/anndata/_core/anndata.py:1146: ImplicitModificationWarning: Trying to modify attribute `.obs` of view, initializing view as actual.\n",
      "  df[key] = c\n"
     ]
    },
    {
     "name": "stdout",
     "output_type": "stream",
     "text": [
      "Saved TotalSeqB8 subset to ../data/processed_by_hashtag/TotalSeqB8_subset_06_03_25.h5ad\n",
      "Number of cells in TotalSeqB1: 417\n"
     ]
    },
    {
     "name": "stderr",
     "output_type": "stream",
     "text": [
      "/home/gruengroup/srivalli/miniconda3/envs/scanpy/lib/python3.13/site-packages/anndata/_core/anndata.py:1146: ImplicitModificationWarning: Trying to modify attribute `.obs` of view, initializing view as actual.\n",
      "  df[key] = c\n"
     ]
    },
    {
     "name": "stdout",
     "output_type": "stream",
     "text": [
      "Saved TotalSeqB1 subset to ../data/processed_by_hashtag/TotalSeqB1_subset_06_03_25.h5ad\n",
      "Number of cells in TotalSeqB9: 473\n"
     ]
    },
    {
     "name": "stderr",
     "output_type": "stream",
     "text": [
      "/home/gruengroup/srivalli/miniconda3/envs/scanpy/lib/python3.13/site-packages/anndata/_core/anndata.py:1146: ImplicitModificationWarning: Trying to modify attribute `.obs` of view, initializing view as actual.\n",
      "  df[key] = c\n"
     ]
    },
    {
     "name": "stdout",
     "output_type": "stream",
     "text": [
      "Saved TotalSeqB9 subset to ../data/processed_by_hashtag/TotalSeqB9_subset_06_03_25.h5ad\n",
      "Number of cells in TotalSeqB6: 367\n"
     ]
    },
    {
     "name": "stderr",
     "output_type": "stream",
     "text": [
      "/home/gruengroup/srivalli/miniconda3/envs/scanpy/lib/python3.13/site-packages/anndata/_core/anndata.py:1146: ImplicitModificationWarning: Trying to modify attribute `.obs` of view, initializing view as actual.\n",
      "  df[key] = c\n"
     ]
    },
    {
     "name": "stdout",
     "output_type": "stream",
     "text": [
      "Saved TotalSeqB6 subset to ../data/processed_by_hashtag/TotalSeqB6_subset_06_03_25.h5ad\n",
      "Number of cells in No Hashtag Detected: 1911\n"
     ]
    },
    {
     "name": "stderr",
     "output_type": "stream",
     "text": [
      "/home/gruengroup/srivalli/miniconda3/envs/scanpy/lib/python3.13/site-packages/anndata/_core/anndata.py:1146: ImplicitModificationWarning: Trying to modify attribute `.obs` of view, initializing view as actual.\n",
      "  df[key] = c\n"
     ]
    },
    {
     "name": "stdout",
     "output_type": "stream",
     "text": [
      "Saved No Hashtag Detected subset to ../data/processed_by_hashtag/No_Hashtag_Detected_subset_06_03_25.h5ad\n"
     ]
    }
   ],
   "source": [
    "for hashtag in assigned_hashtags:\n",
    "    \n",
    "    subset_adata = raw_adata[raw_adata.obs['assigned_hashtag'] == hashtag]\n",
    "    \n",
    "    print(f\"Number of cells in {hashtag}: {subset_adata.shape[0]}\")\n",
    "    \n",
    "    hashtag_sanitized = hashtag.replace(\" \", \"_\").replace(\"/\", \"_\").replace(\":\", \"_\").replace(\",\", \"_\")\n",
    "\n",
    "    output_dir = '../data/processed_by_hashtag'\n",
    "    output_file = os.path.join(output_dir, f'{hashtag_sanitized}_subset_{timestamp}.h5ad')\n",
    "\n",
    "    subset_adata.write(output_file)\n",
    "    print(f'Saved {hashtag} subset to {output_file}')"
   ]
  },
  {
   "cell_type": "markdown",
   "metadata": {},
   "source": [
    "# Checking no hashtag data"
   ]
  },
  {
   "cell_type": "code",
   "execution_count": 20,
   "metadata": {},
   "outputs": [
    {
     "name": "stdout",
     "output_type": "stream",
     "text": [
      "HTO Counts for 'No Hashtag Detected' Cells:\n",
      "                    TotalSeqB1  TotalSeqB3  TotalSeqB4  TotalSeqB5  \\\n",
      "CCTACCGCAACCCGAA-1           0           2           0           0   \n",
      "ACTCACCCAATACTGA-1           0           2           0           1   \n",
      "GTACCAGCATTGCACC-1           0           1           0           0   \n",
      "CGTCCAAGTGATTGCT-1           0           2           0           4   \n",
      "AAACTCACATGAGTGT-1           0           0           0           3   \n",
      "\n",
      "                    TotalSeqB6  TotalSeqB7  TotalSeqB8  TotalSeqB9  \n",
      "CCTACCGCAACCCGAA-1           0           0           0           0  \n",
      "ACTCACCCAATACTGA-1           0           0           0           0  \n",
      "GTACCAGCATTGCACC-1           0           0           0           0  \n",
      "CGTCCAAGTGATTGCT-1           0           0           0           0  \n",
      "AAACTCACATGAGTGT-1           0           0           0           0  \n"
     ]
    }
   ],
   "source": [
    "file_path = '../data/processed_by_hashtag/No_Hashtag_Detected_subset_06_03_25.h5ad'\n",
    "no_hashtag_adata = sc.read_h5ad(file_path)\n",
    "\n",
    "no_hashtag_cells = no_hashtag_adata.obs[no_hashtag_adata.obs['assigned_hashtag'] == 'No Hashtag Detected']\n",
    "hto_features = [f for f in no_hashtag_adata.var_names if \"Totalseq\" in f or no_hashtag_adata.var.loc[f, \"feature_types\"] == \"Antibody Capture\"]\n",
    "hto_counts_no_hashtag = no_hashtag_adata[no_hashtag_cells.index, hto_features].X.toarray()\n",
    "hto_counts_no_hashtag_df = pd.DataFrame(hto_counts_no_hashtag, index=no_hashtag_cells.index, columns=hto_features)\n",
    "\n",
    "print(\"HTO Counts for 'No Hashtag Detected' Cells:\")\n",
    "print(hto_counts_no_hashtag_df.head())"
   ]
  }
 ],
 "metadata": {
  "kernelspec": {
   "display_name": "scanpy",
   "language": "python",
   "name": "python3"
  },
  "language_info": {
   "codemirror_mode": {
    "name": "ipython",
    "version": 3
   },
   "file_extension": ".py",
   "mimetype": "text/x-python",
   "name": "python",
   "nbconvert_exporter": "python",
   "pygments_lexer": "ipython3",
   "version": "3.13.2"
  }
 },
 "nbformat": 4,
 "nbformat_minor": 2
}
