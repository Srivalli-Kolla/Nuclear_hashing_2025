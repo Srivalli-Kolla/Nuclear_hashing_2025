{
 "cells": [
  {
   "cell_type": "markdown",
   "metadata": {},
   "source": [
    "# Notebook to run basic analysis on Cellbender data - 0.01 Full model\n",
    "\n",
    "**Created by :** Srivalli Kolla\n",
    "\n",
    "**Created on :** 05 March, 2025\n",
    "\n",
    "**Modified on :** 05 March, 2025\n",
    "\n",
    "**University of Würzburg**"
   ]
  },
  {
   "cell_type": "markdown",
   "metadata": {},
   "source": [
    "Env : scanpy (Python 3.12.2)"
   ]
  },
  {
   "cell_type": "markdown",
   "metadata": {},
   "source": [
    "# Importing Packages"
   ]
  },
  {
   "cell_type": "code",
   "execution_count": 1,
   "metadata": {},
   "outputs": [
    {
     "name": "stderr",
     "output_type": "stream",
     "text": [
      "/home/gruengroup/srivalli/miniconda3/envs/scanpy/lib/python3.13/site-packages/tqdm/auto.py:21: TqdmWarning: IProgress not found. Please update jupyter and ipywidgets. See https://ipywidgets.readthedocs.io/en/stable/user_install.html\n",
      "  from .autonotebook import tqdm as notebook_tqdm\n"
     ]
    }
   ],
   "source": [
    "import anndata as ad\n",
    "import scanpy as sc\n",
    "import os\n",
    "import datetime\n",
    "import bbknn\n",
    "import random\n",
    "import matplotlib.pyplot as plt\n",
    "import numpy as np\n",
    "import pandas as pd\n",
    "import seaborn as sns\n",
    "import h5py\n",
    "from scipy.stats import median_abs_deviation"
   ]
  },
  {
   "cell_type": "code",
   "execution_count": 2,
   "metadata": {},
   "outputs": [
    {
     "name": "stdout",
     "output_type": "stream",
     "text": [
      "-----\n",
      "anndata     0.11.3\n",
      "scanpy      1.10.4\n",
      "-----\n",
      "Cython              3.0.12\n",
      "PIL                 11.1.0\n",
      "annoy               NA\n",
      "asttokens           NA\n",
      "bbknn               1.6.0\n",
      "colorama            0.4.6\n",
      "comm                0.2.2\n",
      "cycler              0.12.1\n",
      "cython              3.0.12\n",
      "cython_runtime      NA\n",
      "dateutil            2.9.0.post0\n",
      "debugpy             1.8.12\n",
      "decorator           5.2.1\n",
      "executing           2.1.0\n",
      "h5py                3.13.0\n",
      "ipykernel           6.29.5\n",
      "jedi                0.19.2\n",
      "joblib              1.4.2\n",
      "kiwisolver          1.4.7\n",
      "legacy_api_wrap     NA\n",
      "llvmlite            0.44.0\n",
      "matplotlib          3.10.1\n",
      "mpl_toolkits        NA\n",
      "natsort             8.4.0\n",
      "numba               0.61.0\n",
      "numpy               2.1.3\n",
      "packaging           24.2\n",
      "pandas              2.2.3\n",
      "parso               0.8.4\n",
      "patsy               1.0.1\n",
      "platformdirs        4.3.6\n",
      "prompt_toolkit      3.0.50\n",
      "psutil              7.0.0\n",
      "pure_eval           0.2.3\n",
      "pydev_ipython       NA\n",
      "pydevconsole        NA\n",
      "pydevd              3.2.3\n",
      "pydevd_file_utils   NA\n",
      "pydevd_plugins      NA\n",
      "pydevd_tracing      NA\n",
      "pygments            2.19.1\n",
      "pynndescent         0.5.13\n",
      "pyparsing           3.2.1\n",
      "pytz                2024.1\n",
      "scipy               1.15.2\n",
      "seaborn             0.13.2\n",
      "session_info        1.0.0\n",
      "six                 1.17.0\n",
      "sklearn             1.6.1\n",
      "stack_data          0.6.3\n",
      "statsmodels         0.14.4\n",
      "threadpoolctl       3.5.0\n",
      "tornado             6.4.2\n",
      "tqdm                4.67.1\n",
      "traitlets           5.14.3\n",
      "umap                0.5.7\n",
      "vscode              NA\n",
      "wcwidth             0.2.13\n",
      "zmq                 26.2.1\n",
      "-----\n",
      "IPython             9.0.1\n",
      "jupyter_client      8.6.3\n",
      "jupyter_core        5.7.2\n",
      "-----\n",
      "Python 3.13.2 | packaged by conda-forge | (main, Feb 17 2025, 14:10:22) [GCC 13.3.0]\n",
      "Linux-6.12.15-200.fc41.x86_64-x86_64-with-glibc2.40\n",
      "-----\n",
      "Session information updated at 2025-03-05 14:18\n"
     ]
    }
   ],
   "source": [
    "sc.settings.verbosity = 3\n",
    "sc.logging.print_versions()\n",
    "\n",
    "plt.rcParams['figure.dpi'] = 300  \n",
    "plt.rcParams['savefig.dpi'] = 300\n",
    "\n",
    "timestamp = datetime.datetime.now().strftime(\"%d_%m_%y\")"
   ]
  },
  {
   "cell_type": "markdown",
   "metadata": {},
   "source": [
    "# Data loading"
   ]
  },
  {
   "cell_type": "code",
   "execution_count": 3,
   "metadata": {},
   "outputs": [
    {
     "name": "stdout",
     "output_type": "stream",
     "text": [
      "reading ../data/cellbender_processed_data/0.01_full/0.01_after_cb_filtered.h5\n",
      " (0:00:01)\n"
     ]
    },
    {
     "name": "stderr",
     "output_type": "stream",
     "text": [
      "/home/gruengroup/srivalli/miniconda3/envs/scanpy/lib/python3.13/site-packages/anndata/_core/anndata.py:1758: UserWarning: Variable names are not unique. To make them unique, call `.var_names_make_unique`.\n",
      "  utils.warn_names_duplicates(\"var\")\n"
     ]
    },
    {
     "data": {
      "text/plain": [
       "AnnData object with n_obs × n_vars = 11525 × 32293\n",
       "    var: 'gene_ids', 'feature_types', 'genome'"
      ]
     },
     "execution_count": 3,
     "metadata": {},
     "output_type": "execute_result"
    }
   ],
   "source": [
    "after_cb_raw = sc.read_10x_h5('../data/cellbender_processed_data/0.01_full/0.01_after_cb_filtered.h5',gex_only=False)\n",
    "after_cb_raw"
   ]
  },
  {
   "cell_type": "code",
   "execution_count": 4,
   "metadata": {},
   "outputs": [
    {
     "data": {
      "text/html": [
       "<div>\n",
       "<style scoped>\n",
       "    .dataframe tbody tr th:only-of-type {\n",
       "        vertical-align: middle;\n",
       "    }\n",
       "\n",
       "    .dataframe tbody tr th {\n",
       "        vertical-align: top;\n",
       "    }\n",
       "\n",
       "    .dataframe thead th {\n",
       "        text-align: right;\n",
       "    }\n",
       "</style>\n",
       "<table border=\"1\" class=\"dataframe\">\n",
       "  <thead>\n",
       "    <tr style=\"text-align: right;\">\n",
       "      <th></th>\n",
       "    </tr>\n",
       "  </thead>\n",
       "  <tbody>\n",
       "    <tr>\n",
       "      <th>TACCCATTCGAACGCT-1</th>\n",
       "    </tr>\n",
       "    <tr>\n",
       "      <th>TACTCATCACCAGGAC-1</th>\n",
       "    </tr>\n",
       "    <tr>\n",
       "      <th>GCTGCGATCCGCCAGA-1</th>\n",
       "    </tr>\n",
       "    <tr>\n",
       "      <th>TGCCGTTCATGAATGC-1</th>\n",
       "    </tr>\n",
       "    <tr>\n",
       "      <th>ATCGTTGAGGATCTAT-1</th>\n",
       "    </tr>\n",
       "    <tr>\n",
       "      <th>...</th>\n",
       "    </tr>\n",
       "    <tr>\n",
       "      <th>GTGCGGTCAATCCGTC-1</th>\n",
       "    </tr>\n",
       "    <tr>\n",
       "      <th>GCCAATATCCCCTGAC-1</th>\n",
       "    </tr>\n",
       "    <tr>\n",
       "      <th>GTCCTATTCGCGAATC-1</th>\n",
       "    </tr>\n",
       "    <tr>\n",
       "      <th>AGTGATCCAAAGGTTC-1</th>\n",
       "    </tr>\n",
       "    <tr>\n",
       "      <th>CCACTATTCGCTCTCA-1</th>\n",
       "    </tr>\n",
       "  </tbody>\n",
       "</table>\n",
       "<p>11525 rows × 0 columns</p>\n",
       "</div>"
      ],
      "text/plain": [
       "Empty DataFrame\n",
       "Columns: []\n",
       "Index: [TACCCATTCGAACGCT-1, TACTCATCACCAGGAC-1, GCTGCGATCCGCCAGA-1, TGCCGTTCATGAATGC-1, ATCGTTGAGGATCTAT-1, AGCCAGCCACCTTAGC-1, TCTAGCTTCCTCTAGT-1, ACATGGCTCACTAGAT-1, TGAGCCACATTAGGTA-1, CATAGGTCAATCTGGG-1, CACCCTTGTCAAGTCT-1, CGCTCCACAAAGGATG-1, TCAACATAGCTTACCT-1, ACCTACCCATCCTGCG-1, CAGCGGTCATTAGACA-1, CAATCCTTCCGGTTAA-1, TAGGTGGAGGTGCATC-1, CAAACCGCAACGGCAC-1, AAAGTGATCGCGCTTC-1, CGAATCATCGCTCCTA-1, AACACACCAACTACTT-1, CCCTACGCATTGGCAG-1, ACTTTGCTCGCATTGA-1, TATCCATCATCACACC-1, GTTACTTCAGCACGGT-1, CTGCTCTGTTTAGGTC-1, GGGCCTTGTTATGTCA-1, AGCCCTAGTTAATGCC-1, TCAGCCAGTTCACGAT-1, TGTAGCTGTTCGTCCT-1, ATCATCCTCCCGTGAG-1, CTACAGGCATTAAGCA-1, CTATCGTTCGAATCTG-1, ACCCATCCAACCCGAA-1, GCGCCTAAGTCGACGT-1, AACGCTATCCTTGGAA-1, GCCAATATCCCTGTGC-1, ACAACAGGTAACTGTC-1, TCATCGAAGTTGGTCA-1, GCCGTCAAGATTCCCT-1, CTTGCTTAGGCTTAAT-1, TGGCATATCCTGGTCC-1, CTGCTTACATCCATGC-1, GGAATATGTTATCGCG-1, AAGGGCATCGTAGTGC-1, CTAGCATGTCTGGTGC-1, CACCTCGCAGCACTCT-1, GGGCCTTGTCAGTCCA-1, TCTCTATGTTGACCCA-1, CCCGGTTTCCGCGATG-1, TCGCATGGTTGACGAA-1, CTATATGGTTCGTTAA-1, TACCTGTTCCCTGGCT-1, CCAATAGTCTGGCTGG-1, CTTGGCCTCTAGTTCC-1, CCTTTAGCATCCCAAC-1, TCGACTAAGTCGCATA-1, CATTTGAGTCATCGGC-1, ACCATAACATTAGTGA-1, ATCTCATCACTAGGGC-1, TCGCCATCAAGCTAAC-1, CCAAAGCTCGCTTGCC-1, CATCACCCAACCTGAG-1, TCACCCTGTTGCACCA-1, ACCTAACGTTATAGCC-1, TGAAACTTCAATCAGT-1, AACCTCAAGCCACATA-1, TGCGGGTCATGACCTC-1, AATTCCTCATTACTAC-1, ACCTCCGCAGGTTGGC-1, CATACATAGGCTTGGT-1, AGCCTTGGTATTGGTC-1, ATTCGCTTCCCTCGGT-1, AATGCGGAGGTTGGCT-1, GGCAACTTCGCTCTGC-1, GTCCCTCAGGTGCTGT-1, GTACGATCATGACCTC-1, TGGACGAAGCATTCGA-1, TCTAACCTCACTCTAC-1, AGTCAGCTCGATGTGC-1, AATACGAAGAACCTAT-1, CTCATCACACCTTACA-1, CAGGTCACACAACGGC-1, CCTATAGAGCCACTCC-1, TGGAGCGGTTTCGAGT-1, AACTTGGTCCTGACTT-1, TCCTTATGTTTGCAGT-1, ATAGCCTGTTGACCTG-1, TCTCGATTCACAGCAC-1, CCGACCTTCCTCGACC-1, GTACGGTTCCTCTAAC-1, CACTGTCCATAGGTCG-1, GCTTGAATCCATTAGG-1, CAAACCATCTGGCTAA-1, CACCACCTCTATGACG-1, AAGTGATGTTCCGGTA-1, CTACGCCTCAGTTGCA-1, ATCCTGTTCAATCAAC-1, CCTACCGCAACCCGAA-1, CCCACTATCGCTTGGG-1, ...]\n",
       "\n",
       "[11525 rows x 0 columns]"
      ]
     },
     "execution_count": 4,
     "metadata": {},
     "output_type": "execute_result"
    }
   ],
   "source": [
    "after_cb_raw.obs"
   ]
  },
  {
   "cell_type": "code",
   "execution_count": 5,
   "metadata": {},
   "outputs": [
    {
     "data": {
      "text/html": [
       "<div>\n",
       "<style scoped>\n",
       "    .dataframe tbody tr th:only-of-type {\n",
       "        vertical-align: middle;\n",
       "    }\n",
       "\n",
       "    .dataframe tbody tr th {\n",
       "        vertical-align: top;\n",
       "    }\n",
       "\n",
       "    .dataframe thead th {\n",
       "        text-align: right;\n",
       "    }\n",
       "</style>\n",
       "<table border=\"1\" class=\"dataframe\">\n",
       "  <thead>\n",
       "    <tr style=\"text-align: right;\">\n",
       "      <th></th>\n",
       "      <th>gene_ids</th>\n",
       "      <th>feature_types</th>\n",
       "      <th>genome</th>\n",
       "    </tr>\n",
       "  </thead>\n",
       "  <tbody>\n",
       "    <tr>\n",
       "      <th>Xkr4</th>\n",
       "      <td>ENSMUSG00000051951</td>\n",
       "      <td>Gene Expression</td>\n",
       "      <td>NA</td>\n",
       "    </tr>\n",
       "    <tr>\n",
       "      <th>Gm1992</th>\n",
       "      <td>ENSMUSG00000089699</td>\n",
       "      <td>Gene Expression</td>\n",
       "      <td>NA</td>\n",
       "    </tr>\n",
       "    <tr>\n",
       "      <th>Gm19938</th>\n",
       "      <td>ENSMUSG00000102331</td>\n",
       "      <td>Gene Expression</td>\n",
       "      <td>NA</td>\n",
       "    </tr>\n",
       "    <tr>\n",
       "      <th>Gm37381</th>\n",
       "      <td>ENSMUSG00000102343</td>\n",
       "      <td>Gene Expression</td>\n",
       "      <td>NA</td>\n",
       "    </tr>\n",
       "    <tr>\n",
       "      <th>Rp1</th>\n",
       "      <td>ENSMUSG00000025900</td>\n",
       "      <td>Gene Expression</td>\n",
       "      <td>NA</td>\n",
       "    </tr>\n",
       "    <tr>\n",
       "      <th>...</th>\n",
       "      <td>...</td>\n",
       "      <td>...</td>\n",
       "      <td>...</td>\n",
       "    </tr>\n",
       "    <tr>\n",
       "      <th>TotalSeqB5</th>\n",
       "      <td>Hash5</td>\n",
       "      <td>Antibody Capture</td>\n",
       "      <td>NA</td>\n",
       "    </tr>\n",
       "    <tr>\n",
       "      <th>TotalSeqB6</th>\n",
       "      <td>Hash6</td>\n",
       "      <td>Antibody Capture</td>\n",
       "      <td>NA</td>\n",
       "    </tr>\n",
       "    <tr>\n",
       "      <th>TotalSeqB7</th>\n",
       "      <td>Hash7</td>\n",
       "      <td>Antibody Capture</td>\n",
       "      <td>NA</td>\n",
       "    </tr>\n",
       "    <tr>\n",
       "      <th>TotalSeqB8</th>\n",
       "      <td>Hash8</td>\n",
       "      <td>Antibody Capture</td>\n",
       "      <td>NA</td>\n",
       "    </tr>\n",
       "    <tr>\n",
       "      <th>TotalSeqB9</th>\n",
       "      <td>Hash9</td>\n",
       "      <td>Antibody Capture</td>\n",
       "      <td>NA</td>\n",
       "    </tr>\n",
       "  </tbody>\n",
       "</table>\n",
       "<p>32293 rows × 3 columns</p>\n",
       "</div>"
      ],
      "text/plain": [
       "                      gene_ids     feature_types genome\n",
       "Xkr4        ENSMUSG00000051951   Gene Expression     NA\n",
       "Gm1992      ENSMUSG00000089699   Gene Expression     NA\n",
       "Gm19938     ENSMUSG00000102331   Gene Expression     NA\n",
       "Gm37381     ENSMUSG00000102343   Gene Expression     NA\n",
       "Rp1         ENSMUSG00000025900   Gene Expression     NA\n",
       "...                        ...               ...    ...\n",
       "TotalSeqB5               Hash5  Antibody Capture     NA\n",
       "TotalSeqB6               Hash6  Antibody Capture     NA\n",
       "TotalSeqB7               Hash7  Antibody Capture     NA\n",
       "TotalSeqB8               Hash8  Antibody Capture     NA\n",
       "TotalSeqB9               Hash9  Antibody Capture     NA\n",
       "\n",
       "[32293 rows x 3 columns]"
      ]
     },
     "execution_count": 5,
     "metadata": {},
     "output_type": "execute_result"
    }
   ],
   "source": [
    "after_cb_raw.var"
   ]
  },
  {
   "cell_type": "code",
   "execution_count": 6,
   "metadata": {},
   "outputs": [
    {
     "data": {
      "text/plain": [
       "array(['Gene Expression', 'Antibody Capture'], dtype=object)"
      ]
     },
     "execution_count": 6,
     "metadata": {},
     "output_type": "execute_result"
    }
   ],
   "source": [
    "after_cb_raw.var['feature_types'].unique()"
   ]
  },
  {
   "cell_type": "code",
   "execution_count": 7,
   "metadata": {},
   "outputs": [
    {
     "name": "stdout",
     "output_type": "stream",
     "text": [
      "True\n"
     ]
    }
   ],
   "source": [
    "def X_is_raw(after_cb_raw):\n",
    "    return np.array_equal(after_cb_raw.X.sum(axis=0).astype(int), after_cb_raw.X.sum(axis=0))\n",
    "\n",
    "is_raw = X_is_raw(after_cb_raw)\n",
    "print(is_raw)"
   ]
  },
  {
   "cell_type": "markdown",
   "metadata": {},
   "source": [
    "# Hashtag check"
   ]
  },
  {
   "cell_type": "markdown",
   "metadata": {},
   "source": [
    "1. Extract features\n",
    "2. Extract Hashtags from features"
   ]
  },
  {
   "cell_type": "code",
   "execution_count": 8,
   "metadata": {},
   "outputs": [
    {
     "data": {
      "text/plain": [
       "['TotalSeqB1',\n",
       " 'TotalSeqB3',\n",
       " 'TotalSeqB4',\n",
       " 'TotalSeqB5',\n",
       " 'TotalSeqB6',\n",
       " 'TotalSeqB7',\n",
       " 'TotalSeqB8',\n",
       " 'TotalSeqB9']"
      ]
     },
     "execution_count": 8,
     "metadata": {},
     "output_type": "execute_result"
    }
   ],
   "source": [
    "features = after_cb_raw.var[['gene_ids', 'feature_types']].copy()\n",
    "\n",
    "hashtag_features = features.loc[features[\"feature_types\"] == \"Antibody Capture\"].index.tolist()\n",
    "hashtag_features"
   ]
  },
  {
   "cell_type": "markdown",
   "metadata": {},
   "source": [
    "1. Subset the AnnData object to only hashtag counts\n",
    "2. Convert to a pandas DataFrame\n",
    "3. Check the head"
   ]
  },
  {
   "cell_type": "code",
   "execution_count": 9,
   "metadata": {},
   "outputs": [],
   "source": [
    "after_cb_raw.var_names_make_unique()"
   ]
  },
  {
   "cell_type": "code",
   "execution_count": 10,
   "metadata": {},
   "outputs": [
    {
     "data": {
      "text/html": [
       "<div>\n",
       "<style scoped>\n",
       "    .dataframe tbody tr th:only-of-type {\n",
       "        vertical-align: middle;\n",
       "    }\n",
       "\n",
       "    .dataframe tbody tr th {\n",
       "        vertical-align: top;\n",
       "    }\n",
       "\n",
       "    .dataframe thead th {\n",
       "        text-align: right;\n",
       "    }\n",
       "</style>\n",
       "<table border=\"1\" class=\"dataframe\">\n",
       "  <thead>\n",
       "    <tr style=\"text-align: right;\">\n",
       "      <th></th>\n",
       "      <th>TotalSeqB1</th>\n",
       "      <th>TotalSeqB3</th>\n",
       "      <th>TotalSeqB4</th>\n",
       "      <th>TotalSeqB5</th>\n",
       "      <th>TotalSeqB6</th>\n",
       "      <th>TotalSeqB7</th>\n",
       "      <th>TotalSeqB8</th>\n",
       "      <th>TotalSeqB9</th>\n",
       "    </tr>\n",
       "  </thead>\n",
       "  <tbody>\n",
       "    <tr>\n",
       "      <th>TACCCATTCGAACGCT-1</th>\n",
       "      <td>0</td>\n",
       "      <td>0</td>\n",
       "      <td>375</td>\n",
       "      <td>1</td>\n",
       "      <td>0</td>\n",
       "      <td>1546</td>\n",
       "      <td>0</td>\n",
       "      <td>0</td>\n",
       "    </tr>\n",
       "    <tr>\n",
       "      <th>TACTCATCACCAGGAC-1</th>\n",
       "      <td>0</td>\n",
       "      <td>0</td>\n",
       "      <td>0</td>\n",
       "      <td>0</td>\n",
       "      <td>2</td>\n",
       "      <td>1333</td>\n",
       "      <td>0</td>\n",
       "      <td>0</td>\n",
       "    </tr>\n",
       "    <tr>\n",
       "      <th>GCTGCGATCCGCCAGA-1</th>\n",
       "      <td>1</td>\n",
       "      <td>2366</td>\n",
       "      <td>0</td>\n",
       "      <td>0</td>\n",
       "      <td>1</td>\n",
       "      <td>1</td>\n",
       "      <td>0</td>\n",
       "      <td>0</td>\n",
       "    </tr>\n",
       "    <tr>\n",
       "      <th>TGCCGTTCATGAATGC-1</th>\n",
       "      <td>1</td>\n",
       "      <td>1</td>\n",
       "      <td>0</td>\n",
       "      <td>215</td>\n",
       "      <td>1</td>\n",
       "      <td>915</td>\n",
       "      <td>0</td>\n",
       "      <td>0</td>\n",
       "    </tr>\n",
       "    <tr>\n",
       "      <th>ATCGTTGAGGATCTAT-1</th>\n",
       "      <td>0</td>\n",
       "      <td>0</td>\n",
       "      <td>2628</td>\n",
       "      <td>0</td>\n",
       "      <td>0</td>\n",
       "      <td>0</td>\n",
       "      <td>0</td>\n",
       "      <td>0</td>\n",
       "    </tr>\n",
       "  </tbody>\n",
       "</table>\n",
       "</div>"
      ],
      "text/plain": [
       "                    TotalSeqB1  TotalSeqB3  TotalSeqB4  TotalSeqB5  \\\n",
       "TACCCATTCGAACGCT-1           0           0         375           1   \n",
       "TACTCATCACCAGGAC-1           0           0           0           0   \n",
       "GCTGCGATCCGCCAGA-1           1        2366           0           0   \n",
       "TGCCGTTCATGAATGC-1           1           1           0         215   \n",
       "ATCGTTGAGGATCTAT-1           0           0        2628           0   \n",
       "\n",
       "                    TotalSeqB6  TotalSeqB7  TotalSeqB8  TotalSeqB9  \n",
       "TACCCATTCGAACGCT-1           0        1546           0           0  \n",
       "TACTCATCACCAGGAC-1           2        1333           0           0  \n",
       "GCTGCGATCCGCCAGA-1           1           1           0           0  \n",
       "TGCCGTTCATGAATGC-1           1         915           0           0  \n",
       "ATCGTTGAGGATCTAT-1           0           0           0           0  "
      ]
     },
     "execution_count": 10,
     "metadata": {},
     "output_type": "execute_result"
    }
   ],
   "source": [
    "after_cb_raw_hto = after_cb_raw[:, hashtag_features].copy()\n",
    "\n",
    "hto_counts = pd.DataFrame(\n",
    "    after_cb_raw_hto.X.toarray(),  # Convert the sparse matrix to a dense matrix\n",
    "    index=after_cb_raw_hto.obs.index,  # Use the cell barcodes as index\n",
    "    columns=hashtag_features  # Use the extracted hashtag feature names\n",
    ")\n",
    "\n",
    "hto_counts.head()"
   ]
  },
  {
   "cell_type": "markdown",
   "metadata": {},
   "source": [
    "Assign each cell to the hashtag with the highest count and look at the head"
   ]
  },
  {
   "cell_type": "code",
   "execution_count": 11,
   "metadata": {},
   "outputs": [
    {
     "data": {
      "text/html": [
       "<div>\n",
       "<style scoped>\n",
       "    .dataframe tbody tr th:only-of-type {\n",
       "        vertical-align: middle;\n",
       "    }\n",
       "\n",
       "    .dataframe tbody tr th {\n",
       "        vertical-align: top;\n",
       "    }\n",
       "\n",
       "    .dataframe thead th {\n",
       "        text-align: right;\n",
       "    }\n",
       "</style>\n",
       "<table border=\"1\" class=\"dataframe\">\n",
       "  <thead>\n",
       "    <tr style=\"text-align: right;\">\n",
       "      <th></th>\n",
       "      <th>TotalSeqB1</th>\n",
       "      <th>TotalSeqB3</th>\n",
       "      <th>TotalSeqB4</th>\n",
       "      <th>TotalSeqB5</th>\n",
       "      <th>TotalSeqB6</th>\n",
       "      <th>TotalSeqB7</th>\n",
       "      <th>TotalSeqB8</th>\n",
       "      <th>TotalSeqB9</th>\n",
       "      <th>Assigned_Hashtag</th>\n",
       "    </tr>\n",
       "  </thead>\n",
       "  <tbody>\n",
       "    <tr>\n",
       "      <th>TACCCATTCGAACGCT-1</th>\n",
       "      <td>0</td>\n",
       "      <td>0</td>\n",
       "      <td>375</td>\n",
       "      <td>1</td>\n",
       "      <td>0</td>\n",
       "      <td>1546</td>\n",
       "      <td>0</td>\n",
       "      <td>0</td>\n",
       "      <td>TotalSeqB7</td>\n",
       "    </tr>\n",
       "    <tr>\n",
       "      <th>TACTCATCACCAGGAC-1</th>\n",
       "      <td>0</td>\n",
       "      <td>0</td>\n",
       "      <td>0</td>\n",
       "      <td>0</td>\n",
       "      <td>2</td>\n",
       "      <td>1333</td>\n",
       "      <td>0</td>\n",
       "      <td>0</td>\n",
       "      <td>TotalSeqB7</td>\n",
       "    </tr>\n",
       "    <tr>\n",
       "      <th>GCTGCGATCCGCCAGA-1</th>\n",
       "      <td>1</td>\n",
       "      <td>2366</td>\n",
       "      <td>0</td>\n",
       "      <td>0</td>\n",
       "      <td>1</td>\n",
       "      <td>1</td>\n",
       "      <td>0</td>\n",
       "      <td>0</td>\n",
       "      <td>TotalSeqB3</td>\n",
       "    </tr>\n",
       "    <tr>\n",
       "      <th>TGCCGTTCATGAATGC-1</th>\n",
       "      <td>1</td>\n",
       "      <td>1</td>\n",
       "      <td>0</td>\n",
       "      <td>215</td>\n",
       "      <td>1</td>\n",
       "      <td>915</td>\n",
       "      <td>0</td>\n",
       "      <td>0</td>\n",
       "      <td>TotalSeqB7</td>\n",
       "    </tr>\n",
       "    <tr>\n",
       "      <th>ATCGTTGAGGATCTAT-1</th>\n",
       "      <td>0</td>\n",
       "      <td>0</td>\n",
       "      <td>2628</td>\n",
       "      <td>0</td>\n",
       "      <td>0</td>\n",
       "      <td>0</td>\n",
       "      <td>0</td>\n",
       "      <td>0</td>\n",
       "      <td>TotalSeqB4</td>\n",
       "    </tr>\n",
       "    <tr>\n",
       "      <th>AGCCAGCCACCTTAGC-1</th>\n",
       "      <td>2</td>\n",
       "      <td>0</td>\n",
       "      <td>0</td>\n",
       "      <td>350</td>\n",
       "      <td>1</td>\n",
       "      <td>793</td>\n",
       "      <td>0</td>\n",
       "      <td>396</td>\n",
       "      <td>TotalSeqB7</td>\n",
       "    </tr>\n",
       "    <tr>\n",
       "      <th>TCTAGCTTCCTCTAGT-1</th>\n",
       "      <td>0</td>\n",
       "      <td>0</td>\n",
       "      <td>3</td>\n",
       "      <td>0</td>\n",
       "      <td>0</td>\n",
       "      <td>633</td>\n",
       "      <td>0</td>\n",
       "      <td>0</td>\n",
       "      <td>TotalSeqB7</td>\n",
       "    </tr>\n",
       "    <tr>\n",
       "      <th>ACATGGCTCACTAGAT-1</th>\n",
       "      <td>1</td>\n",
       "      <td>0</td>\n",
       "      <td>0</td>\n",
       "      <td>972</td>\n",
       "      <td>0</td>\n",
       "      <td>2</td>\n",
       "      <td>0</td>\n",
       "      <td>0</td>\n",
       "      <td>TotalSeqB5</td>\n",
       "    </tr>\n",
       "    <tr>\n",
       "      <th>TGAGCCACATTAGGTA-1</th>\n",
       "      <td>0</td>\n",
       "      <td>580</td>\n",
       "      <td>145</td>\n",
       "      <td>0</td>\n",
       "      <td>0</td>\n",
       "      <td>1</td>\n",
       "      <td>0</td>\n",
       "      <td>0</td>\n",
       "      <td>TotalSeqB3</td>\n",
       "    </tr>\n",
       "    <tr>\n",
       "      <th>CATAGGTCAATCTGGG-1</th>\n",
       "      <td>1</td>\n",
       "      <td>845</td>\n",
       "      <td>605</td>\n",
       "      <td>47</td>\n",
       "      <td>0</td>\n",
       "      <td>1198</td>\n",
       "      <td>0</td>\n",
       "      <td>0</td>\n",
       "      <td>TotalSeqB7</td>\n",
       "    </tr>\n",
       "  </tbody>\n",
       "</table>\n",
       "</div>"
      ],
      "text/plain": [
       "                    TotalSeqB1  TotalSeqB3  TotalSeqB4  TotalSeqB5  \\\n",
       "TACCCATTCGAACGCT-1           0           0         375           1   \n",
       "TACTCATCACCAGGAC-1           0           0           0           0   \n",
       "GCTGCGATCCGCCAGA-1           1        2366           0           0   \n",
       "TGCCGTTCATGAATGC-1           1           1           0         215   \n",
       "ATCGTTGAGGATCTAT-1           0           0        2628           0   \n",
       "AGCCAGCCACCTTAGC-1           2           0           0         350   \n",
       "TCTAGCTTCCTCTAGT-1           0           0           3           0   \n",
       "ACATGGCTCACTAGAT-1           1           0           0         972   \n",
       "TGAGCCACATTAGGTA-1           0         580         145           0   \n",
       "CATAGGTCAATCTGGG-1           1         845         605          47   \n",
       "\n",
       "                    TotalSeqB6  TotalSeqB7  TotalSeqB8  TotalSeqB9  \\\n",
       "TACCCATTCGAACGCT-1           0        1546           0           0   \n",
       "TACTCATCACCAGGAC-1           2        1333           0           0   \n",
       "GCTGCGATCCGCCAGA-1           1           1           0           0   \n",
       "TGCCGTTCATGAATGC-1           1         915           0           0   \n",
       "ATCGTTGAGGATCTAT-1           0           0           0           0   \n",
       "AGCCAGCCACCTTAGC-1           1         793           0         396   \n",
       "TCTAGCTTCCTCTAGT-1           0         633           0           0   \n",
       "ACATGGCTCACTAGAT-1           0           2           0           0   \n",
       "TGAGCCACATTAGGTA-1           0           1           0           0   \n",
       "CATAGGTCAATCTGGG-1           0        1198           0           0   \n",
       "\n",
       "                   Assigned_Hashtag  \n",
       "TACCCATTCGAACGCT-1       TotalSeqB7  \n",
       "TACTCATCACCAGGAC-1       TotalSeqB7  \n",
       "GCTGCGATCCGCCAGA-1       TotalSeqB3  \n",
       "TGCCGTTCATGAATGC-1       TotalSeqB7  \n",
       "ATCGTTGAGGATCTAT-1       TotalSeqB4  \n",
       "AGCCAGCCACCTTAGC-1       TotalSeqB7  \n",
       "TCTAGCTTCCTCTAGT-1       TotalSeqB7  \n",
       "ACATGGCTCACTAGAT-1       TotalSeqB5  \n",
       "TGAGCCACATTAGGTA-1       TotalSeqB3  \n",
       "CATAGGTCAATCTGGG-1       TotalSeqB7  "
      ]
     },
     "execution_count": 11,
     "metadata": {},
     "output_type": "execute_result"
    }
   ],
   "source": [
    "hto_counts[\"Assigned_Hashtag\"] = hto_counts.idxmax(axis=1)\n",
    "hto_counts.head(10)"
   ]
  },
  {
   "cell_type": "markdown",
   "metadata": {},
   "source": [
    "Saving the final assigned hashtag as obs and total hashtag counts as obsm"
   ]
  },
  {
   "cell_type": "code",
   "execution_count": 12,
   "metadata": {},
   "outputs": [
    {
     "data": {
      "text/plain": [
       "AnnData object with n_obs × n_vars = 11525 × 32293\n",
       "    obs: 'assigned_hashtag'\n",
       "    var: 'gene_ids', 'feature_types', 'genome'\n",
       "    obsm: 'hto_counts'"
      ]
     },
     "execution_count": 12,
     "metadata": {},
     "output_type": "execute_result"
    }
   ],
   "source": [
    "hto_counts = hto_counts.apply(pd.to_numeric, errors=\"coerce\")\n",
    "after_cb_raw.obs[\"assigned_hashtag\"] = hto_counts.idxmax(axis=1)\n",
    "after_cb_raw.obsm[\"hto_counts\"] = hto_counts\n",
    "after_cb_raw"
   ]
  },
  {
   "cell_type": "markdown",
   "metadata": {},
   "source": [
    "# Data saving"
   ]
  },
  {
   "cell_type": "code",
   "execution_count": 13,
   "metadata": {},
   "outputs": [
    {
     "name": "stdout",
     "output_type": "stream",
     "text": [
      "Updated AnnData object saved at: ../data/cellbender_processed_data/cb_0.01_full_with_hashtags_05_03_25.h5ad\n"
     ]
    }
   ],
   "source": [
    "output_path = f\"../data/cellbender_processed_data/0.01_full/cb_0.01_full_with_hashtags_{timestamp}.h5ad\"\n",
    "after_cb_raw.write(output_path)\n",
    "\n",
    "print(f\"Updated AnnData object saved at: {output_path}\")"
   ]
  }
 ],
 "metadata": {
  "kernelspec": {
   "display_name": "cellbender",
   "language": "python",
   "name": "python3"
  },
  "language_info": {
   "codemirror_mode": {
    "name": "ipython",
    "version": 3
   },
   "file_extension": ".py",
   "mimetype": "text/x-python",
   "name": "python",
   "nbconvert_exporter": "python",
   "pygments_lexer": "ipython3",
   "version": "3.13.2"
  }
 },
 "nbformat": 4,
 "nbformat_minor": 2
}
