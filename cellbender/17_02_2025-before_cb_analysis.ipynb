{
 "cells": [
  {
   "cell_type": "markdown",
   "metadata": {},
   "source": [
    "# Notebook to run basic analysis on Raw data before cellbender\n",
    "\n",
    "**Created by :** Srivalli Kolla\n",
    "\n",
    "**Created on :** 17 February, 2025\n",
    "\n",
    "**Modified on :** 17 February, 2025\n",
    "\n",
    "**University of Würzburg**"
   ]
  },
  {
   "cell_type": "markdown",
   "metadata": {},
   "source": [
    "Env : scanpy (Python 3.12.2)"
   ]
  },
  {
   "cell_type": "markdown",
   "metadata": {},
   "source": [
    "# Importing Packages"
   ]
  },
  {
   "cell_type": "code",
   "execution_count": 35,
   "metadata": {},
   "outputs": [],
   "source": [
    "import anndata as ad\n",
    "import scanpy as sc\n",
    "import os\n",
    "import datetime\n",
    "import bbknn\n",
    "import random\n",
    "import matplotlib.pyplot as plt\n",
    "import numpy as np\n",
    "import pandas as pd\n",
    "import seaborn as sns\n",
    "from scipy.stats import median_abs_deviation"
   ]
  },
  {
   "cell_type": "code",
   "execution_count": 36,
   "metadata": {},
   "outputs": [
    {
     "name": "stdout",
     "output_type": "stream",
     "text": [
      "-----\n",
      "anndata     0.11.3\n",
      "scanpy      1.10.4\n",
      "-----\n",
      "Cython              3.0.11\n",
      "PIL                 11.1.0\n",
      "annoy               NA\n",
      "asttokens           NA\n",
      "bbknn               1.6.0\n",
      "colorama            0.4.6\n",
      "comm                0.2.2\n",
      "cycler              0.12.1\n",
      "cython              3.0.11\n",
      "cython_runtime      NA\n",
      "dateutil            2.9.0.post0\n",
      "debugpy             1.8.12\n",
      "decorator           5.1.1\n",
      "executing           2.1.0\n",
      "h5py                3.12.1\n",
      "ipykernel           6.29.5\n",
      "jedi                0.19.2\n",
      "joblib              1.4.2\n",
      "kiwisolver          1.4.8\n",
      "legacy_api_wrap     NA\n",
      "llvmlite            0.44.0\n",
      "matplotlib          3.10.0\n",
      "matplotlib_inline   0.1.7\n",
      "mpl_toolkits        NA\n",
      "natsort             8.4.0\n",
      "numba               0.61.0\n",
      "numpy               2.1.3\n",
      "packaging           24.2\n",
      "pandas              2.2.3\n",
      "parso               0.8.4\n",
      "patsy               1.0.1\n",
      "pickleshare         0.7.5\n",
      "platformdirs        4.3.6\n",
      "prompt_toolkit      3.0.50\n",
      "psutil              6.1.1\n",
      "pure_eval           0.2.3\n",
      "pydev_ipython       NA\n",
      "pydevconsole        NA\n",
      "pydevd              3.2.3\n",
      "pydevd_file_utils   NA\n",
      "pydevd_plugins      NA\n",
      "pydevd_tracing      NA\n",
      "pygments            2.19.1\n",
      "pynndescent         0.5.13\n",
      "pyparsing           3.2.1\n",
      "pytz                2024.1\n",
      "scipy               1.15.1\n",
      "seaborn             0.13.2\n",
      "session_info        1.0.0\n",
      "six                 1.17.0\n",
      "sklearn             1.6.1\n",
      "skmisc              0.5.1\n",
      "stack_data          0.6.3\n",
      "statsmodels         0.14.4\n",
      "threadpoolctl       3.5.0\n",
      "tornado             6.4.2\n",
      "tqdm                4.67.1\n",
      "traitlets           5.14.3\n",
      "umap                0.5.7\n",
      "vscode              NA\n",
      "wcwidth             0.2.13\n",
      "zmq                 26.2.1\n",
      "-----\n",
      "IPython             8.32.0\n",
      "jupyter_client      8.6.3\n",
      "jupyter_core        5.7.2\n",
      "-----\n",
      "Python 3.12.2 | packaged by conda-forge | (main, Feb 16 2024, 20:50:58) [GCC 12.3.0]\n",
      "Linux-6.11.9-100.fc39.x86_64-x86_64-with-glibc2.38\n",
      "-----\n",
      "Session information updated at 2025-02-17 18:08\n"
     ]
    }
   ],
   "source": [
    "sc.settings.verbosity = 3\n",
    "sc.logging.print_versions()\n",
    "sc.settings.set_figure_params(dpi = 300, color_map = 'RdPu', dpi_save = 300, vector_friendly = True, format = 'svg')\n",
    "\n",
    "timestamp = datetime.datetime.now().strftime(\"%d_%m_%y\")"
   ]
  },
  {
   "cell_type": "markdown",
   "metadata": {},
   "source": [
    "# Data loading"
   ]
  },
  {
   "cell_type": "code",
   "execution_count": 37,
   "metadata": {},
   "outputs": [
    {
     "name": "stdout",
     "output_type": "stream",
     "text": [
      "--> This might be very slow. Consider passing `cache=True`, which enables much faster reading from a cache file.\n"
     ]
    },
    {
     "data": {
      "text/plain": [
       "AnnData object with n_obs × n_vars = 41918 × 32293\n",
       "    var: 'gene_ids', 'feature_types'"
      ]
     },
     "execution_count": 37,
     "metadata": {},
     "output_type": "execute_result"
    }
   ],
   "source": [
    "before_cb_raw = sc.read_10x_mtx('../data/filtered_feature_bc_matrix',var_names = 'gene_symbols', gex_only= False)\n",
    "before_cb_raw"
   ]
  },
  {
   "cell_type": "code",
   "execution_count": 38,
   "metadata": {},
   "outputs": [
    {
     "data": {
      "text/html": [
       "<div>\n",
       "<style scoped>\n",
       "    .dataframe tbody tr th:only-of-type {\n",
       "        vertical-align: middle;\n",
       "    }\n",
       "\n",
       "    .dataframe tbody tr th {\n",
       "        vertical-align: top;\n",
       "    }\n",
       "\n",
       "    .dataframe thead th {\n",
       "        text-align: right;\n",
       "    }\n",
       "</style>\n",
       "<table border=\"1\" class=\"dataframe\">\n",
       "  <thead>\n",
       "    <tr style=\"text-align: right;\">\n",
       "      <th></th>\n",
       "    </tr>\n",
       "  </thead>\n",
       "  <tbody>\n",
       "    <tr>\n",
       "      <th>AAACCAAAGCCAGTGT-1</th>\n",
       "    </tr>\n",
       "    <tr>\n",
       "      <th>AAACCAAAGGCGTCCA-1</th>\n",
       "    </tr>\n",
       "    <tr>\n",
       "      <th>AAACCAAAGGTTAGCC-1</th>\n",
       "    </tr>\n",
       "    <tr>\n",
       "      <th>AAACCAAAGGTTAGTT-1</th>\n",
       "    </tr>\n",
       "    <tr>\n",
       "      <th>AAACCAAAGTACCACA-1</th>\n",
       "    </tr>\n",
       "    <tr>\n",
       "      <th>...</th>\n",
       "    </tr>\n",
       "    <tr>\n",
       "      <th>TGTGTTGAGCCTATCT-1</th>\n",
       "    </tr>\n",
       "    <tr>\n",
       "      <th>TGTGTTGAGCTAACCA-1</th>\n",
       "    </tr>\n",
       "    <tr>\n",
       "      <th>TGTGTTGAGGAGGACC-1</th>\n",
       "    </tr>\n",
       "    <tr>\n",
       "      <th>TGTGTTGAGTACGCAC-1</th>\n",
       "    </tr>\n",
       "    <tr>\n",
       "      <th>TGTGTTGAGTCGCTCC-1</th>\n",
       "    </tr>\n",
       "  </tbody>\n",
       "</table>\n",
       "<p>41918 rows × 0 columns</p>\n",
       "</div>"
      ],
      "text/plain": [
       "Empty DataFrame\n",
       "Columns: []\n",
       "Index: [AAACCAAAGCCAGTGT-1, AAACCAAAGGCGTCCA-1, AAACCAAAGGTTAGCC-1, AAACCAAAGGTTAGTT-1, AAACCAAAGTACCACA-1, AAACCAAAGTAGCCGT-1, AAACCAAAGTAGGCAG-1, AAACCAAAGTCATGGC-1, AAACCAAAGTCGAAGG-1, AAACCAAAGTTAGGCC-1, AAACCATTCACTCCAT-1, AAACCATTCATATCGG-1, AAACCATTCATCACTC-1, AAACCATTCCATCGAA-1, AAACCATTCCATTCGT-1, AAACCATTCCCAGATA-1, AAACCATTCCCATGAA-1, AAACCATTCCCTGATT-1, AAACCATTCCTGATTC-1, AAACCATTCCTTCGTG-1, AAACCATTCGAATTAC-1, AAACCATTCTAAGCCA-1, AAACCATTCTGGCATA-1, AAACCCGCAACCTACC-1, AAACCCGCAAGCCTAG-1, AAACCCGCAAGCGCAC-1, AAACCCGCAAGTGGCC-1, AAACCCGCAATCAGGT-1, AAACCCGCAATTAGCA-1, AAACCCGCACGCCATT-1, AAACCCGCACTATACT-1, AAACCCGCATAACCAA-1, AAACCCGCATCCACGT-1, AAACCCGCATCGGCTT-1, AAACCCGCATGGTGAT-1, AAACCCTGTAATGAAC-1, AAACCCTGTCAACGAA-1, AAACCCTGTCAGTCAT-1, AAACCCTGTCTGGTCA-1, AAACCCTGTGAAGCGT-1, AAACCCTGTGATTACC-1, AAACCCTGTGCAGCCT-1, AAACCCTGTGCGCGTT-1, AAACCCTGTTCCGTTC-1, AAACCCTGTTCGCCTT-1, AAACCGCTCACACTGA-1, AAACCGCTCACAGCCG-1, AAACCGCTCACGCTCC-1, AAACCGCTCCAATGAT-1, AAACCGCTCCCAGTCC-1, AAACCGCTCCGGGCTA-1, AAACCGCTCCGGTACG-1, AAACCGCTCCTGTACT-1, AAACCGCTCGCTCTGC-1, AAACCGCTCTAATGAC-1, AAACCGCTCTGTCATC-1, AAACGAATCAGCCATA-1, AAACGAATCAGTTGCA-1, AAACGAATCATACTGG-1, AAACGAATCCTCATGT-1, AAACGAATCGATATGT-1, AAACGAATCGCGTTCC-1, AAACGAATCTATGGTG-1, AAACGAATCTCACATC-1, AAACGAATCTGGATGC-1, AAACGACAGCATGTGC-1, AAACGACAGCGCCAAT-1, AAACGACAGGTAGAGT-1, AAACGACAGGTATCGC-1, AAACGACAGTGGCAAG-1, AAACGATGTAGTAGAT-1, AAACGATGTATTGGAG-1, AAACGATGTGAAGGTC-1, AAACGATGTGAAGTCA-1, AAACGATGTGAGACAC-1, AAACGATGTGAGTTGA-1, AAACGATGTGCGGTCT-1, AAACGATGTGCGTGCT-1, AAACGATGTGGCTTCA-1, AAACGATGTTACACGT-1, AAACGATGTTCCTGTC-1, AAACGATGTTTACCAA-1, AAACGATGTTTGATGC-1, AAACGCCTCATGCCGG-1, AAACGCCTCCACCTGC-1, AAACGCCTCCCAGGCA-1, AAACGCCTCCTGCGTC-1, AAACGCCTCCTGTCTG-1, AAACGCCTCGACATGC-1, AAACGCCTCGCTCTGC-1, AAACGCCTCGTAGTCA-1, AAACGCCTCGTGATGC-1, AAACGCCTCTAACTCC-1, AAACGCCTCTATGAGT-1, AAACGGACAAATCAGC-1, AAACGGACAAATGCGT-1, AAACGGACAAGGTAGA-1, AAACGGACAATCAATG-1, AAACGGACAATTAGGC-1, AAACGGACACAGCGGT-1, ...]\n",
       "\n",
       "[41918 rows x 0 columns]"
      ]
     },
     "execution_count": 38,
     "metadata": {},
     "output_type": "execute_result"
    }
   ],
   "source": [
    "before_cb_raw.obs"
   ]
  },
  {
   "cell_type": "code",
   "execution_count": 39,
   "metadata": {},
   "outputs": [
    {
     "data": {
      "text/html": [
       "<div>\n",
       "<style scoped>\n",
       "    .dataframe tbody tr th:only-of-type {\n",
       "        vertical-align: middle;\n",
       "    }\n",
       "\n",
       "    .dataframe tbody tr th {\n",
       "        vertical-align: top;\n",
       "    }\n",
       "\n",
       "    .dataframe thead th {\n",
       "        text-align: right;\n",
       "    }\n",
       "</style>\n",
       "<table border=\"1\" class=\"dataframe\">\n",
       "  <thead>\n",
       "    <tr style=\"text-align: right;\">\n",
       "      <th></th>\n",
       "      <th>gene_ids</th>\n",
       "      <th>feature_types</th>\n",
       "    </tr>\n",
       "  </thead>\n",
       "  <tbody>\n",
       "    <tr>\n",
       "      <th>Xkr4</th>\n",
       "      <td>ENSMUSG00000051951</td>\n",
       "      <td>Gene Expression</td>\n",
       "    </tr>\n",
       "    <tr>\n",
       "      <th>Gm1992</th>\n",
       "      <td>ENSMUSG00000089699</td>\n",
       "      <td>Gene Expression</td>\n",
       "    </tr>\n",
       "    <tr>\n",
       "      <th>Gm19938</th>\n",
       "      <td>ENSMUSG00000102331</td>\n",
       "      <td>Gene Expression</td>\n",
       "    </tr>\n",
       "    <tr>\n",
       "      <th>Gm37381</th>\n",
       "      <td>ENSMUSG00000102343</td>\n",
       "      <td>Gene Expression</td>\n",
       "    </tr>\n",
       "    <tr>\n",
       "      <th>Rp1</th>\n",
       "      <td>ENSMUSG00000025900</td>\n",
       "      <td>Gene Expression</td>\n",
       "    </tr>\n",
       "    <tr>\n",
       "      <th>...</th>\n",
       "      <td>...</td>\n",
       "      <td>...</td>\n",
       "    </tr>\n",
       "    <tr>\n",
       "      <th>TotalSeqB5</th>\n",
       "      <td>Hash5</td>\n",
       "      <td>Antibody Capture</td>\n",
       "    </tr>\n",
       "    <tr>\n",
       "      <th>TotalSeqB6</th>\n",
       "      <td>Hash6</td>\n",
       "      <td>Antibody Capture</td>\n",
       "    </tr>\n",
       "    <tr>\n",
       "      <th>TotalSeqB7</th>\n",
       "      <td>Hash7</td>\n",
       "      <td>Antibody Capture</td>\n",
       "    </tr>\n",
       "    <tr>\n",
       "      <th>TotalSeqB8</th>\n",
       "      <td>Hash8</td>\n",
       "      <td>Antibody Capture</td>\n",
       "    </tr>\n",
       "    <tr>\n",
       "      <th>TotalSeqB9</th>\n",
       "      <td>Hash9</td>\n",
       "      <td>Antibody Capture</td>\n",
       "    </tr>\n",
       "  </tbody>\n",
       "</table>\n",
       "<p>32293 rows × 2 columns</p>\n",
       "</div>"
      ],
      "text/plain": [
       "                      gene_ids     feature_types\n",
       "Xkr4        ENSMUSG00000051951   Gene Expression\n",
       "Gm1992      ENSMUSG00000089699   Gene Expression\n",
       "Gm19938     ENSMUSG00000102331   Gene Expression\n",
       "Gm37381     ENSMUSG00000102343   Gene Expression\n",
       "Rp1         ENSMUSG00000025900   Gene Expression\n",
       "...                        ...               ...\n",
       "TotalSeqB5               Hash5  Antibody Capture\n",
       "TotalSeqB6               Hash6  Antibody Capture\n",
       "TotalSeqB7               Hash7  Antibody Capture\n",
       "TotalSeqB8               Hash8  Antibody Capture\n",
       "TotalSeqB9               Hash9  Antibody Capture\n",
       "\n",
       "[32293 rows x 2 columns]"
      ]
     },
     "execution_count": 39,
     "metadata": {},
     "output_type": "execute_result"
    }
   ],
   "source": [
    "before_cb_raw.var"
   ]
  },
  {
   "cell_type": "code",
   "execution_count": 40,
   "metadata": {},
   "outputs": [
    {
     "name": "stdout",
     "output_type": "stream",
     "text": [
      "True\n"
     ]
    }
   ],
   "source": [
    "def X_is_raw(before_cb_raw):\n",
    "    return np.array_equal(before_cb_raw.X.sum(axis=0).astype(int), before_cb_raw.X.sum(axis=0))\n",
    "\n",
    "is_raw = X_is_raw(before_cb_raw)\n",
    "print(is_raw)"
   ]
  },
  {
   "cell_type": "markdown",
   "metadata": {},
   "source": [
    "# Hashtag check"
   ]
  },
  {
   "cell_type": "markdown",
   "metadata": {},
   "source": [
    "1. Extract features\n",
    "2. Extract Hashtags from features"
   ]
  },
  {
   "cell_type": "code",
   "execution_count": 41,
   "metadata": {},
   "outputs": [
    {
     "data": {
      "text/plain": [
       "['TotalSeqB1',\n",
       " 'TotalSeqB3',\n",
       " 'TotalSeqB4',\n",
       " 'TotalSeqB5',\n",
       " 'TotalSeqB6',\n",
       " 'TotalSeqB7',\n",
       " 'TotalSeqB8',\n",
       " 'TotalSeqB9']"
      ]
     },
     "execution_count": 41,
     "metadata": {},
     "output_type": "execute_result"
    }
   ],
   "source": [
    "features = pd.read_csv(f\"../data/filtered_feature_bc_matrix/features.tsv.gz\", sep=\"\\t\", header=None)\n",
    "features.columns = ['gene_symbols',\"gene_ids\", \"feature_types\"]\n",
    "features.index = before_cb_raw.var_names \n",
    "\n",
    "hashtag_features = features[features[\"feature_types\"] == \"Antibody Capture\"].index.tolist()\n",
    "hashtag_features"
   ]
  },
  {
   "cell_type": "markdown",
   "metadata": {},
   "source": [
    "1. Subset the AnnData object to only hashtag counts\n",
    "2. Convert to a pandas DataFrame\n",
    "3. Check the head"
   ]
  },
  {
   "cell_type": "code",
   "execution_count": 42,
   "metadata": {},
   "outputs": [
    {
     "data": {
      "text/html": [
       "<div>\n",
       "<style scoped>\n",
       "    .dataframe tbody tr th:only-of-type {\n",
       "        vertical-align: middle;\n",
       "    }\n",
       "\n",
       "    .dataframe tbody tr th {\n",
       "        vertical-align: top;\n",
       "    }\n",
       "\n",
       "    .dataframe thead th {\n",
       "        text-align: right;\n",
       "    }\n",
       "</style>\n",
       "<table border=\"1\" class=\"dataframe\">\n",
       "  <thead>\n",
       "    <tr style=\"text-align: right;\">\n",
       "      <th></th>\n",
       "      <th>TotalSeqB1</th>\n",
       "      <th>TotalSeqB3</th>\n",
       "      <th>TotalSeqB4</th>\n",
       "      <th>TotalSeqB5</th>\n",
       "      <th>TotalSeqB6</th>\n",
       "      <th>TotalSeqB7</th>\n",
       "      <th>TotalSeqB8</th>\n",
       "      <th>TotalSeqB9</th>\n",
       "    </tr>\n",
       "  </thead>\n",
       "  <tbody>\n",
       "    <tr>\n",
       "      <th>AAACCAAAGCCAGTGT-1</th>\n",
       "      <td>168.0</td>\n",
       "      <td>422.0</td>\n",
       "      <td>401.0</td>\n",
       "      <td>115.0</td>\n",
       "      <td>181.0</td>\n",
       "      <td>124.0</td>\n",
       "      <td>214.0</td>\n",
       "      <td>335.0</td>\n",
       "    </tr>\n",
       "    <tr>\n",
       "      <th>AAACCAAAGGCGTCCA-1</th>\n",
       "      <td>196.0</td>\n",
       "      <td>486.0</td>\n",
       "      <td>238.0</td>\n",
       "      <td>145.0</td>\n",
       "      <td>210.0</td>\n",
       "      <td>155.0</td>\n",
       "      <td>255.0</td>\n",
       "      <td>243.0</td>\n",
       "    </tr>\n",
       "    <tr>\n",
       "      <th>AAACCAAAGGTTAGCC-1</th>\n",
       "      <td>185.0</td>\n",
       "      <td>615.0</td>\n",
       "      <td>113.0</td>\n",
       "      <td>158.0</td>\n",
       "      <td>236.0</td>\n",
       "      <td>122.0</td>\n",
       "      <td>243.0</td>\n",
       "      <td>189.0</td>\n",
       "    </tr>\n",
       "    <tr>\n",
       "      <th>AAACCAAAGGTTAGTT-1</th>\n",
       "      <td>153.0</td>\n",
       "      <td>415.0</td>\n",
       "      <td>95.0</td>\n",
       "      <td>248.0</td>\n",
       "      <td>221.0</td>\n",
       "      <td>128.0</td>\n",
       "      <td>211.0</td>\n",
       "      <td>187.0</td>\n",
       "    </tr>\n",
       "    <tr>\n",
       "      <th>AAACCAAAGTACCACA-1</th>\n",
       "      <td>181.0</td>\n",
       "      <td>433.0</td>\n",
       "      <td>89.0</td>\n",
       "      <td>132.0</td>\n",
       "      <td>207.0</td>\n",
       "      <td>175.0</td>\n",
       "      <td>231.0</td>\n",
       "      <td>207.0</td>\n",
       "    </tr>\n",
       "  </tbody>\n",
       "</table>\n",
       "</div>"
      ],
      "text/plain": [
       "                    TotalSeqB1  TotalSeqB3  TotalSeqB4  TotalSeqB5  \\\n",
       "AAACCAAAGCCAGTGT-1       168.0       422.0       401.0       115.0   \n",
       "AAACCAAAGGCGTCCA-1       196.0       486.0       238.0       145.0   \n",
       "AAACCAAAGGTTAGCC-1       185.0       615.0       113.0       158.0   \n",
       "AAACCAAAGGTTAGTT-1       153.0       415.0        95.0       248.0   \n",
       "AAACCAAAGTACCACA-1       181.0       433.0        89.0       132.0   \n",
       "\n",
       "                    TotalSeqB6  TotalSeqB7  TotalSeqB8  TotalSeqB9  \n",
       "AAACCAAAGCCAGTGT-1       181.0       124.0       214.0       335.0  \n",
       "AAACCAAAGGCGTCCA-1       210.0       155.0       255.0       243.0  \n",
       "AAACCAAAGGTTAGCC-1       236.0       122.0       243.0       189.0  \n",
       "AAACCAAAGGTTAGTT-1       221.0       128.0       211.0       187.0  \n",
       "AAACCAAAGTACCACA-1       207.0       175.0       231.0       207.0  "
      ]
     },
     "execution_count": 42,
     "metadata": {},
     "output_type": "execute_result"
    }
   ],
   "source": [
    "before_cb_raw_hto = before_cb_raw[:, hashtag_features].copy()\n",
    "\n",
    "hto_counts = pd.DataFrame(\n",
    "    before_cb_raw_hto.X.toarray(),  # Convert sparse matrix to dense\n",
    "    index=before_cb_raw_hto.obs.index,  # Cell barcodes\n",
    "    columns=hashtag_features   # Hashtag feature names\n",
    ")\n",
    "\n",
    "hto_counts.head()"
   ]
  },
  {
   "cell_type": "markdown",
   "metadata": {},
   "source": [
    "Assign each cell to the hashtag with the highest count and look at the head"
   ]
  },
  {
   "cell_type": "code",
   "execution_count": 43,
   "metadata": {},
   "outputs": [
    {
     "data": {
      "text/html": [
       "<div>\n",
       "<style scoped>\n",
       "    .dataframe tbody tr th:only-of-type {\n",
       "        vertical-align: middle;\n",
       "    }\n",
       "\n",
       "    .dataframe tbody tr th {\n",
       "        vertical-align: top;\n",
       "    }\n",
       "\n",
       "    .dataframe thead th {\n",
       "        text-align: right;\n",
       "    }\n",
       "</style>\n",
       "<table border=\"1\" class=\"dataframe\">\n",
       "  <thead>\n",
       "    <tr style=\"text-align: right;\">\n",
       "      <th></th>\n",
       "      <th>TotalSeqB1</th>\n",
       "      <th>TotalSeqB3</th>\n",
       "      <th>TotalSeqB4</th>\n",
       "      <th>TotalSeqB5</th>\n",
       "      <th>TotalSeqB6</th>\n",
       "      <th>TotalSeqB7</th>\n",
       "      <th>TotalSeqB8</th>\n",
       "      <th>TotalSeqB9</th>\n",
       "      <th>Assigned_Hashtag</th>\n",
       "    </tr>\n",
       "  </thead>\n",
       "  <tbody>\n",
       "    <tr>\n",
       "      <th>AAACCAAAGCCAGTGT-1</th>\n",
       "      <td>168.0</td>\n",
       "      <td>422.0</td>\n",
       "      <td>401.0</td>\n",
       "      <td>115.0</td>\n",
       "      <td>181.0</td>\n",
       "      <td>124.0</td>\n",
       "      <td>214.0</td>\n",
       "      <td>335.0</td>\n",
       "      <td>TotalSeqB3</td>\n",
       "    </tr>\n",
       "    <tr>\n",
       "      <th>AAACCAAAGGCGTCCA-1</th>\n",
       "      <td>196.0</td>\n",
       "      <td>486.0</td>\n",
       "      <td>238.0</td>\n",
       "      <td>145.0</td>\n",
       "      <td>210.0</td>\n",
       "      <td>155.0</td>\n",
       "      <td>255.0</td>\n",
       "      <td>243.0</td>\n",
       "      <td>TotalSeqB3</td>\n",
       "    </tr>\n",
       "    <tr>\n",
       "      <th>AAACCAAAGGTTAGCC-1</th>\n",
       "      <td>185.0</td>\n",
       "      <td>615.0</td>\n",
       "      <td>113.0</td>\n",
       "      <td>158.0</td>\n",
       "      <td>236.0</td>\n",
       "      <td>122.0</td>\n",
       "      <td>243.0</td>\n",
       "      <td>189.0</td>\n",
       "      <td>TotalSeqB3</td>\n",
       "    </tr>\n",
       "    <tr>\n",
       "      <th>AAACCAAAGGTTAGTT-1</th>\n",
       "      <td>153.0</td>\n",
       "      <td>415.0</td>\n",
       "      <td>95.0</td>\n",
       "      <td>248.0</td>\n",
       "      <td>221.0</td>\n",
       "      <td>128.0</td>\n",
       "      <td>211.0</td>\n",
       "      <td>187.0</td>\n",
       "      <td>TotalSeqB3</td>\n",
       "    </tr>\n",
       "    <tr>\n",
       "      <th>AAACCAAAGTACCACA-1</th>\n",
       "      <td>181.0</td>\n",
       "      <td>433.0</td>\n",
       "      <td>89.0</td>\n",
       "      <td>132.0</td>\n",
       "      <td>207.0</td>\n",
       "      <td>175.0</td>\n",
       "      <td>231.0</td>\n",
       "      <td>207.0</td>\n",
       "      <td>TotalSeqB3</td>\n",
       "    </tr>\n",
       "    <tr>\n",
       "      <th>AAACCAAAGTAGCCGT-1</th>\n",
       "      <td>227.0</td>\n",
       "      <td>441.0</td>\n",
       "      <td>154.0</td>\n",
       "      <td>120.0</td>\n",
       "      <td>194.0</td>\n",
       "      <td>123.0</td>\n",
       "      <td>228.0</td>\n",
       "      <td>189.0</td>\n",
       "      <td>TotalSeqB3</td>\n",
       "    </tr>\n",
       "    <tr>\n",
       "      <th>AAACCAAAGTAGGCAG-1</th>\n",
       "      <td>167.0</td>\n",
       "      <td>377.0</td>\n",
       "      <td>72.0</td>\n",
       "      <td>227.0</td>\n",
       "      <td>192.0</td>\n",
       "      <td>123.0</td>\n",
       "      <td>228.0</td>\n",
       "      <td>190.0</td>\n",
       "      <td>TotalSeqB3</td>\n",
       "    </tr>\n",
       "    <tr>\n",
       "      <th>AAACCAAAGTCATGGC-1</th>\n",
       "      <td>142.0</td>\n",
       "      <td>525.0</td>\n",
       "      <td>89.0</td>\n",
       "      <td>121.0</td>\n",
       "      <td>539.0</td>\n",
       "      <td>152.0</td>\n",
       "      <td>272.0</td>\n",
       "      <td>204.0</td>\n",
       "      <td>TotalSeqB6</td>\n",
       "    </tr>\n",
       "    <tr>\n",
       "      <th>AAACCAAAGTCGAAGG-1</th>\n",
       "      <td>196.0</td>\n",
       "      <td>722.0</td>\n",
       "      <td>166.0</td>\n",
       "      <td>396.0</td>\n",
       "      <td>232.0</td>\n",
       "      <td>190.0</td>\n",
       "      <td>354.0</td>\n",
       "      <td>268.0</td>\n",
       "      <td>TotalSeqB3</td>\n",
       "    </tr>\n",
       "    <tr>\n",
       "      <th>AAACCAAAGTTAGGCC-1</th>\n",
       "      <td>191.0</td>\n",
       "      <td>527.0</td>\n",
       "      <td>362.0</td>\n",
       "      <td>150.0</td>\n",
       "      <td>251.0</td>\n",
       "      <td>161.0</td>\n",
       "      <td>286.0</td>\n",
       "      <td>248.0</td>\n",
       "      <td>TotalSeqB3</td>\n",
       "    </tr>\n",
       "  </tbody>\n",
       "</table>\n",
       "</div>"
      ],
      "text/plain": [
       "                    TotalSeqB1  TotalSeqB3  TotalSeqB4  TotalSeqB5  \\\n",
       "AAACCAAAGCCAGTGT-1       168.0       422.0       401.0       115.0   \n",
       "AAACCAAAGGCGTCCA-1       196.0       486.0       238.0       145.0   \n",
       "AAACCAAAGGTTAGCC-1       185.0       615.0       113.0       158.0   \n",
       "AAACCAAAGGTTAGTT-1       153.0       415.0        95.0       248.0   \n",
       "AAACCAAAGTACCACA-1       181.0       433.0        89.0       132.0   \n",
       "AAACCAAAGTAGCCGT-1       227.0       441.0       154.0       120.0   \n",
       "AAACCAAAGTAGGCAG-1       167.0       377.0        72.0       227.0   \n",
       "AAACCAAAGTCATGGC-1       142.0       525.0        89.0       121.0   \n",
       "AAACCAAAGTCGAAGG-1       196.0       722.0       166.0       396.0   \n",
       "AAACCAAAGTTAGGCC-1       191.0       527.0       362.0       150.0   \n",
       "\n",
       "                    TotalSeqB6  TotalSeqB7  TotalSeqB8  TotalSeqB9  \\\n",
       "AAACCAAAGCCAGTGT-1       181.0       124.0       214.0       335.0   \n",
       "AAACCAAAGGCGTCCA-1       210.0       155.0       255.0       243.0   \n",
       "AAACCAAAGGTTAGCC-1       236.0       122.0       243.0       189.0   \n",
       "AAACCAAAGGTTAGTT-1       221.0       128.0       211.0       187.0   \n",
       "AAACCAAAGTACCACA-1       207.0       175.0       231.0       207.0   \n",
       "AAACCAAAGTAGCCGT-1       194.0       123.0       228.0       189.0   \n",
       "AAACCAAAGTAGGCAG-1       192.0       123.0       228.0       190.0   \n",
       "AAACCAAAGTCATGGC-1       539.0       152.0       272.0       204.0   \n",
       "AAACCAAAGTCGAAGG-1       232.0       190.0       354.0       268.0   \n",
       "AAACCAAAGTTAGGCC-1       251.0       161.0       286.0       248.0   \n",
       "\n",
       "                   Assigned_Hashtag  \n",
       "AAACCAAAGCCAGTGT-1       TotalSeqB3  \n",
       "AAACCAAAGGCGTCCA-1       TotalSeqB3  \n",
       "AAACCAAAGGTTAGCC-1       TotalSeqB3  \n",
       "AAACCAAAGGTTAGTT-1       TotalSeqB3  \n",
       "AAACCAAAGTACCACA-1       TotalSeqB3  \n",
       "AAACCAAAGTAGCCGT-1       TotalSeqB3  \n",
       "AAACCAAAGTAGGCAG-1       TotalSeqB3  \n",
       "AAACCAAAGTCATGGC-1       TotalSeqB6  \n",
       "AAACCAAAGTCGAAGG-1       TotalSeqB3  \n",
       "AAACCAAAGTTAGGCC-1       TotalSeqB3  "
      ]
     },
     "execution_count": 43,
     "metadata": {},
     "output_type": "execute_result"
    }
   ],
   "source": [
    "hto_counts[\"Assigned_Hashtag\"] = hto_counts.idxmax(axis=1)\n",
    "hto_counts.head(10)"
   ]
  },
  {
   "cell_type": "markdown",
   "metadata": {},
   "source": [
    "Saving the final assigned hashtag as obs and total hashtag counts as obsm"
   ]
  },
  {
   "cell_type": "code",
   "execution_count": 44,
   "metadata": {},
   "outputs": [
    {
     "data": {
      "text/plain": [
       "AnnData object with n_obs × n_vars = 41918 × 32293\n",
       "    obs: 'assigned_hashtag'\n",
       "    var: 'gene_ids', 'feature_types'\n",
       "    obsm: 'hto_counts'"
      ]
     },
     "execution_count": 44,
     "metadata": {},
     "output_type": "execute_result"
    }
   ],
   "source": [
    "hto_counts = hto_counts.apply(pd.to_numeric, errors=\"coerce\")\n",
    "before_cb_raw.obs[\"assigned_hashtag\"] = hto_counts.idxmax(axis=1)\n",
    "before_cb_raw.obsm[\"hto_counts\"] = hto_counts\n",
    "before_cb_raw"
   ]
  },
  {
   "cell_type": "markdown",
   "metadata": {},
   "source": [
    "# Data saving"
   ]
  },
  {
   "cell_type": "code",
   "execution_count": 45,
   "metadata": {},
   "outputs": [
    {
     "name": "stdout",
     "output_type": "stream",
     "text": [
      "Updated AnnData object saved at: ../data/before_cb_raw_with_hashtags_17_02_25.h5ad\n"
     ]
    }
   ],
   "source": [
    "output_path = f\"../data/before_cb_raw_with_hashtags_{timestamp}.h5ad\"\n",
    "before_cb_raw.write(output_path)\n",
    "\n",
    "print(f\"Updated AnnData object saved at: {output_path}\")"
   ]
  }
 ],
 "metadata": {
  "kernelspec": {
   "display_name": "scanpy",
   "language": "python",
   "name": "python3"
  },
  "language_info": {
   "codemirror_mode": {
    "name": "ipython",
    "version": 3
   },
   "file_extension": ".py",
   "mimetype": "text/x-python",
   "name": "python",
   "nbconvert_exporter": "python",
   "pygments_lexer": "ipython3",
   "version": "3.12.2"
  }
 },
 "nbformat": 4,
 "nbformat_minor": 2
}
